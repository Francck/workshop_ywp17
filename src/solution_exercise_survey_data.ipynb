{
 "cells": [
  {
   "cell_type": "code",
   "execution_count": 1,
   "metadata": {
    "collapsed": true,
    "run_control": {
     "frozen": false,
     "read_only": false
    }
   },
   "outputs": [],
   "source": [
    "import pandas as pd\n",
    "import matplotlib.pyplot as plt\n",
    "%matplotlib inline"
   ]
  },
  {
   "cell_type": "markdown",
   "metadata": {},
   "source": [
    "<div class=\"alert alert-info\">\n",
    "Read in the data using the https://pandas.pydata.org/pandas-docs/stable/generated/pandas.read_csv.html procedure\n",
    "</div>"
   ]
  },
  {
   "cell_type": "code",
   "execution_count": 2,
   "metadata": {
    "run_control": {
     "frozen": false,
     "read_only": false
    }
   },
   "outputs": [
    {
     "data": {
      "text/html": [
       "<div>\n",
       "<style>\n",
       "    .dataframe thead tr:only-child th {\n",
       "        text-align: right;\n",
       "    }\n",
       "\n",
       "    .dataframe thead th {\n",
       "        text-align: left;\n",
       "    }\n",
       "\n",
       "    .dataframe tbody tr th {\n",
       "        vertical-align: top;\n",
       "    }\n",
       "</style>\n",
       "<table border=\"1\" class=\"dataframe\">\n",
       "  <thead>\n",
       "    <tr style=\"text-align: right;\">\n",
       "      <th></th>\n",
       "      <th>field_season</th>\n",
       "      <th>date_collected</th>\n",
       "      <th>plot_id</th>\n",
       "      <th>sex</th>\n",
       "      <th>weight</th>\n",
       "      <th>species</th>\n",
       "      <th>calibrated_scale</th>\n",
       "    </tr>\n",
       "  </thead>\n",
       "  <tbody>\n",
       "    <tr>\n",
       "      <th>0</th>\n",
       "      <td>2013</td>\n",
       "      <td>7/16/2013</td>\n",
       "      <td>2</td>\n",
       "      <td>F</td>\n",
       "      <td>NaN</td>\n",
       "      <td>DM</td>\n",
       "      <td>calibrated</td>\n",
       "    </tr>\n",
       "    <tr>\n",
       "      <th>1</th>\n",
       "      <td>2013</td>\n",
       "      <td>7/16/2013</td>\n",
       "      <td>7</td>\n",
       "      <td>M</td>\n",
       "      <td>33.0</td>\n",
       "      <td>DM</td>\n",
       "      <td>calibrated</td>\n",
       "    </tr>\n",
       "    <tr>\n",
       "      <th>2</th>\n",
       "      <td>2013</td>\n",
       "      <td>7/16/2013</td>\n",
       "      <td>3</td>\n",
       "      <td>M</td>\n",
       "      <td>NaN</td>\n",
       "      <td>DM</td>\n",
       "      <td>calibrated</td>\n",
       "    </tr>\n",
       "    <tr>\n",
       "      <th>3</th>\n",
       "      <td>2013</td>\n",
       "      <td>7/16/2013</td>\n",
       "      <td>1</td>\n",
       "      <td>M</td>\n",
       "      <td>NaN</td>\n",
       "      <td>DM</td>\n",
       "      <td>calibrated</td>\n",
       "    </tr>\n",
       "    <tr>\n",
       "      <th>4</th>\n",
       "      <td>2013</td>\n",
       "      <td>7/18/2013</td>\n",
       "      <td>3</td>\n",
       "      <td>M</td>\n",
       "      <td>40.0</td>\n",
       "      <td>DM</td>\n",
       "      <td>calibrated</td>\n",
       "    </tr>\n",
       "  </tbody>\n",
       "</table>\n",
       "</div>"
      ],
      "text/plain": [
       "   field_season date_collected  plot_id sex  weight species calibrated_scale\n",
       "0          2013      7/16/2013        2   F     NaN      DM       calibrated\n",
       "1          2013      7/16/2013        7   M    33.0      DM       calibrated\n",
       "2          2013      7/16/2013        3   M     NaN      DM       calibrated\n",
       "3          2013      7/16/2013        1   M     NaN      DM       calibrated\n",
       "4          2013      7/18/2013        3   M    40.0      DM       calibrated"
      ]
     },
     "execution_count": 2,
     "metadata": {},
     "output_type": "execute_result"
    }
   ],
   "source": [
    "survey_data = pd.read_csv(\"../data/survey_data_spreadsheet_clean.csv\", delimiter=\",\")\n",
    "survey_data.head()"
   ]
  },
  {
   "cell_type": "markdown",
   "metadata": {},
   "source": [
    "<div class=\"alert alert-info\">\n",
    "Groupby the data  by `sex` and calculate the mean value for both groups, selecting the `weight` as variable\n",
    "</div>"
   ]
  },
  {
   "cell_type": "code",
   "execution_count": 3,
   "metadata": {
    "run_control": {
     "frozen": false,
     "read_only": false
    }
   },
   "outputs": [
    {
     "data": {
      "text/plain": [
       "sex\n",
       "F    65.510638\n",
       "M    64.000000\n",
       "Name: weight, dtype: float64"
      ]
     },
     "execution_count": 3,
     "metadata": {},
     "output_type": "execute_result"
    }
   ],
   "source": [
    "survey_data.groupby(\"sex\").mean()['weight']"
   ]
  },
  {
   "cell_type": "code",
   "execution_count": 4,
   "metadata": {
    "run_control": {
     "frozen": false,
     "read_only": false
    }
   },
   "outputs": [
    {
     "data": {
      "text/plain": [
       "plot_id\n",
       "1     146.0\n",
       "2     218.0\n",
       "3     232.0\n",
       "4     128.0\n",
       "6      37.0\n",
       "7      48.0\n",
       "8      52.0\n",
       "9     120.0\n",
       "11    126.0\n",
       "14    113.0\n",
       "17    132.0\n",
       "20    115.0\n",
       "Name: weight, dtype: float64"
      ]
     },
     "execution_count": 4,
     "metadata": {},
     "output_type": "execute_result"
    }
   ],
   "source": [
    "survey_data.groupby(\"plot_id\").max()['weight']"
   ]
  },
  {
   "cell_type": "markdown",
   "metadata": {},
   "source": [
    "Want to make a plot of the weight?"
   ]
  },
  {
   "cell_type": "code",
   "execution_count": 5,
   "metadata": {
    "run_control": {
     "frozen": false,
     "read_only": false
    }
   },
   "outputs": [
    {
     "data": {
      "text/plain": [
       "<matplotlib.axes._subplots.AxesSubplot at 0x7f55a649bc88>"
      ]
     },
     "execution_count": 5,
     "metadata": {},
     "output_type": "execute_result"
    },
    {
     "data": {
      "image/png": "[encoded data removed]",
      "text/plain": [
       "<matplotlib.figure.Figure at 0x7f55a64e6208>"
      ]
     },
     "metadata": {},
     "output_type": "display_data"
    }
   ],
   "source": [
    "survey_data.groupby(\"sex\").mean()['weight'].plot.bar()"
   ]
  },
  {
   "cell_type": "markdown",
   "metadata": {},
   "source": [
    "<div class=\"alert alert-info\">\n",
    "Write the data directly linked to a plot for the report into an individual `result_sex_weight_barplot.csv` file\n",
    "</div>"
   ]
  },
  {
   "cell_type": "code",
   "execution_count": 6,
   "metadata": {
    "collapsed": true,
    "run_control": {
     "frozen": false,
     "read_only": false
    }
   },
   "outputs": [],
   "source": [
    "pd.DataFrame(survey_data.groupby(\"sex\").mean()['weight']).to_csv(\"../data/result_sex_weight_barplot.csv\")"
   ]
  },
  {
   "cell_type": "markdown",
   "metadata": {},
   "source": [
    "<div class=\"alert alert-info\">\n",
    "**DONE!**\n",
    "</div>"
   ]
  },
  {
   "cell_type": "markdown",
   "metadata": {},
   "source": [
    "## What else?"
   ]
  },
  {
   "cell_type": "markdown",
   "metadata": {},
   "source": [
    "Making interpretable , `to_datetime`"
   ]
  },
  {
   "cell_type": "code",
   "execution_count": 7,
   "metadata": {
    "run_control": {
     "frozen": false,
     "read_only": false
    }
   },
   "outputs": [
    {
     "data": {
      "text/html": [
       "<div>\n",
       "<style>\n",
       "    .dataframe thead tr:only-child th {\n",
       "        text-align: right;\n",
       "    }\n",
       "\n",
       "    .dataframe thead th {\n",
       "        text-align: left;\n",
       "    }\n",
       "\n",
       "    .dataframe tbody tr th {\n",
       "        vertical-align: top;\n",
       "    }\n",
       "</style>\n",
       "<table border=\"1\" class=\"dataframe\">\n",
       "  <thead>\n",
       "    <tr style=\"text-align: right;\">\n",
       "      <th></th>\n",
       "      <th>field_season</th>\n",
       "      <th>date_collected</th>\n",
       "      <th>plot_id</th>\n",
       "      <th>sex</th>\n",
       "      <th>weight</th>\n",
       "      <th>species</th>\n",
       "      <th>calibrated_scale</th>\n",
       "    </tr>\n",
       "  </thead>\n",
       "  <tbody>\n",
       "    <tr>\n",
       "      <th>0</th>\n",
       "      <td>2013</td>\n",
       "      <td>2013-07-16</td>\n",
       "      <td>2</td>\n",
       "      <td>F</td>\n",
       "      <td>NaN</td>\n",
       "      <td>DM</td>\n",
       "      <td>calibrated</td>\n",
       "    </tr>\n",
       "    <tr>\n",
       "      <th>1</th>\n",
       "      <td>2013</td>\n",
       "      <td>2013-07-16</td>\n",
       "      <td>7</td>\n",
       "      <td>M</td>\n",
       "      <td>33.0</td>\n",
       "      <td>DM</td>\n",
       "      <td>calibrated</td>\n",
       "    </tr>\n",
       "    <tr>\n",
       "      <th>2</th>\n",
       "      <td>2013</td>\n",
       "      <td>2013-07-16</td>\n",
       "      <td>3</td>\n",
       "      <td>M</td>\n",
       "      <td>NaN</td>\n",
       "      <td>DM</td>\n",
       "      <td>calibrated</td>\n",
       "    </tr>\n",
       "    <tr>\n",
       "      <th>3</th>\n",
       "      <td>2013</td>\n",
       "      <td>2013-07-16</td>\n",
       "      <td>1</td>\n",
       "      <td>M</td>\n",
       "      <td>NaN</td>\n",
       "      <td>DM</td>\n",
       "      <td>calibrated</td>\n",
       "    </tr>\n",
       "    <tr>\n",
       "      <th>4</th>\n",
       "      <td>2013</td>\n",
       "      <td>2013-07-18</td>\n",
       "      <td>3</td>\n",
       "      <td>M</td>\n",
       "      <td>40.0</td>\n",
       "      <td>DM</td>\n",
       "      <td>calibrated</td>\n",
       "    </tr>\n",
       "  </tbody>\n",
       "</table>\n",
       "</div>"
      ],
      "text/plain": [
       "   field_season date_collected  plot_id sex  weight species calibrated_scale\n",
       "0          2013     2013-07-16        2   F     NaN      DM       calibrated\n",
       "1          2013     2013-07-16        7   M    33.0      DM       calibrated\n",
       "2          2013     2013-07-16        3   M     NaN      DM       calibrated\n",
       "3          2013     2013-07-16        1   M     NaN      DM       calibrated\n",
       "4          2013     2013-07-18        3   M    40.0      DM       calibrated"
      ]
     },
     "execution_count": 7,
     "metadata": {},
     "output_type": "execute_result"
    }
   ],
   "source": [
    "survey_data['date_collected'] = pd.to_datetime(survey_data['date_collected'])\n",
    "survey_data.head()"
   ]
  },
  {
   "cell_type": "markdown",
   "metadata": {},
   "source": [
    "Now Python understands that we 're dealing with dates, we can make use of this..."
   ]
  },
  {
   "cell_type": "code",
   "execution_count": 8,
   "metadata": {
    "collapsed": true,
    "run_control": {
     "frozen": false,
     "read_only": false
    }
   },
   "outputs": [],
   "source": [
    "dates_info = survey_data.loc[:2, 'date_collected'].dt"
   ]
  },
  {
   "cell_type": "markdown",
   "metadata": {},
   "source": [
    "Example:"
   ]
  },
  {
   "cell_type": "code",
   "execution_count": 9,
   "metadata": {
    "run_control": {
     "frozen": false,
     "read_only": false
    }
   },
   "outputs": [
    {
     "data": {
      "text/plain": [
       "0    7\n",
       "1    7\n",
       "2    7\n",
       "Name: date_collected, dtype: int64"
      ]
     },
     "execution_count": 9,
     "metadata": {},
     "output_type": "execute_result"
    }
   ],
   "source": [
    "dates_info.month"
   ]
  },
  {
   "cell_type": "markdown",
   "metadata": {},
   "source": [
    "**Use the TAB-button to get more information...**"
   ]
  },
  {
   "cell_type": "code",
   "execution_count": 10,
   "metadata": {
    "run_control": {
     "frozen": false,
     "read_only": false
    }
   },
   "outputs": [
    {
     "data": {
      "text/plain": [
       "0    Tuesday\n",
       "1    Tuesday\n",
       "2    Tuesday\n",
       "Name: date_collected, dtype: object"
      ]
     },
     "execution_count": 10,
     "metadata": {},
     "output_type": "execute_result"
    }
   ],
   "source": [
    "dates_info.weekday_name"
   ]
  },
  {
   "cell_type": "markdown",
   "metadata": {},
   "source": [
    "Hm, let's have a look on the days that surveys were performed:"
   ]
  },
  {
   "cell_type": "code",
   "execution_count": 11,
   "metadata": {
    "run_control": {
     "frozen": false,
     "read_only": false
    }
   },
   "outputs": [
    {
     "data": {
      "text/html": [
       "<div>\n",
       "<style>\n",
       "    .dataframe thead tr:only-child th {\n",
       "        text-align: right;\n",
       "    }\n",
       "\n",
       "    .dataframe thead th {\n",
       "        text-align: left;\n",
       "    }\n",
       "\n",
       "    .dataframe tbody tr th {\n",
       "        vertical-align: top;\n",
       "    }\n",
       "</style>\n",
       "<table border=\"1\" class=\"dataframe\">\n",
       "  <thead>\n",
       "    <tr style=\"text-align: right;\">\n",
       "      <th></th>\n",
       "      <th>field_season</th>\n",
       "      <th>date_collected</th>\n",
       "      <th>plot_id</th>\n",
       "      <th>sex</th>\n",
       "      <th>weight</th>\n",
       "      <th>species</th>\n",
       "      <th>calibrated_scale</th>\n",
       "    </tr>\n",
       "  </thead>\n",
       "  <tbody>\n",
       "    <tr>\n",
       "      <th>0</th>\n",
       "      <td>2013</td>\n",
       "      <td>2013-07-16</td>\n",
       "      <td>2</td>\n",
       "      <td>F</td>\n",
       "      <td>NaN</td>\n",
       "      <td>DM</td>\n",
       "      <td>calibrated</td>\n",
       "    </tr>\n",
       "    <tr>\n",
       "      <th>1</th>\n",
       "      <td>2013</td>\n",
       "      <td>2013-07-16</td>\n",
       "      <td>7</td>\n",
       "      <td>M</td>\n",
       "      <td>33.0</td>\n",
       "      <td>DM</td>\n",
       "      <td>calibrated</td>\n",
       "    </tr>\n",
       "    <tr>\n",
       "      <th>2</th>\n",
       "      <td>2013</td>\n",
       "      <td>2013-07-16</td>\n",
       "      <td>3</td>\n",
       "      <td>M</td>\n",
       "      <td>NaN</td>\n",
       "      <td>DM</td>\n",
       "      <td>calibrated</td>\n",
       "    </tr>\n",
       "    <tr>\n",
       "      <th>3</th>\n",
       "      <td>2013</td>\n",
       "      <td>2013-07-16</td>\n",
       "      <td>1</td>\n",
       "      <td>M</td>\n",
       "      <td>NaN</td>\n",
       "      <td>DM</td>\n",
       "      <td>calibrated</td>\n",
       "    </tr>\n",
       "    <tr>\n",
       "      <th>20</th>\n",
       "      <td>2013</td>\n",
       "      <td>2013-11-12</td>\n",
       "      <td>1</td>\n",
       "      <td>F</td>\n",
       "      <td>44.0</td>\n",
       "      <td>DO</td>\n",
       "      <td>calibrated</td>\n",
       "    </tr>\n",
       "    <tr>\n",
       "      <th>21</th>\n",
       "      <td>2013</td>\n",
       "      <td>2013-11-12</td>\n",
       "      <td>1</td>\n",
       "      <td>M</td>\n",
       "      <td>48.0</td>\n",
       "      <td>DO</td>\n",
       "      <td>calibrated</td>\n",
       "    </tr>\n",
       "    <tr>\n",
       "      <th>23</th>\n",
       "      <td>2013</td>\n",
       "      <td>2013-12-10</td>\n",
       "      <td>9</td>\n",
       "      <td>F</td>\n",
       "      <td>40.0</td>\n",
       "      <td>DO</td>\n",
       "      <td>calibrated</td>\n",
       "    </tr>\n",
       "    <tr>\n",
       "      <th>24</th>\n",
       "      <td>2013</td>\n",
       "      <td>2013-12-10</td>\n",
       "      <td>1</td>\n",
       "      <td>M</td>\n",
       "      <td>45.0</td>\n",
       "      <td>DO</td>\n",
       "      <td>calibrated</td>\n",
       "    </tr>\n",
       "    <tr>\n",
       "      <th>26</th>\n",
       "      <td>2013</td>\n",
       "      <td>2013-11-12</td>\n",
       "      <td>9</td>\n",
       "      <td>F</td>\n",
       "      <td>117.0</td>\n",
       "      <td>DS</td>\n",
       "      <td>calibrated</td>\n",
       "    </tr>\n",
       "    <tr>\n",
       "      <th>27</th>\n",
       "      <td>2013</td>\n",
       "      <td>2013-11-12</td>\n",
       "      <td>1</td>\n",
       "      <td>F</td>\n",
       "      <td>121.0</td>\n",
       "      <td>DS</td>\n",
       "      <td>calibrated</td>\n",
       "    </tr>\n",
       "    <tr>\n",
       "      <th>28</th>\n",
       "      <td>2013</td>\n",
       "      <td>2013-11-12</td>\n",
       "      <td>20</td>\n",
       "      <td>M</td>\n",
       "      <td>115.0</td>\n",
       "      <td>DS</td>\n",
       "      <td>calibrated</td>\n",
       "    </tr>\n",
       "    <tr>\n",
       "      <th>29</th>\n",
       "      <td>2013</td>\n",
       "      <td>2013-11-12</td>\n",
       "      <td>9</td>\n",
       "      <td>F</td>\n",
       "      <td>120.0</td>\n",
       "      <td>DS</td>\n",
       "      <td>calibrated</td>\n",
       "    </tr>\n",
       "    <tr>\n",
       "      <th>62</th>\n",
       "      <td>2014</td>\n",
       "      <td>2014-02-18</td>\n",
       "      <td>2</td>\n",
       "      <td>M</td>\n",
       "      <td>218.0</td>\n",
       "      <td>NaN</td>\n",
       "      <td>not_calibrated</td>\n",
       "    </tr>\n",
       "    <tr>\n",
       "      <th>63</th>\n",
       "      <td>2014</td>\n",
       "      <td>2014-02-18</td>\n",
       "      <td>2</td>\n",
       "      <td>F</td>\n",
       "      <td>7.0</td>\n",
       "      <td>PF</td>\n",
       "      <td>calibrated</td>\n",
       "    </tr>\n",
       "    <tr>\n",
       "      <th>64</th>\n",
       "      <td>2014</td>\n",
       "      <td>2014-02-18</td>\n",
       "      <td>2</td>\n",
       "      <td>M</td>\n",
       "      <td>52.0</td>\n",
       "      <td>DM</td>\n",
       "      <td>calibrated</td>\n",
       "    </tr>\n",
       "    <tr>\n",
       "      <th>66</th>\n",
       "      <td>2014</td>\n",
       "      <td>2014-02-18</td>\n",
       "      <td>3</td>\n",
       "      <td>M</td>\n",
       "      <td>24.0</td>\n",
       "      <td>OT</td>\n",
       "      <td>calibrated</td>\n",
       "    </tr>\n",
       "    <tr>\n",
       "      <th>67</th>\n",
       "      <td>2014</td>\n",
       "      <td>2014-02-18</td>\n",
       "      <td>3</td>\n",
       "      <td>F</td>\n",
       "      <td>23.0</td>\n",
       "      <td>OT</td>\n",
       "      <td>calibrated</td>\n",
       "    </tr>\n",
       "    <tr>\n",
       "      <th>68</th>\n",
       "      <td>2014</td>\n",
       "      <td>2014-03-11</td>\n",
       "      <td>3</td>\n",
       "      <td>M</td>\n",
       "      <td>232.0</td>\n",
       "      <td>NaN</td>\n",
       "      <td>calibrated</td>\n",
       "    </tr>\n",
       "    <tr>\n",
       "      <th>69</th>\n",
       "      <td>2014</td>\n",
       "      <td>2014-03-11</td>\n",
       "      <td>3</td>\n",
       "      <td>F</td>\n",
       "      <td>22.0</td>\n",
       "      <td>OT</td>\n",
       "      <td>calibrated</td>\n",
       "    </tr>\n",
       "    <tr>\n",
       "      <th>70</th>\n",
       "      <td>2014</td>\n",
       "      <td>2014-03-11</td>\n",
       "      <td>3</td>\n",
       "      <td>M</td>\n",
       "      <td>26.0</td>\n",
       "      <td>OT</td>\n",
       "      <td>calibrated</td>\n",
       "    </tr>\n",
       "    <tr>\n",
       "      <th>71</th>\n",
       "      <td>2014</td>\n",
       "      <td>2014-03-11</td>\n",
       "      <td>3</td>\n",
       "      <td>M</td>\n",
       "      <td>8.0</td>\n",
       "      <td>PF</td>\n",
       "      <td>calibrated</td>\n",
       "    </tr>\n",
       "    <tr>\n",
       "      <th>72</th>\n",
       "      <td>2014</td>\n",
       "      <td>2014-04-08</td>\n",
       "      <td>3</td>\n",
       "      <td>F</td>\n",
       "      <td>NaN</td>\n",
       "      <td>NaN</td>\n",
       "      <td>calibrated</td>\n",
       "    </tr>\n",
       "    <tr>\n",
       "      <th>73</th>\n",
       "      <td>2014</td>\n",
       "      <td>2014-05-06</td>\n",
       "      <td>3</td>\n",
       "      <td>NaN</td>\n",
       "      <td>NaN</td>\n",
       "      <td>NaN</td>\n",
       "      <td>calibrated</td>\n",
       "    </tr>\n",
       "    <tr>\n",
       "      <th>76</th>\n",
       "      <td>2014</td>\n",
       "      <td>2014-07-08</td>\n",
       "      <td>3</td>\n",
       "      <td>F</td>\n",
       "      <td>115.0</td>\n",
       "      <td>NaN</td>\n",
       "      <td>calibrated</td>\n",
       "    </tr>\n",
       "    <tr>\n",
       "      <th>77</th>\n",
       "      <td>2014</td>\n",
       "      <td>2014-07-08</td>\n",
       "      <td>3</td>\n",
       "      <td>M</td>\n",
       "      <td>190.0</td>\n",
       "      <td>NaN</td>\n",
       "      <td>calibrated</td>\n",
       "    </tr>\n",
       "  </tbody>\n",
       "</table>\n",
       "</div>"
      ],
      "text/plain": [
       "    field_season date_collected  plot_id  sex  weight species calibrated_scale\n",
       "0           2013     2013-07-16        2    F     NaN      DM       calibrated\n",
       "1           2013     2013-07-16        7    M    33.0      DM       calibrated\n",
       "2           2013     2013-07-16        3    M     NaN      DM       calibrated\n",
       "3           2013     2013-07-16        1    M     NaN      DM       calibrated\n",
       "20          2013     2013-11-12        1    F    44.0      DO       calibrated\n",
       "21          2013     2013-11-12        1    M    48.0      DO       calibrated\n",
       "23          2013     2013-12-10        9    F    40.0      DO       calibrated\n",
       "24          2013     2013-12-10        1    M    45.0      DO       calibrated\n",
       "26          2013     2013-11-12        9    F   117.0      DS       calibrated\n",
       "27          2013     2013-11-12        1    F   121.0      DS       calibrated\n",
       "28          2013     2013-11-12       20    M   115.0      DS       calibrated\n",
       "29          2013     2013-11-12        9    F   120.0      DS       calibrated\n",
       "62          2014     2014-02-18        2    M   218.0     NaN   not_calibrated\n",
       "63          2014     2014-02-18        2    F     7.0      PF       calibrated\n",
       "64          2014     2014-02-18        2    M    52.0      DM       calibrated\n",
       "66          2014     2014-02-18        3    M    24.0      OT       calibrated\n",
       "67          2014     2014-02-18        3    F    23.0      OT       calibrated\n",
       "68          2014     2014-03-11        3    M   232.0     NaN       calibrated\n",
       "69          2014     2014-03-11        3    F    22.0      OT       calibrated\n",
       "70          2014     2014-03-11        3    M    26.0      OT       calibrated\n",
       "71          2014     2014-03-11        3    M     8.0      PF       calibrated\n",
       "72          2014     2014-04-08        3    F     NaN     NaN       calibrated\n",
       "73          2014     2014-05-06        3  NaN     NaN     NaN       calibrated\n",
       "76          2014     2014-07-08        3    F   115.0     NaN       calibrated\n",
       "77          2014     2014-07-08        3    M   190.0     NaN       calibrated"
      ]
     },
     "execution_count": 11,
     "metadata": {},
     "output_type": "execute_result"
    }
   ],
   "source": [
    "survey_data[survey_data['date_collected'].dt.weekday_name == 'Tuesday']  # Sunday?"
   ]
  },
  {
   "cell_type": "markdown",
   "metadata": {},
   "source": [
    "Would be more interesting to know the counts for each group..."
   ]
  },
  {
   "cell_type": "code",
   "execution_count": 12,
   "metadata": {
    "run_control": {
     "frozen": false,
     "read_only": false
    }
   },
   "outputs": [
    {
     "data": {
      "text/html": [
       "<div>\n",
       "<style>\n",
       "    .dataframe thead tr:only-child th {\n",
       "        text-align: right;\n",
       "    }\n",
       "\n",
       "    .dataframe thead th {\n",
       "        text-align: left;\n",
       "    }\n",
       "\n",
       "    .dataframe tbody tr th {\n",
       "        vertical-align: top;\n",
       "    }\n",
       "</style>\n",
       "<table border=\"1\" class=\"dataframe\">\n",
       "  <thead>\n",
       "    <tr style=\"text-align: right;\">\n",
       "      <th></th>\n",
       "      <th>field_season</th>\n",
       "      <th>date_collected</th>\n",
       "      <th>plot_id</th>\n",
       "      <th>sex</th>\n",
       "      <th>weight</th>\n",
       "      <th>species</th>\n",
       "      <th>calibrated_scale</th>\n",
       "      <th>weekday</th>\n",
       "    </tr>\n",
       "  </thead>\n",
       "  <tbody>\n",
       "    <tr>\n",
       "      <th>0</th>\n",
       "      <td>2013</td>\n",
       "      <td>2013-07-16</td>\n",
       "      <td>2</td>\n",
       "      <td>F</td>\n",
       "      <td>NaN</td>\n",
       "      <td>DM</td>\n",
       "      <td>calibrated</td>\n",
       "      <td>Tuesday</td>\n",
       "    </tr>\n",
       "    <tr>\n",
       "      <th>1</th>\n",
       "      <td>2013</td>\n",
       "      <td>2013-07-16</td>\n",
       "      <td>7</td>\n",
       "      <td>M</td>\n",
       "      <td>33.0</td>\n",
       "      <td>DM</td>\n",
       "      <td>calibrated</td>\n",
       "      <td>Tuesday</td>\n",
       "    </tr>\n",
       "    <tr>\n",
       "      <th>2</th>\n",
       "      <td>2013</td>\n",
       "      <td>2013-07-16</td>\n",
       "      <td>3</td>\n",
       "      <td>M</td>\n",
       "      <td>NaN</td>\n",
       "      <td>DM</td>\n",
       "      <td>calibrated</td>\n",
       "      <td>Tuesday</td>\n",
       "    </tr>\n",
       "    <tr>\n",
       "      <th>3</th>\n",
       "      <td>2013</td>\n",
       "      <td>2013-07-16</td>\n",
       "      <td>1</td>\n",
       "      <td>M</td>\n",
       "      <td>NaN</td>\n",
       "      <td>DM</td>\n",
       "      <td>calibrated</td>\n",
       "      <td>Tuesday</td>\n",
       "    </tr>\n",
       "    <tr>\n",
       "      <th>4</th>\n",
       "      <td>2013</td>\n",
       "      <td>2013-07-18</td>\n",
       "      <td>3</td>\n",
       "      <td>M</td>\n",
       "      <td>40.0</td>\n",
       "      <td>DM</td>\n",
       "      <td>calibrated</td>\n",
       "      <td>Thursday</td>\n",
       "    </tr>\n",
       "  </tbody>\n",
       "</table>\n",
       "</div>"
      ],
      "text/plain": [
       "   field_season date_collected  plot_id sex  weight species calibrated_scale  \\\n",
       "0          2013     2013-07-16        2   F     NaN      DM       calibrated   \n",
       "1          2013     2013-07-16        7   M    33.0      DM       calibrated   \n",
       "2          2013     2013-07-16        3   M     NaN      DM       calibrated   \n",
       "3          2013     2013-07-16        1   M     NaN      DM       calibrated   \n",
       "4          2013     2013-07-18        3   M    40.0      DM       calibrated   \n",
       "\n",
       "    weekday  \n",
       "0   Tuesday  \n",
       "1   Tuesday  \n",
       "2   Tuesday  \n",
       "3   Tuesday  \n",
       "4  Thursday  "
      ]
     },
     "execution_count": 12,
     "metadata": {},
     "output_type": "execute_result"
    }
   ],
   "source": [
    "survey_data[\"weekday\"] = survey_data['date_collected'].dt.weekday_name\n",
    "survey_data.head()"
   ]
  },
  {
   "cell_type": "code",
   "execution_count": 13,
   "metadata": {
    "run_control": {
     "frozen": false,
     "read_only": false
    }
   },
   "outputs": [
    {
     "data": {
      "text/plain": [
       "Wednesday    35\n",
       "Tuesday      25\n",
       "Thursday     21\n",
       "Monday        5\n",
       "Friday        1\n",
       "Sunday        1\n",
       "Name: weekday, dtype: int64"
      ]
     },
     "execution_count": 13,
     "metadata": {},
     "output_type": "execute_result"
    }
   ],
   "source": [
    "survey_data[\"weekday\"].value_counts()"
   ]
  },
  {
   "cell_type": "markdown",
   "metadata": {},
   "source": [
    "https://pandas.pydata.org/pandas-docs/stable/generated/pandas.DatetimeIndex.weekday.html"
   ]
  },
  {
   "cell_type": "code",
   "execution_count": 14,
   "metadata": {
    "collapsed": true,
    "run_control": {
     "frozen": false,
     "read_only": false
    }
   },
   "outputs": [],
   "source": [
    "counts_weekday = survey_data['date_collected'].dt.weekday.value_counts(sort=False)\n",
    "counts_weekday.loc[5] = 0"
   ]
  },
  {
   "cell_type": "code",
   "execution_count": 15,
   "metadata": {
    "run_control": {
     "frozen": false,
     "read_only": false
    }
   },
   "outputs": [
    {
     "data": {
      "image/png": "[encoded data removed]",
      "text/plain": [
       "<matplotlib.figure.Figure at 0x7f55a63cb160>"
      ]
     },
     "metadata": {},
     "output_type": "display_data"
    }
   ],
   "source": [
    "fig, ax = plt.subplots()\n",
    "counts_weekday.sort_index().plot.barh(ax=ax)\n",
    "ticks = ax.set_yticklabels([\"Mon\", \"Tue\", \"Wed\", \"Thu\", \"Fri\", \"Sat\", 'Sun'])"
   ]
  },
  {
   "cell_type": "code",
   "execution_count": 18,
   "metadata": {
    "run_control": {
     "frozen": false,
     "read_only": false
    }
   },
   "outputs": [],
   "source": [
    "from plotnine import (ggplot, aes, geom_bar, stat_smooth, \n",
    "                      stat_boxplot, geom_point, facet_wrap)"
   ]
  },
  {
   "cell_type": "code",
   "execution_count": 17,
   "metadata": {
    "run_control": {
     "frozen": false,
     "read_only": false
    }
   },
   "outputs": [
    {
     "data": {
      "image/png": "[encoded data removed]",
      "text/plain": [
       "<matplotlib.figure.Figure at 0x7f5595733908>"
      ]
     },
     "metadata": {},
     "output_type": "display_data"
    },
    {
     "data": {
      "text/plain": [
       "<ggplot: (-9223363286507466103)>"
      ]
     },
     "execution_count": 17,
     "metadata": {},
     "output_type": "execute_result"
    }
   ],
   "source": [
    "ggplot(survey_data.dropna(), aes(x='sex', y='weight', fill='factor(field_season)')) \\\n",
    "    + geom_bar(stat='identity', position='dodge') + facet_wrap('~plot_id')"
   ]
  },
  {
   "cell_type": "code",
   "execution_count": null,
   "metadata": {
    "collapsed": true,
    "run_control": {
     "frozen": false,
     "read_only": false
    }
   },
   "outputs": [],
   "source": []
  }
 ],
 "metadata": {
  "kernelspec": {
   "display_name": "Python 3",
   "language": "python",
   "name": "python3"
  },
  "language_info": {
   "codemirror_mode": {
    "name": "ipython",
    "version": 3
   },
   "file_extension": ".py",
   "mimetype": "text/x-python",
   "name": "python",
   "nbconvert_exporter": "python",
   "pygments_lexer": "ipython3",
   "version": "3.5.3"
  },
  "nav_menu": {},
  "toc": {
   "navigate_menu": true,
   "number_sections": true,
   "sideBar": true,
   "threshold": 6,
   "toc_cell": false,
   "toc_section_display": "block",
   "toc_window_display": false
  }
 },
 "nbformat": 4,
 "nbformat_minor": 2
}
