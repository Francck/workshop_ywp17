{
 "cells": [
  {
   "cell_type": "code",
   "execution_count": 1,
   "metadata": {
    "collapsed": true,
    "run_control": {
     "frozen": false,
     "read_only": false
    }
   },
   "outputs": [],
   "source": [
    "import pandas as pd\n",
    "import seaborn as sns\n",
    "%matplotlib inline"
   ]
  },
  {
   "cell_type": "code",
   "execution_count": 2,
   "metadata": {
    "collapsed": true,
    "run_control": {
     "frozen": false,
     "read_only": false
    }
   },
   "outputs": [],
   "source": [
    "mydata = pd.read_csv(\"../data/tidy_intro_1.txt\", delimiter=\",\")"
   ]
  },
  {
   "cell_type": "code",
   "execution_count": 3,
   "metadata": {
    "run_control": {
     "frozen": false,
     "read_only": false
    }
   },
   "outputs": [
    {
     "data": {
      "text/html": [
       "<div>\n",
       "<style>\n",
       "    .dataframe thead tr:only-child th {\n",
       "        text-align: right;\n",
       "    }\n",
       "\n",
       "    .dataframe thead th {\n",
       "        text-align: left;\n",
       "    }\n",
       "\n",
       "    .dataframe tbody tr th {\n",
       "        vertical-align: top;\n",
       "    }\n",
       "</style>\n",
       "<table border=\"1\" class=\"dataframe\">\n",
       "  <thead>\n",
       "    <tr style=\"text-align: right;\">\n",
       "      <th></th>\n",
       "      <th>WWTP</th>\n",
       "      <th>Treatment</th>\n",
       "      <th>pH</th>\n",
       "    </tr>\n",
       "  </thead>\n",
       "  <tbody>\n",
       "    <tr>\n",
       "      <th>0</th>\n",
       "      <td>Destelbergen</td>\n",
       "      <td>A</td>\n",
       "      <td>8.0</td>\n",
       "    </tr>\n",
       "    <tr>\n",
       "      <th>1</th>\n",
       "      <td>Landegem</td>\n",
       "      <td>A</td>\n",
       "      <td>7.5</td>\n",
       "    </tr>\n",
       "    <tr>\n",
       "      <th>2</th>\n",
       "      <td>Dendermonde</td>\n",
       "      <td>A</td>\n",
       "      <td>8.3</td>\n",
       "    </tr>\n",
       "    <tr>\n",
       "      <th>3</th>\n",
       "      <td>Eeklo</td>\n",
       "      <td>A</td>\n",
       "      <td>6.5</td>\n",
       "    </tr>\n",
       "    <tr>\n",
       "      <th>4</th>\n",
       "      <td>Destelbergen</td>\n",
       "      <td>B</td>\n",
       "      <td>6.3</td>\n",
       "    </tr>\n",
       "    <tr>\n",
       "      <th>5</th>\n",
       "      <td>Landegem</td>\n",
       "      <td>B</td>\n",
       "      <td>5.2</td>\n",
       "    </tr>\n",
       "    <tr>\n",
       "      <th>6</th>\n",
       "      <td>Dendermonde</td>\n",
       "      <td>B</td>\n",
       "      <td>6.2</td>\n",
       "    </tr>\n",
       "    <tr>\n",
       "      <th>7</th>\n",
       "      <td>Eeklo</td>\n",
       "      <td>B</td>\n",
       "      <td>7.2</td>\n",
       "    </tr>\n",
       "  </tbody>\n",
       "</table>\n",
       "</div>"
      ],
      "text/plain": [
       "           WWTP Treatment   pH\n",
       "0  Destelbergen         A  8.0\n",
       "1      Landegem         A  7.5\n",
       "2   Dendermonde         A  8.3\n",
       "3         Eeklo         A  6.5\n",
       "4  Destelbergen         B  6.3\n",
       "5      Landegem         B  5.2\n",
       "6   Dendermonde         B  6.2\n",
       "7         Eeklo         B  7.2"
      ]
     },
     "execution_count": 3,
     "metadata": {},
     "output_type": "execute_result"
    }
   ],
   "source": [
    "mydata"
   ]
  },
  {
   "cell_type": "markdown",
   "metadata": {},
   "source": [
    "# I need the short-format..."
   ]
  },
  {
   "cell_type": "markdown",
   "metadata": {},
   "source": [
    "For visualisations and to get a quick comparison, the short form can be required:\n",
    "\n",
    "| WWTP | Treatment A | Treatment B |\n",
    "|:------|-------------|-------------|\n",
    "| Dendermonde | 8.3  | 6.2 |\n",
    "| Destelbergen | 8.  | 6.3 |\n",
    "| Eeklo | 6.5  | 7.2 |\n",
    "| Landegem | 7.5  | 5.2 |"
   ]
  },
  {
   "cell_type": "markdown",
   "metadata": {},
   "source": [
    "The `pivot` and `pivot_table` commands will provide you a convenient way to get there, starting from the tidy version:"
   ]
  },
  {
   "cell_type": "code",
   "execution_count": 4,
   "metadata": {
    "run_control": {
     "frozen": false,
     "read_only": false
    },
    "scrolled": true
   },
   "outputs": [
    {
     "data": {
      "text/html": [
       "<div>\n",
       "<style>\n",
       "    .dataframe thead tr:only-child th {\n",
       "        text-align: right;\n",
       "    }\n",
       "\n",
       "    .dataframe thead th {\n",
       "        text-align: left;\n",
       "    }\n",
       "\n",
       "    .dataframe tbody tr th {\n",
       "        vertical-align: top;\n",
       "    }\n",
       "</style>\n",
       "<table border=\"1\" class=\"dataframe\">\n",
       "  <thead>\n",
       "    <tr style=\"text-align: right;\">\n",
       "      <th>Treatment</th>\n",
       "      <th>A</th>\n",
       "      <th>B</th>\n",
       "    </tr>\n",
       "    <tr>\n",
       "      <th>WWTP</th>\n",
       "      <th></th>\n",
       "      <th></th>\n",
       "    </tr>\n",
       "  </thead>\n",
       "  <tbody>\n",
       "    <tr>\n",
       "      <th>Dendermonde</th>\n",
       "      <td>8.3</td>\n",
       "      <td>6.2</td>\n",
       "    </tr>\n",
       "    <tr>\n",
       "      <th>Destelbergen</th>\n",
       "      <td>8.0</td>\n",
       "      <td>6.3</td>\n",
       "    </tr>\n",
       "    <tr>\n",
       "      <th>Eeklo</th>\n",
       "      <td>6.5</td>\n",
       "      <td>7.2</td>\n",
       "    </tr>\n",
       "    <tr>\n",
       "      <th>Landegem</th>\n",
       "      <td>7.5</td>\n",
       "      <td>5.2</td>\n",
       "    </tr>\n",
       "  </tbody>\n",
       "</table>\n",
       "</div>"
      ],
      "text/plain": [
       "Treatment       A    B\n",
       "WWTP                  \n",
       "Dendermonde   8.3  6.2\n",
       "Destelbergen  8.0  6.3\n",
       "Eeklo         6.5  7.2\n",
       "Landegem      7.5  5.2"
      ]
     },
     "execution_count": 4,
     "metadata": {},
     "output_type": "execute_result"
    }
   ],
   "source": [
    "short_form = mydata.pivot(index=\"WWTP\", columns=\"Treatment\", values=\"pH\")\n",
    "short_form"
   ]
  },
  {
   "cell_type": "markdown",
   "metadata": {},
   "source": [
    "And, for example, create a `heatmap` of the data"
   ]
  },
  {
   "cell_type": "code",
   "execution_count": 5,
   "metadata": {
    "run_control": {
     "frozen": false,
     "read_only": false
    }
   },
   "outputs": [
    {
     "data": {
      "text/plain": [
       "<matplotlib.axes._subplots.AxesSubplot at 0x7f52715af390>"
      ]
     },
     "execution_count": 5,
     "metadata": {},
     "output_type": "execute_result"
    },
    {
     "data": {
      "image/png": "[encoded data removed]",
      "text/plain": [
       "<matplotlib.figure.Figure at 0x7f52718383c8>"
      ]
     },
     "metadata": {},
     "output_type": "display_data"
    }
   ],
   "source": [
    "sns.heatmap(short_form)"
   ]
  },
  {
   "cell_type": "markdown",
   "metadata": {},
   "source": [
    "(for `R`-users, the commands are `gather`/`spread`)"
   ]
  },
  {
   "cell_type": "markdown",
   "metadata": {},
   "source": [
    "<div class=\"alert alert-success\">\n",
    "    The switch from a tidy format to a short format is just a `pivot` command away\n",
    "</div>"
   ]
  },
  {
   "cell_type": "markdown",
   "metadata": {},
   "source": [
    "# Summary statistics"
   ]
  },
  {
   "cell_type": "markdown",
   "metadata": {},
   "source": [
    "What we sometimes do with the short-form, is providing summary statistics:"
   ]
  },
  {
   "cell_type": "code",
   "execution_count": 6,
   "metadata": {
    "run_control": {
     "frozen": false,
     "read_only": false
    }
   },
   "outputs": [
    {
     "data": {
      "text/html": [
       "<div>\n",
       "<style>\n",
       "    .dataframe thead tr:only-child th {\n",
       "        text-align: right;\n",
       "    }\n",
       "\n",
       "    .dataframe thead th {\n",
       "        text-align: left;\n",
       "    }\n",
       "\n",
       "    .dataframe tbody tr th {\n",
       "        vertical-align: top;\n",
       "    }\n",
       "</style>\n",
       "<table border=\"1\" class=\"dataframe\">\n",
       "  <thead>\n",
       "    <tr style=\"text-align: right;\">\n",
       "      <th>Treatment</th>\n",
       "      <th>A</th>\n",
       "      <th>B</th>\n",
       "    </tr>\n",
       "    <tr>\n",
       "      <th>WWTP</th>\n",
       "      <th></th>\n",
       "      <th></th>\n",
       "    </tr>\n",
       "  </thead>\n",
       "  <tbody>\n",
       "    <tr>\n",
       "      <th>Dendermonde</th>\n",
       "      <td>8.3</td>\n",
       "      <td>6.2</td>\n",
       "    </tr>\n",
       "    <tr>\n",
       "      <th>Destelbergen</th>\n",
       "      <td>8.0</td>\n",
       "      <td>6.3</td>\n",
       "    </tr>\n",
       "    <tr>\n",
       "      <th>Eeklo</th>\n",
       "      <td>6.5</td>\n",
       "      <td>7.2</td>\n",
       "    </tr>\n",
       "    <tr>\n",
       "      <th>Landegem</th>\n",
       "      <td>7.5</td>\n",
       "      <td>5.2</td>\n",
       "    </tr>\n",
       "  </tbody>\n",
       "</table>\n",
       "</div>"
      ],
      "text/plain": [
       "Treatment       A    B\n",
       "WWTP                  \n",
       "Dendermonde   8.3  6.2\n",
       "Destelbergen  8.0  6.3\n",
       "Eeklo         6.5  7.2\n",
       "Landegem      7.5  5.2"
      ]
     },
     "execution_count": 6,
     "metadata": {},
     "output_type": "execute_result"
    }
   ],
   "source": [
    "short_form"
   ]
  },
  {
   "cell_type": "code",
   "execution_count": 7,
   "metadata": {
    "run_control": {
     "frozen": false,
     "read_only": false
    }
   },
   "outputs": [
    {
     "data": {
      "text/plain": [
       "Treatment\n",
       "A    7.575\n",
       "B    6.225\n",
       "dtype: float64"
      ]
     },
     "execution_count": 7,
     "metadata": {},
     "output_type": "execute_result"
    }
   ],
   "source": [
    "short_form.mean()"
   ]
  },
  {
   "cell_type": "code",
   "execution_count": 8,
   "metadata": {
    "run_control": {
     "frozen": false,
     "read_only": false
    }
   },
   "outputs": [
    {
     "data": {
      "text/html": [
       "<div>\n",
       "<style>\n",
       "    .dataframe thead tr:only-child th {\n",
       "        text-align: right;\n",
       "    }\n",
       "\n",
       "    .dataframe thead th {\n",
       "        text-align: left;\n",
       "    }\n",
       "\n",
       "    .dataframe tbody tr th {\n",
       "        vertical-align: top;\n",
       "    }\n",
       "</style>\n",
       "<table border=\"1\" class=\"dataframe\">\n",
       "  <thead>\n",
       "    <tr style=\"text-align: right;\">\n",
       "      <th></th>\n",
       "      <th>WWTP</th>\n",
       "      <th>Treatment</th>\n",
       "      <th>pH</th>\n",
       "    </tr>\n",
       "  </thead>\n",
       "  <tbody>\n",
       "    <tr>\n",
       "      <th>0</th>\n",
       "      <td>Destelbergen</td>\n",
       "      <td>A</td>\n",
       "      <td>8.0</td>\n",
       "    </tr>\n",
       "    <tr>\n",
       "      <th>1</th>\n",
       "      <td>Landegem</td>\n",
       "      <td>A</td>\n",
       "      <td>7.5</td>\n",
       "    </tr>\n",
       "    <tr>\n",
       "      <th>2</th>\n",
       "      <td>Dendermonde</td>\n",
       "      <td>A</td>\n",
       "      <td>8.3</td>\n",
       "    </tr>\n",
       "    <tr>\n",
       "      <th>3</th>\n",
       "      <td>Eeklo</td>\n",
       "      <td>A</td>\n",
       "      <td>6.5</td>\n",
       "    </tr>\n",
       "    <tr>\n",
       "      <th>4</th>\n",
       "      <td>Destelbergen</td>\n",
       "      <td>B</td>\n",
       "      <td>6.3</td>\n",
       "    </tr>\n",
       "    <tr>\n",
       "      <th>5</th>\n",
       "      <td>Landegem</td>\n",
       "      <td>B</td>\n",
       "      <td>5.2</td>\n",
       "    </tr>\n",
       "    <tr>\n",
       "      <th>6</th>\n",
       "      <td>Dendermonde</td>\n",
       "      <td>B</td>\n",
       "      <td>6.2</td>\n",
       "    </tr>\n",
       "    <tr>\n",
       "      <th>7</th>\n",
       "      <td>Eeklo</td>\n",
       "      <td>B</td>\n",
       "      <td>7.2</td>\n",
       "    </tr>\n",
       "  </tbody>\n",
       "</table>\n",
       "</div>"
      ],
      "text/plain": [
       "           WWTP Treatment   pH\n",
       "0  Destelbergen         A  8.0\n",
       "1      Landegem         A  7.5\n",
       "2   Dendermonde         A  8.3\n",
       "3         Eeklo         A  6.5\n",
       "4  Destelbergen         B  6.3\n",
       "5      Landegem         B  5.2\n",
       "6   Dendermonde         B  6.2\n",
       "7         Eeklo         B  7.2"
      ]
     },
     "execution_count": 8,
     "metadata": {},
     "output_type": "execute_result"
    }
   ],
   "source": [
    "mydata"
   ]
  },
  {
   "cell_type": "markdown",
   "metadata": {},
   "source": [
    "Starting from a tidy format, you will use a `groupby`, which provides all summary statistics based on groups:"
   ]
  },
  {
   "cell_type": "code",
   "execution_count": 9,
   "metadata": {
    "run_control": {
     "frozen": false,
     "read_only": false
    }
   },
   "outputs": [
    {
     "data": {
      "text/plain": [
       "pH    6.9\n",
       "dtype: float64"
      ]
     },
     "execution_count": 9,
     "metadata": {},
     "output_type": "execute_result"
    }
   ],
   "source": [
    "mydata.mean()"
   ]
  },
  {
   "cell_type": "code",
   "execution_count": 10,
   "metadata": {
    "run_control": {
     "frozen": false,
     "read_only": false
    }
   },
   "outputs": [
    {
     "data": {
      "text/html": [
       "<div>\n",
       "<style>\n",
       "    .dataframe thead tr:only-child th {\n",
       "        text-align: right;\n",
       "    }\n",
       "\n",
       "    .dataframe thead th {\n",
       "        text-align: left;\n",
       "    }\n",
       "\n",
       "    .dataframe tbody tr th {\n",
       "        vertical-align: top;\n",
       "    }\n",
       "</style>\n",
       "<table border=\"1\" class=\"dataframe\">\n",
       "  <thead>\n",
       "    <tr style=\"text-align: right;\">\n",
       "      <th></th>\n",
       "      <th>pH</th>\n",
       "    </tr>\n",
       "    <tr>\n",
       "      <th>Treatment</th>\n",
       "      <th></th>\n",
       "    </tr>\n",
       "  </thead>\n",
       "  <tbody>\n",
       "    <tr>\n",
       "      <th>A</th>\n",
       "      <td>7.575</td>\n",
       "    </tr>\n",
       "    <tr>\n",
       "      <th>B</th>\n",
       "      <td>6.225</td>\n",
       "    </tr>\n",
       "  </tbody>\n",
       "</table>\n",
       "</div>"
      ],
      "text/plain": [
       "              pH\n",
       "Treatment       \n",
       "A          7.575\n",
       "B          6.225"
      ]
     },
     "execution_count": 10,
     "metadata": {},
     "output_type": "execute_result"
    }
   ],
   "source": [
    "mydata.groupby('Treatment').mean() # WWTP"
   ]
  },
  {
   "cell_type": "code",
   "execution_count": 11,
   "metadata": {
    "run_control": {
     "frozen": false,
     "read_only": false
    }
   },
   "outputs": [
    {
     "data": {
      "text/html": [
       "<div>\n",
       "<style>\n",
       "    .dataframe thead tr:only-child th {\n",
       "        text-align: right;\n",
       "    }\n",
       "\n",
       "    .dataframe thead th {\n",
       "        text-align: left;\n",
       "    }\n",
       "\n",
       "    .dataframe tbody tr th {\n",
       "        vertical-align: top;\n",
       "    }\n",
       "</style>\n",
       "<table border=\"1\" class=\"dataframe\">\n",
       "  <thead>\n",
       "    <tr>\n",
       "      <th></th>\n",
       "      <th colspan=\"8\" halign=\"left\">pH</th>\n",
       "    </tr>\n",
       "    <tr>\n",
       "      <th></th>\n",
       "      <th>count</th>\n",
       "      <th>mean</th>\n",
       "      <th>std</th>\n",
       "      <th>min</th>\n",
       "      <th>25%</th>\n",
       "      <th>50%</th>\n",
       "      <th>75%</th>\n",
       "      <th>max</th>\n",
       "    </tr>\n",
       "    <tr>\n",
       "      <th>Treatment</th>\n",
       "      <th></th>\n",
       "      <th></th>\n",
       "      <th></th>\n",
       "      <th></th>\n",
       "      <th></th>\n",
       "      <th></th>\n",
       "      <th></th>\n",
       "      <th></th>\n",
       "    </tr>\n",
       "  </thead>\n",
       "  <tbody>\n",
       "    <tr>\n",
       "      <th>A</th>\n",
       "      <td>4.0</td>\n",
       "      <td>7.575</td>\n",
       "      <td>0.788987</td>\n",
       "      <td>6.5</td>\n",
       "      <td>7.25</td>\n",
       "      <td>7.75</td>\n",
       "      <td>8.075</td>\n",
       "      <td>8.3</td>\n",
       "    </tr>\n",
       "    <tr>\n",
       "      <th>B</th>\n",
       "      <td>4.0</td>\n",
       "      <td>6.225</td>\n",
       "      <td>0.818026</td>\n",
       "      <td>5.2</td>\n",
       "      <td>5.95</td>\n",
       "      <td>6.25</td>\n",
       "      <td>6.525</td>\n",
       "      <td>7.2</td>\n",
       "    </tr>\n",
       "  </tbody>\n",
       "</table>\n",
       "</div>"
      ],
      "text/plain": [
       "             pH                                              \n",
       "          count   mean       std  min   25%   50%    75%  max\n",
       "Treatment                                                    \n",
       "A           4.0  7.575  0.788987  6.5  7.25  7.75  8.075  8.3\n",
       "B           4.0  6.225  0.818026  5.2  5.95  6.25  6.525  7.2"
      ]
     },
     "execution_count": 11,
     "metadata": {},
     "output_type": "execute_result"
    }
   ],
   "source": [
    "mydata.groupby('Treatment').describe() # single readable command from the tidy dataset"
   ]
  },
  {
   "cell_type": "markdown",
   "metadata": {},
   "source": [
    "For `R`-users, the `groupby` function is available as well, using the `dplyr` package."
   ]
  },
  {
   "cell_type": "markdown",
   "metadata": {},
   "source": [
    "<div class=\"alert alert-success\">\n",
    "    `groupby` is doing the usual summary statistics, but for any kind of factorial column variable in the dataset\n",
    "</div>"
   ]
  },
  {
   "cell_type": "markdown",
   "metadata": {},
   "source": [
    "# Plots"
   ]
  },
  {
   "cell_type": "markdown",
   "metadata": {},
   "source": [
    "Many plotting environments in both R and Python (as well as more and more commercial environments such as Tableau,...) provide direct interaction with `tidy` data sets. "
   ]
  },
  {
   "cell_type": "markdown",
   "metadata": {},
   "source": [
    "## Altair"
   ]
  },
  {
   "cell_type": "code",
   "execution_count": 12,
   "metadata": {
    "collapsed": true,
    "run_control": {
     "frozen": false,
     "read_only": false
    }
   },
   "outputs": [],
   "source": [
    "from altair import Chart, Column, Color, Axis, Scale, X, Y, Bin"
   ]
  },
  {
   "cell_type": "markdown",
   "metadata": {},
   "source": [
    "[Altair](https://altair-viz.github.io/) is such an example from the Python-package ecosystem..."
   ]
  },
  {
   "cell_type": "markdown",
   "metadata": {},
   "source": [
    "We define what we want to see in the graph:\n",
    "\n",
    "For the different `WWTP` as individual columns, provide the `pH` as function of the `Treatment`..."
   ]
  },
  {
   "cell_type": "code",
   "execution_count": 14,
   "metadata": {
    "run_control": {
     "frozen": false,
     "read_only": false
    }
   },
   "outputs": [
    {
     "data": {
      "text/html": [
       "<div class=\"vega-embed\" id=\"3ca67b3f-72b2-4e3d-beb0-1aaac2619a57\"></div>\n",
       "\n",
       "<style>\n",
       ".vega-embed svg, .vega-embed canvas {\n",
       "  border: 1px dotted gray;\n",
       "}\n",
       "\n",
       ".vega-embed .vega-actions a {\n",
       "  margin-right: 6px;\n",
       "}\n",
       "</style>\n"
      ]
     },
     "metadata": {
      "jupyter-vega": "#3ca67b3f-72b2-4e3d-beb0-1aaac2619a57"
     },
     "output_type": "display_data"
    },
    {
     "data": {
      "application/javascript": [
       "var spec = {\"mark\": \"bar\", \"config\": {\"cell\": {\"height\": 350, \"width\": 500}}, \"data\": {\"values\": [{\"Treatment\": \"A\", \"WWTP\": \"Destelbergen\", \"pH\": 8.0}, {\"Treatment\": \"A\", \"WWTP\": \"Landegem\", \"pH\": 7.5}, {\"Treatment\": \"A\", \"WWTP\": \"Dendermonde\", \"pH\": 8.3}, {\"Treatment\": \"A\", \"WWTP\": \"Eeklo\", \"pH\": 6.5}, {\"Treatment\": \"B\", \"WWTP\": \"Destelbergen\", \"pH\": 6.3}, {\"Treatment\": \"B\", \"WWTP\": \"Landegem\", \"pH\": 5.2}, {\"Treatment\": \"B\", \"WWTP\": \"Dendermonde\", \"pH\": 6.2}, {\"Treatment\": \"B\", \"WWTP\": \"Eeklo\", \"pH\": 7.2}]}, \"encoding\": {\"color\": {\"field\": \"Treatment\", \"type\": \"nominal\"}, \"column\": {\"field\": \"WWTP\", \"type\": \"nominal\"}, \"x\": {\"field\": \"Treatment\", \"type\": \"nominal\"}, \"y\": {\"field\": \"pH\", \"type\": \"quantitative\"}}};\n",
       "var selector = \"#3ca67b3f-72b2-4e3d-beb0-1aaac2619a57\";\n",
       "var type = \"vega-lite\";\n",
       "\n",
       "var output_area = this;\n",
       "require(['nbextensions/jupyter-vega/index'], function(vega) {\n",
       "  vega.render(selector, spec, type, output_area);\n",
       "}, function (err) {\n",
       "  if (err.requireType !== 'scripterror') {\n",
       "    throw(err);\n",
       "  }\n",
       "});\n"
      ]
     },
     "metadata": {
      "jupyter-vega": "#3ca67b3f-72b2-4e3d-beb0-1aaac2619a57"
     },
     "output_type": "display_data"
    },
    {
     "data": {
      "image/png": "[encoded data removed]"
     },
     "metadata": {
      "jupyter-vega": "#3ca67b3f-72b2-4e3d-beb0-1aaac2619a57"
     },
     "output_type": "display_data"
    }
   ],
   "source": [
    "Chart(mydata).mark_bar().encode(\n",
    "    column='WWTP',\n",
    "    x='Treatment',\n",
    "    y='pH',\n",
    "    color='Treatment')"
   ]
  },
  {
   "cell_type": "markdown",
   "metadata": {},
   "source": [
    "But,...  *Never trust the default* ;-)"
   ]
  },
  {
   "cell_type": "code",
   "execution_count": 15,
   "metadata": {
    "run_control": {
     "frozen": false,
     "read_only": false
    }
   },
   "outputs": [
    {
     "data": {
      "text/html": [
       "<div class=\"vega-embed\" id=\"56057429-3537-447b-95d4-117954e131f8\"></div>\n",
       "\n",
       "<style>\n",
       ".vega-embed svg, .vega-embed canvas {\n",
       "  border: 1px dotted gray;\n",
       "}\n",
       "\n",
       ".vega-embed .vega-actions a {\n",
       "  margin-right: 6px;\n",
       "}\n",
       "</style>\n"
      ]
     },
     "metadata": {
      "jupyter-vega": "#56057429-3537-447b-95d4-117954e131f8"
     },
     "output_type": "display_data"
    },
    {
     "data": {
      "application/javascript": [
       "var spec = {\"mark\": \"bar\", \"config\": {\"cell\": {\"height\": 350, \"width\": 500}}, \"data\": {\"values\": [{\"Treatment\": \"A\", \"WWTP\": \"Destelbergen\", \"pH\": 8.0}, {\"Treatment\": \"A\", \"WWTP\": \"Landegem\", \"pH\": 7.5}, {\"Treatment\": \"A\", \"WWTP\": \"Dendermonde\", \"pH\": 8.3}, {\"Treatment\": \"A\", \"WWTP\": \"Eeklo\", \"pH\": 6.5}, {\"Treatment\": \"B\", \"WWTP\": \"Destelbergen\", \"pH\": 6.3}, {\"Treatment\": \"B\", \"WWTP\": \"Landegem\", \"pH\": 5.2}, {\"Treatment\": \"B\", \"WWTP\": \"Dendermonde\", \"pH\": 6.2}, {\"Treatment\": \"B\", \"WWTP\": \"Eeklo\", \"pH\": 7.2}]}, \"encoding\": {\"color\": {\"field\": \"Treatment\", \"type\": \"nominal\"}, \"column\": {\"scale\": {\"padding\": 14.0}, \"field\": \"WWTP\", \"axis\": {\"orient\": \"bottom\", \"axisWidth\": 0.2, \"offset\": -8.0}, \"type\": \"nominal\"}, \"x\": {\"field\": \"Treatment\", \"axis\": false, \"type\": \"nominal\"}, \"y\": {\"field\": \"pH\", \"axis\": {\"grid\": false}, \"type\": \"quantitative\"}}};\n",
       "var selector = \"#56057429-3537-447b-95d4-117954e131f8\";\n",
       "var type = \"vega-lite\";\n",
       "\n",
       "var output_area = this;\n",
       "require(['nbextensions/jupyter-vega/index'], function(vega) {\n",
       "  vega.render(selector, spec, type, output_area);\n",
       "}, function (err) {\n",
       "  if (err.requireType !== 'scripterror') {\n",
       "    throw(err);\n",
       "  }\n",
       "});\n"
      ]
     },
     "metadata": {
      "jupyter-vega": "#56057429-3537-447b-95d4-117954e131f8"
     },
     "output_type": "display_data"
    },
    {
     "data": {
      "image/png": "[encoded data removed]"
     },
     "metadata": {
      "jupyter-vega": "#56057429-3537-447b-95d4-117954e131f8"
     },
     "output_type": "display_data"
    }
   ],
   "source": [
    "Chart(mydata).mark_bar().encode(\n",
    "    column=Column('WWTP', \n",
    "                  axis=Axis(axisWidth=0.2, offset=-8.0, orient='bottom'), \n",
    "                  scale=Scale(padding=14.0)),    \n",
    "    x= X('Treatment', axis=False),\n",
    "    y= Y('pH', axis=Axis(grid=False)),\n",
    "    color=Color('Treatment'))"
   ]
  },
  {
   "cell_type": "markdown",
   "metadata": {},
   "source": [
    "## ggplot (Grammar of graphics)"
   ]
  },
  {
   "cell_type": "markdown",
   "metadata": {},
   "source": [
    "The [`plotnine` package](https://plotnine.readthedocs.io/en/latest/) in Python provides a `ggplot`interface for Python:"
   ]
  },
  {
   "cell_type": "code",
   "execution_count": 16,
   "metadata": {
    "run_control": {
     "frozen": false,
     "read_only": false
    }
   },
   "outputs": [
    {
     "name": "stderr",
     "output_type": "stream",
     "text": [
      "/home/stijn_vanhoey/miniconda2/envs/inbobase/lib/python3.5/site-packages/statsmodels/compat/pandas.py:56: FutureWarning: The pandas.core.datetools module is deprecated and will be removed in a future version. Please use the pandas.tseries module instead.\n",
      "  from pandas.core import datetools\n"
     ]
    }
   ],
   "source": [
    "from plotnine import (ggplot, aes, geom_bar, stat_smooth, \n",
    "                      stat_boxplot, geom_point, facet_wrap)"
   ]
  },
  {
   "cell_type": "code",
   "execution_count": 17,
   "metadata": {
    "run_control": {
     "frozen": false,
     "read_only": false
    }
   },
   "outputs": [
    {
     "data": {
      "image/png": "[encoded data removed]",
      "text/plain": [
       "<matplotlib.figure.Figure at 0x7f526c0b9358>"
      ]
     },
     "metadata": {},
     "output_type": "display_data"
    },
    {
     "data": {
      "text/plain": [
       "<ggplot: (-9223363287356212771)>"
      ]
     },
     "execution_count": 17,
     "metadata": {},
     "output_type": "execute_result"
    }
   ],
   "source": [
    "ggplot(mydata, aes(x='WWTP', y='pH', fill='factor(Treatment)')) \\\n",
    "    + geom_bar(stat='identity', position='dodge')"
   ]
  },
  {
   "cell_type": "code",
   "execution_count": 18,
   "metadata": {
    "run_control": {
     "frozen": false,
     "read_only": false
    }
   },
   "outputs": [
    {
     "data": {
      "image/png": "[encoded data removed]",
      "text/plain": [
       "<matplotlib.figure.Figure at 0x7f526c063c88>"
      ]
     },
     "metadata": {},
     "output_type": "display_data"
    },
    {
     "data": {
      "text/plain": [
       "<ggplot: (-9223363287356212827)>"
      ]
     },
     "execution_count": 18,
     "metadata": {},
     "output_type": "execute_result"
    }
   ],
   "source": [
    "ggplot(mydata, aes('Treatment', 'pH')) \\\n",
    "    + stat_boxplot() + geom_point(colour='lightblue')"
   ]
  },
  {
   "cell_type": "markdown",
   "metadata": {},
   "source": [
    "(*I'm fully aware of the limited size of my data set... This is just an example!*)"
   ]
  },
  {
   "cell_type": "code",
   "execution_count": 19,
   "metadata": {
    "run_control": {
     "frozen": false,
     "read_only": false
    }
   },
   "outputs": [
    {
     "data": {
      "image/png": "[encoded data removed]",
      "text/plain": [
       "<matplotlib.figure.Figure at 0x7f526bf7b828>"
      ]
     },
     "metadata": {},
     "output_type": "display_data"
    },
    {
     "data": {
      "text/plain": [
       "<ggplot: (-9223363287356273159)>"
      ]
     },
     "execution_count": 19,
     "metadata": {},
     "output_type": "execute_result"
    }
   ],
   "source": [
    "ggplot(mydata, aes('Treatment', 'pH', fill='factor(WWTP)')) \\\n",
    "    + geom_bar(stat='identity', position='dodge')"
   ]
  },
  {
   "cell_type": "markdown",
   "metadata": {},
   "source": [
    "An example with an alternative data set, providing an experiment with the effect for different `input` Concentration:"
   ]
  },
  {
   "cell_type": "code",
   "execution_count": 20,
   "metadata": {
    "collapsed": true,
    "run_control": {
     "frozen": false,
     "read_only": false
    }
   },
   "outputs": [],
   "source": [
    "# %load ../data/tidy_intro_2.txt"
   ]
  },
  {
   "cell_type": "code",
   "execution_count": 21,
   "metadata": {
    "run_control": {
     "frozen": false,
     "read_only": false
    }
   },
   "outputs": [
    {
     "data": {
      "text/html": [
       "<div>\n",
       "<style>\n",
       "    .dataframe thead tr:only-child th {\n",
       "        text-align: right;\n",
       "    }\n",
       "\n",
       "    .dataframe thead th {\n",
       "        text-align: left;\n",
       "    }\n",
       "\n",
       "    .dataframe tbody tr th {\n",
       "        vertical-align: top;\n",
       "    }\n",
       "</style>\n",
       "<table border=\"1\" class=\"dataframe\">\n",
       "  <thead>\n",
       "    <tr style=\"text-align: right;\">\n",
       "      <th></th>\n",
       "      <th>input</th>\n",
       "      <th>Treatment</th>\n",
       "      <th>pH</th>\n",
       "    </tr>\n",
       "  </thead>\n",
       "  <tbody>\n",
       "    <tr>\n",
       "      <th>0</th>\n",
       "      <td>2.0</td>\n",
       "      <td>A</td>\n",
       "      <td>8.0</td>\n",
       "    </tr>\n",
       "    <tr>\n",
       "      <th>1</th>\n",
       "      <td>3.0</td>\n",
       "      <td>A</td>\n",
       "      <td>7.5</td>\n",
       "    </tr>\n",
       "    <tr>\n",
       "      <th>2</th>\n",
       "      <td>4.0</td>\n",
       "      <td>A</td>\n",
       "      <td>7.8</td>\n",
       "    </tr>\n",
       "    <tr>\n",
       "      <th>3</th>\n",
       "      <td>5.0</td>\n",
       "      <td>A</td>\n",
       "      <td>6.5</td>\n",
       "    </tr>\n",
       "    <tr>\n",
       "      <th>4</th>\n",
       "      <td>2.0</td>\n",
       "      <td>B</td>\n",
       "      <td>5.8</td>\n",
       "    </tr>\n",
       "    <tr>\n",
       "      <th>5</th>\n",
       "      <td>3.0</td>\n",
       "      <td>B</td>\n",
       "      <td>5.2</td>\n",
       "    </tr>\n",
       "    <tr>\n",
       "      <th>6</th>\n",
       "      <td>4.0</td>\n",
       "      <td>B</td>\n",
       "      <td>6.2</td>\n",
       "    </tr>\n",
       "    <tr>\n",
       "      <th>7</th>\n",
       "      <td>5.0</td>\n",
       "      <td>B</td>\n",
       "      <td>7.2</td>\n",
       "    </tr>\n",
       "  </tbody>\n",
       "</table>\n",
       "</div>"
      ],
      "text/plain": [
       "   input Treatment   pH\n",
       "0    2.0         A  8.0\n",
       "1    3.0         A  7.5\n",
       "2    4.0         A  7.8\n",
       "3    5.0         A  6.5\n",
       "4    2.0         B  5.8\n",
       "5    3.0         B  5.2\n",
       "6    4.0         B  6.2\n",
       "7    5.0         B  7.2"
      ]
     },
     "execution_count": 21,
     "metadata": {},
     "output_type": "execute_result"
    }
   ],
   "source": [
    "conc_experiment = pd.read_csv(\"../data/tidy_intro_2.txt\", delimiter=\",\")\n",
    "conc_experiment"
   ]
  },
  {
   "cell_type": "markdown",
   "metadata": {},
   "source": [
    "A linear regression applied on the tidy data set is a single function:"
   ]
  },
  {
   "cell_type": "code",
   "execution_count": 22,
   "metadata": {
    "run_control": {
     "frozen": false,
     "read_only": false
    }
   },
   "outputs": [
    {
     "data": {
      "image/png": "[encoded data removed]",
      "text/plain": [
       "<matplotlib.figure.Figure at 0x7f526bf1bb38>"
      ]
     },
     "metadata": {},
     "output_type": "display_data"
    },
    {
     "data": {
      "text/plain": [
       "<ggplot: (8749498466831)>"
      ]
     },
     "execution_count": 22,
     "metadata": {},
     "output_type": "execute_result"
    }
   ],
   "source": [
    "ggplot(conc_experiment, aes(x='input', y='pH', fill='factor(Treatment)')) \\\n",
    "    + geom_point() + stat_smooth(method='lm') + facet_wrap('~Treatment')"
   ]
  },
  {
   "cell_type": "markdown",
   "metadata": {},
   "source": [
    "## Bokeh plot library"
   ]
  },
  {
   "cell_type": "markdown",
   "metadata": {},
   "source": [
    "One of the nice items about Bokeh, is the creation of interactive plots..."
   ]
  },
  {
   "cell_type": "code",
   "execution_count": 23,
   "metadata": {
    "run_control": {
     "frozen": false,
     "read_only": false
    }
   },
   "outputs": [
    {
     "data": {
      "text/html": [
       "\n",
       "    <div class=\"bk-root\">\n",
       "        <a href=\"http://bokeh.pydata.org\" target=\"_blank\" class=\"bk-logo bk-logo-small bk-logo-notebook\"></a>\n",
       "        <span id=\"d1fc3434-2505-4e8b-9543-1e04ca25a039\">Loading BokehJS ...</span>\n",
       "    </div>"
      ]
     },
     "metadata": {},
     "output_type": "display_data"
    },
    {
     "data": {
      "application/javascript": [
       "\n",
       "(function(global) {\n",
       "  function now() {\n",
       "    return new Date();\n",
       "  }\n",
       "\n",
       "  var force = true;\n",
       "\n",
       "  if (typeof (window._bokeh_onload_callbacks) === \"undefined\" || force === true) {\n",
       "    window._bokeh_onload_callbacks = [];\n",
       "    window._bokeh_is_loading = undefined;\n",
       "  }\n",
       "\n",
       "\n",
       "  \n",
       "  if (typeof (window._bokeh_timeout) === \"undefined\" || force === true) {\n",
       "    window._bokeh_timeout = Date.now() + 5000;\n",
       "    window._bokeh_failed_load = false;\n",
       "  }\n",
       "\n",
       "  var NB_LOAD_WARNING = {'data': {'text/html':\n",
       "     \"<div style='background-color: #fdd'>\\n\"+\n",
       "     \"<p>\\n\"+\n",
       "     \"BokehJS does not appear to have successfully loaded. If loading BokehJS from CDN, this \\n\"+\n",
       "     \"may be due to a slow or bad network connection. Possible fixes:\\n\"+\n",
       "     \"</p>\\n\"+\n",
       "     \"<ul>\\n\"+\n",
       "     \"<li>re-rerun `output_notebook()` to attempt to load from CDN again, or</li>\\n\"+\n",
       "     \"<li>use INLINE resources instead, as so:</li>\\n\"+\n",
       "     \"</ul>\\n\"+\n",
       "     \"<code>\\n\"+\n",
       "     \"from bokeh.resources import INLINE\\n\"+\n",
       "     \"output_notebook(resources=INLINE)\\n\"+\n",
       "     \"</code>\\n\"+\n",
       "     \"</div>\"}};\n",
       "\n",
       "  function display_loaded() {\n",
       "    if (window.Bokeh !== undefined) {\n",
       "      var el = document.getElementById(\"d1fc3434-2505-4e8b-9543-1e04ca25a039\");\n",
       "      el.textContent = \"BokehJS \" + Bokeh.version + \" successfully loaded.\";\n",
       "    } else if (Date.now() < window._bokeh_timeout) {\n",
       "      setTimeout(display_loaded, 100)\n",
       "    }\n",
       "  }\n",
       "\n",
       "  function run_callbacks() {\n",
       "    window._bokeh_onload_callbacks.forEach(function(callback) { callback() });\n",
       "    delete window._bokeh_onload_callbacks\n",
       "    console.info(\"Bokeh: all callbacks have finished\");\n",
       "  }\n",
       "\n",
       "  function load_libs(js_urls, callback) {\n",
       "    window._bokeh_onload_callbacks.push(callback);\n",
       "    if (window._bokeh_is_loading > 0) {\n",
       "      console.log(\"Bokeh: BokehJS is being loaded, scheduling callback at\", now());\n",
       "      return null;\n",
       "    }\n",
       "    if (js_urls == null || js_urls.length === 0) {\n",
       "      run_callbacks();\n",
       "      return null;\n",
       "    }\n",
       "    console.log(\"Bokeh: BokehJS not loaded, scheduling load and callback at\", now());\n",
       "    window._bokeh_is_loading = js_urls.length;\n",
       "    for (var i = 0; i < js_urls.length; i++) {\n",
       "      var url = js_urls[i];\n",
       "      var s = document.createElement('script');\n",
       "      s.src = url;\n",
       "      s.async = false;\n",
       "      s.onreadystatechange = s.onload = function() {\n",
       "        window._bokeh_is_loading--;\n",
       "        if (window._bokeh_is_loading === 0) {\n",
       "          console.log(\"Bokeh: all BokehJS libraries loaded\");\n",
       "          run_callbacks()\n",
       "        }\n",
       "      };\n",
       "      s.onerror = function() {\n",
       "        console.warn(\"failed to load library \" + url);\n",
       "      };\n",
       "      console.log(\"Bokeh: injecting script tag for BokehJS library: \", url);\n",
       "      document.getElementsByTagName(\"head\")[0].appendChild(s);\n",
       "    }\n",
       "  };var element = document.getElementById(\"d1fc3434-2505-4e8b-9543-1e04ca25a039\");\n",
       "  if (element == null) {\n",
       "    console.log(\"Bokeh: ERROR: autoload.js configured with elementid 'd1fc3434-2505-4e8b-9543-1e04ca25a039' but no matching script tag was found. \")\n",
       "    return false;\n",
       "  }\n",
       "\n",
       "  var js_urls = [\"https://cdn.pydata.org/bokeh/release/bokeh-0.12.5.min.js\", \"https://cdn.pydata.org/bokeh/release/bokeh-widgets-0.12.5.min.js\"];\n",
       "\n",
       "  var inline_js = [\n",
       "    function(Bokeh) {\n",
       "      Bokeh.set_log_level(\"info\");\n",
       "    },\n",
       "    \n",
       "    function(Bokeh) {\n",
       "      \n",
       "    },\n",
       "    \n",
       "    function(Bokeh) {\n",
       "      \n",
       "      document.getElementById(\"d1fc3434-2505-4e8b-9543-1e04ca25a039\").textContent = \"BokehJS is loading...\";\n",
       "    },\n",
       "    function(Bokeh) {\n",
       "      console.log(\"Bokeh: injecting CSS: https://cdn.pydata.org/bokeh/release/bokeh-0.12.5.min.css\");\n",
       "      Bokeh.embed.inject_css(\"https://cdn.pydata.org/bokeh/release/bokeh-0.12.5.min.css\");\n",
       "      console.log(\"Bokeh: injecting CSS: https://cdn.pydata.org/bokeh/release/bokeh-widgets-0.12.5.min.css\");\n",
       "      Bokeh.embed.inject_css(\"https://cdn.pydata.org/bokeh/release/bokeh-widgets-0.12.5.min.css\");\n",
       "    }\n",
       "  ];\n",
       "\n",
       "  function run_inline_js() {\n",
       "    \n",
       "    if ((window.Bokeh !== undefined) || (force === true)) {\n",
       "      for (var i = 0; i < inline_js.length; i++) {\n",
       "        inline_js[i](window.Bokeh);\n",
       "      }if (force === true) {\n",
       "        display_loaded();\n",
       "      }} else if (Date.now() < window._bokeh_timeout) {\n",
       "      setTimeout(run_inline_js, 100);\n",
       "    } else if (!window._bokeh_failed_load) {\n",
       "      console.log(\"Bokeh: BokehJS failed to load within specified timeout.\");\n",
       "      window._bokeh_failed_load = true;\n",
       "    } else if (force !== true) {\n",
       "      var cell = $(document.getElementById(\"d1fc3434-2505-4e8b-9543-1e04ca25a039\")).parents('.cell').data().cell;\n",
       "      cell.output_area.append_execute_result(NB_LOAD_WARNING)\n",
       "    }\n",
       "\n",
       "  }\n",
       "\n",
       "  if (window._bokeh_is_loading === 0) {\n",
       "    console.log(\"Bokeh: BokehJS loaded, going straight to plotting\");\n",
       "    run_inline_js();\n",
       "  } else {\n",
       "    load_libs(js_urls, function() {\n",
       "      console.log(\"Bokeh: BokehJS plotting callback run at\", now());\n",
       "      run_inline_js();\n",
       "    });\n",
       "  }\n",
       "}(this));"
      ]
     },
     "metadata": {},
     "output_type": "display_data"
    }
   ],
   "source": [
    "from bokeh.charts import Bar, show, BoxPlot\n",
    "from bokeh.io import output_notebook\n",
    "output_notebook()"
   ]
  },
  {
   "cell_type": "code",
   "execution_count": 24,
   "metadata": {
    "run_control": {
     "frozen": false,
     "read_only": false
    }
   },
   "outputs": [
    {
     "data": {
      "text/html": [
       "\n",
       "\n",
       "    <div class=\"bk-root\">\n",
       "        <div class=\"bk-plotdiv\" id=\"7c8ee304-f2df-4df7-8fb9-19dfef82b7ab\"></div>\n",
       "    </div>\n",
       "<script type=\"text/javascript\">\n",
       "  \n",
       "  (function(global) {\n",
       "    function now() {\n",
       "      return new Date();\n",
       "    }\n",
       "  \n",
       "    var force = false;\n",
       "  \n",
       "    if (typeof (window._bokeh_onload_callbacks) === \"undefined\" || force === true) {\n",
       "      window._bokeh_onload_callbacks = [];\n",
       "      window._bokeh_is_loading = undefined;\n",
       "    }\n",
       "  \n",
       "  \n",
       "    \n",
       "    if (typeof (window._bokeh_timeout) === \"undefined\" || force === true) {\n",
       "      window._bokeh_timeout = Date.now() + 0;\n",
       "      window._bokeh_failed_load = false;\n",
       "    }\n",
       "  \n",
       "    var NB_LOAD_WARNING = {'data': {'text/html':\n",
       "       \"<div style='background-color: #fdd'>\\n\"+\n",
       "       \"<p>\\n\"+\n",
       "       \"BokehJS does not appear to have successfully loaded. If loading BokehJS from CDN, this \\n\"+\n",
       "       \"may be due to a slow or bad network connection. Possible fixes:\\n\"+\n",
       "       \"</p>\\n\"+\n",
       "       \"<ul>\\n\"+\n",
       "       \"<li>re-rerun `output_notebook()` to attempt to load from CDN again, or</li>\\n\"+\n",
       "       \"<li>use INLINE resources instead, as so:</li>\\n\"+\n",
       "       \"</ul>\\n\"+\n",
       "       \"<code>\\n\"+\n",
       "       \"from bokeh.resources import INLINE\\n\"+\n",
       "       \"output_notebook(resources=INLINE)\\n\"+\n",
       "       \"</code>\\n\"+\n",
       "       \"</div>\"}};\n",
       "  \n",
       "    function display_loaded() {\n",
       "      if (window.Bokeh !== undefined) {\n",
       "        var el = document.getElementById(\"7c8ee304-f2df-4df7-8fb9-19dfef82b7ab\");\n",
       "        el.textContent = \"BokehJS \" + Bokeh.version + \" successfully loaded.\";\n",
       "      } else if (Date.now() < window._bokeh_timeout) {\n",
       "        setTimeout(display_loaded, 100)\n",
       "      }\n",
       "    }\n",
       "  \n",
       "    function run_callbacks() {\n",
       "      window._bokeh_onload_callbacks.forEach(function(callback) { callback() });\n",
       "      delete window._bokeh_onload_callbacks\n",
       "      console.info(\"Bokeh: all callbacks have finished\");\n",
       "    }\n",
       "  \n",
       "    function load_libs(js_urls, callback) {\n",
       "      window._bokeh_onload_callbacks.push(callback);\n",
       "      if (window._bokeh_is_loading > 0) {\n",
       "        console.log(\"Bokeh: BokehJS is being loaded, scheduling callback at\", now());\n",
       "        return null;\n",
       "      }\n",
       "      if (js_urls == null || js_urls.length === 0) {\n",
       "        run_callbacks();\n",
       "        return null;\n",
       "      }\n",
       "      console.log(\"Bokeh: BokehJS not loaded, scheduling load and callback at\", now());\n",
       "      window._bokeh_is_loading = js_urls.length;\n",
       "      for (var i = 0; i < js_urls.length; i++) {\n",
       "        var url = js_urls[i];\n",
       "        var s = document.createElement('script');\n",
       "        s.src = url;\n",
       "        s.async = false;\n",
       "        s.onreadystatechange = s.onload = function() {\n",
       "          window._bokeh_is_loading--;\n",
       "          if (window._bokeh_is_loading === 0) {\n",
       "            console.log(\"Bokeh: all BokehJS libraries loaded\");\n",
       "            run_callbacks()\n",
       "          }\n",
       "        };\n",
       "        s.onerror = function() {\n",
       "          console.warn(\"failed to load library \" + url);\n",
       "        };\n",
       "        console.log(\"Bokeh: injecting script tag for BokehJS library: \", url);\n",
       "        document.getElementsByTagName(\"head\")[0].appendChild(s);\n",
       "      }\n",
       "    };var element = document.getElementById(\"7c8ee304-f2df-4df7-8fb9-19dfef82b7ab\");\n",
       "    if (element == null) {\n",
       "      console.log(\"Bokeh: ERROR: autoload.js configured with elementid '7c8ee304-f2df-4df7-8fb9-19dfef82b7ab' but no matching script tag was found. \")\n",
       "      return false;\n",
       "    }\n",
       "  \n",
       "    var js_urls = [];\n",
       "  \n",
       "    var inline_js = [\n",
       "      function(Bokeh) {\n",
       "        (function() {\n",
       "          var fn = function() {\n",
       "            var docs_json = {\"c830d5c3-68f0-442e-856e-c78ed8de995a\":{\"roots\":{\"references\":[{\"attributes\":{\"data_source\":{\"id\":\"7041d1d9-f840-44d5-a0de-75656311c910\",\"type\":\"ColumnDataSource\"},\"glyph\":{\"id\":\"340a0d6c-7cd3-414f-9f8c-d711028025d7\",\"type\":\"Rect\"},\"hover_glyph\":null,\"muted_glyph\":null},\"id\":\"2622919f-d9ff-4caf-859a-dfef3095b64b\",\"type\":\"GlyphRenderer\"},{\"attributes\":{\"callback\":null,\"factors\":[\"Dendermonde\",\"Destelbergen\",\"Eeklo\",\"Landegem\"]},\"id\":\"f8f18ecc-e0a6-47cc-aeb7-61ce4cf4b066\",\"type\":\"FactorRange\"},{\"attributes\":{\"fill_alpha\":{\"field\":\"fill_alpha\"},\"fill_color\":{\"field\":\"color\"},\"height\":{\"field\":\"height\",\"units\":\"data\"},\"line_color\":{\"field\":\"line_color\"},\"width\":{\"field\":\"width\",\"units\":\"data\"},\"x\":{\"field\":\"x\"},\"y\":{\"field\":\"y\"}},\"id\":\"956853e9-9a7f-4a8d-8ef7-8bd60556a6ac\",\"type\":\"Rect\"},{\"attributes\":{\"bottom_units\":\"screen\",\"fill_alpha\":{\"value\":0.5},\"fill_color\":{\"value\":\"lightgrey\"},\"left_units\":\"screen\",\"level\":\"overlay\",\"line_alpha\":{\"value\":1.0},\"line_color\":{\"value\":\"black\"},\"line_dash\":[4,4],\"line_width\":{\"value\":2},\"plot\":null,\"render_mode\":\"css\",\"right_units\":\"screen\",\"top_units\":\"screen\"},\"id\":\"5f40301a-7da7-42f2-9e33-1c4a3f405bfa\",\"type\":\"BoxAnnotation\"},{\"attributes\":{\"plot\":{\"id\":\"70e6a991-9595-435e-a1fe-c6adee3fea22\",\"subtype\":\"Chart\",\"type\":\"Plot\"}},\"id\":\"415efb8f-2177-4165-95ae-4e56e64e9b14\",\"type\":\"SaveTool\"},{\"attributes\":{\"label\":{\"value\":\"B\"},\"renderers\":[{\"id\":\"fbf6b0f6-3bbd-4c82-a05e-3df159657bae\",\"type\":\"GlyphRenderer\"}]},\"id\":\"c47ee290-2a31-4b04-bc6e-2796516cb85a\",\"type\":\"LegendItem\"},{\"attributes\":{\"callback\":null,\"column_names\":[\"x\",\"color\",\"line_alpha\",\"label\",\"fill_alpha\",\"width\",\"height\",\"line_color\",\"y\"],\"data\":{\"Treatment\":[\"B\"],\"WWTP\":[\"Dendermonde\"],\"chart_index\":[{\"Treatment\":\"B\",\"WWTP\":\"Dendermonde\"}],\"color\":[\"#5ab738\"],\"fill_alpha\":[0.8],\"height\":[6.2],\"label\":[{\"Treatment\":\"B\",\"WWTP\":\"Dendermonde\"}],\"line_alpha\":[1.0],\"line_color\":[\"white\"],\"width\":[0.2],\"x\":[\"Dendermonde:0.666666666667\"],\"y\":[3.1]}},\"id\":\"969cbec8-de7e-421e-9cc7-3a8d01cecc28\",\"type\":\"ColumnDataSource\"},{\"attributes\":{\"callback\":null,\"column_names\":[\"x\",\"color\",\"line_alpha\",\"label\",\"fill_alpha\",\"width\",\"height\",\"line_color\",\"y\"],\"data\":{\"Treatment\":[\"A\"],\"WWTP\":[\"Landegem\"],\"chart_index\":[{\"Treatment\":\"A\",\"WWTP\":\"Landegem\"}],\"color\":[\"#f22c40\"],\"fill_alpha\":[0.8],\"height\":[7.5],\"label\":[{\"Treatment\":\"A\",\"WWTP\":\"Landegem\"}],\"line_alpha\":[1.0],\"line_color\":[\"white\"],\"width\":[0.2],\"x\":[\"Landegem:0.333333333333\"],\"y\":[3.75]}},\"id\":\"09c70e69-5fb9-494a-92a2-a7c0c090fba8\",\"type\":\"ColumnDataSource\"},{\"attributes\":{\"data_source\":{\"id\":\"97c9eeee-a918-430c-baba-76cd8a947c5b\",\"type\":\"ColumnDataSource\"},\"glyph\":{\"id\":\"97ef78a4-0b82-4b14-8590-2ce8ee5f8a6c\",\"type\":\"Rect\"},\"hover_glyph\":null,\"muted_glyph\":null},\"id\":\"aa4a5cef-5269-4da6-83f0-2a59e73beaba\",\"type\":\"GlyphRenderer\"},{\"attributes\":{\"callback\":null,\"column_names\":[\"x\",\"color\",\"line_alpha\",\"label\",\"fill_alpha\",\"width\",\"height\",\"line_color\",\"y\"],\"data\":{\"Treatment\":[\"A\"],\"WWTP\":[\"Destelbergen\"],\"chart_index\":[{\"Treatment\":\"A\",\"WWTP\":\"Destelbergen\"}],\"color\":[\"#f22c40\"],\"fill_alpha\":[0.8],\"height\":[8.0],\"label\":[{\"Treatment\":\"A\",\"WWTP\":\"Destelbergen\"}],\"line_alpha\":[1.0],\"line_color\":[\"white\"],\"width\":[0.2],\"x\":[\"Destelbergen:0.333333333333\"],\"y\":[4.0]}},\"id\":\"fccfbf51-b03d-4486-94ff-c19ff0acca8a\",\"type\":\"ColumnDataSource\"},{\"attributes\":{\"data_source\":{\"id\":\"d2f2d79c-4521-466b-9ff9-4e0e3c35ecec\",\"type\":\"ColumnDataSource\"},\"glyph\":{\"id\":\"8f2743fa-96f3-4e99-b3bc-44237486a6f7\",\"type\":\"Rect\"},\"hover_glyph\":null,\"muted_glyph\":null},\"id\":\"3ef3e3d0-794d-4b8b-96ac-9f43b4b2822d\",\"type\":\"GlyphRenderer\"},{\"attributes\":{\"callback\":null,\"column_names\":[\"x\",\"color\",\"line_alpha\",\"label\",\"fill_alpha\",\"width\",\"height\",\"line_color\",\"y\"],\"data\":{\"Treatment\":[\"B\"],\"WWTP\":[\"Destelbergen\"],\"chart_index\":[{\"Treatment\":\"B\",\"WWTP\":\"Destelbergen\"}],\"color\":[\"#5ab738\"],\"fill_alpha\":[0.8],\"height\":[6.3],\"label\":[{\"Treatment\":\"B\",\"WWTP\":\"Destelbergen\"}],\"line_alpha\":[1.0],\"line_color\":[\"white\"],\"width\":[0.2],\"x\":[\"Destelbergen:0.666666666667\"],\"y\":[3.15]}},\"id\":\"dc08628a-38be-4c28-b87d-e29eb924803b\",\"type\":\"ColumnDataSource\"},{\"attributes\":{\"callback\":null,\"end\":8.715},\"id\":\"69683b2d-cf7e-47fc-a7bd-10b31362b93f\",\"type\":\"Range1d\"},{\"attributes\":{\"fill_alpha\":{\"field\":\"fill_alpha\"},\"fill_color\":{\"field\":\"color\"},\"height\":{\"field\":\"height\",\"units\":\"data\"},\"line_color\":{\"field\":\"line_color\"},\"width\":{\"field\":\"width\",\"units\":\"data\"},\"x\":{\"field\":\"x\"},\"y\":{\"field\":\"y\"}},\"id\":\"1a4490ba-cedc-4f8d-adfc-e83b88e6454a\",\"type\":\"Rect\"},{\"attributes\":{\"fill_alpha\":{\"field\":\"fill_alpha\"},\"fill_color\":{\"field\":\"color\"},\"height\":{\"field\":\"height\",\"units\":\"data\"},\"line_color\":{\"field\":\"line_color\"},\"width\":{\"field\":\"width\",\"units\":\"data\"},\"x\":{\"field\":\"x\"},\"y\":{\"field\":\"y\"}},\"id\":\"fed52f10-de60-42fb-8d1f-6756895f89c4\",\"type\":\"Rect\"},{\"attributes\":{},\"id\":\"d8ac684e-aa44-45e3-b94b-f758ff7e146d\",\"type\":\"ToolEvents\"},{\"attributes\":{\"fill_alpha\":{\"field\":\"fill_alpha\"},\"fill_color\":{\"field\":\"color\"},\"height\":{\"field\":\"height\",\"units\":\"data\"},\"line_color\":{\"field\":\"line_color\"},\"width\":{\"field\":\"width\",\"units\":\"data\"},\"x\":{\"field\":\"x\"},\"y\":{\"field\":\"y\"}},\"id\":\"340a0d6c-7cd3-414f-9f8c-d711028025d7\",\"type\":\"Rect\"},{\"attributes\":{\"overlay\":{\"id\":\"5f40301a-7da7-42f2-9e33-1c4a3f405bfa\",\"type\":\"BoxAnnotation\"},\"plot\":{\"id\":\"70e6a991-9595-435e-a1fe-c6adee3fea22\",\"subtype\":\"Chart\",\"type\":\"Plot\"}},\"id\":\"96856f9e-00d1-42f8-b69a-9389b802f1b6\",\"type\":\"BoxZoomTool\"},{\"attributes\":{\"data_source\":{\"id\":\"a6b0a83a-b988-481c-8e62-3c8d53fe55d7\",\"type\":\"ColumnDataSource\"},\"glyph\":{\"id\":\"fed52f10-de60-42fb-8d1f-6756895f89c4\",\"type\":\"Rect\"},\"hover_glyph\":null,\"muted_glyph\":null},\"id\":\"21a86f55-f090-4732-b150-ed45d395affa\",\"type\":\"GlyphRenderer\"},{\"attributes\":{\"dimension\":1,\"plot\":{\"id\":\"70e6a991-9595-435e-a1fe-c6adee3fea22\",\"subtype\":\"Chart\",\"type\":\"Plot\"},\"ticker\":{\"id\":\"42b7e494-1a5f-4719-81c3-1a1af60f2bd3\",\"type\":\"BasicTicker\"}},\"id\":\"a146d94c-5997-4c81-badb-20c6ab3ad398\",\"type\":\"Grid\"},{\"attributes\":{},\"id\":\"ca38bcfb-b8a2-4737-8943-34fc294523cb\",\"type\":\"BasicTickFormatter\"},{\"attributes\":{\"data_source\":{\"id\":\"fccfbf51-b03d-4486-94ff-c19ff0acca8a\",\"type\":\"ColumnDataSource\"},\"glyph\":{\"id\":\"be98137e-760c-45dc-bd58-ff3cd54a20ac\",\"type\":\"Rect\"},\"hover_glyph\":null,\"muted_glyph\":null},\"id\":\"c8b56b50-aedf-4f2a-aeb7-9610b08381dc\",\"type\":\"GlyphRenderer\"},{\"attributes\":{\"below\":[{\"id\":\"e0f2e07a-ca5c-48a9-b227-f2c969900c59\",\"type\":\"CategoricalAxis\"}],\"css_classes\":null,\"left\":[{\"id\":\"30a56181-19cb-4cb6-88c7-fe40cc73dc0d\",\"type\":\"LinearAxis\"}],\"renderers\":[{\"id\":\"5f40301a-7da7-42f2-9e33-1c4a3f405bfa\",\"type\":\"BoxAnnotation\"},{\"id\":\"c8b56b50-aedf-4f2a-aeb7-9610b08381dc\",\"type\":\"GlyphRenderer\"},{\"id\":\"63aaa829-04f3-4a6c-971a-95b5747487b5\",\"type\":\"GlyphRenderer\"},{\"id\":\"aa4a5cef-5269-4da6-83f0-2a59e73beaba\",\"type\":\"GlyphRenderer\"},{\"id\":\"2622919f-d9ff-4caf-859a-dfef3095b64b\",\"type\":\"GlyphRenderer\"},{\"id\":\"fbf6b0f6-3bbd-4c82-a05e-3df159657bae\",\"type\":\"GlyphRenderer\"},{\"id\":\"3ef3e3d0-794d-4b8b-96ac-9f43b4b2822d\",\"type\":\"GlyphRenderer\"},{\"id\":\"e3d7ba92-636e-42ca-a938-3eedba4cc9c8\",\"type\":\"GlyphRenderer\"},{\"id\":\"21a86f55-f090-4732-b150-ed45d395affa\",\"type\":\"GlyphRenderer\"},{\"id\":\"364f76d0-82c7-42b3-b35f-cec1f0052b48\",\"type\":\"Legend\"},{\"id\":\"e0f2e07a-ca5c-48a9-b227-f2c969900c59\",\"type\":\"CategoricalAxis\"},{\"id\":\"30a56181-19cb-4cb6-88c7-fe40cc73dc0d\",\"type\":\"LinearAxis\"},{\"id\":\"a146d94c-5997-4c81-badb-20c6ab3ad398\",\"type\":\"Grid\"}],\"title\":{\"id\":\"385673fc-c198-4951-8ddd-30abf30d333e\",\"type\":\"Title\"},\"tool_events\":{\"id\":\"d8ac684e-aa44-45e3-b94b-f758ff7e146d\",\"type\":\"ToolEvents\"},\"toolbar\":{\"id\":\"9ab7a6e7-9c2e-451c-92c4-b1036aa6a7fe\",\"type\":\"Toolbar\"},\"x_mapper_type\":\"auto\",\"x_range\":{\"id\":\"f8f18ecc-e0a6-47cc-aeb7-61ce4cf4b066\",\"type\":\"FactorRange\"},\"y_mapper_type\":\"auto\",\"y_range\":{\"id\":\"69683b2d-cf7e-47fc-a7bd-10b31362b93f\",\"type\":\"Range1d\"}},\"id\":\"70e6a991-9595-435e-a1fe-c6adee3fea22\",\"subtype\":\"Chart\",\"type\":\"Plot\"},{\"attributes\":{\"fill_alpha\":{\"field\":\"fill_alpha\"},\"fill_color\":{\"field\":\"color\"},\"height\":{\"field\":\"height\",\"units\":\"data\"},\"line_color\":{\"field\":\"line_color\"},\"width\":{\"field\":\"width\",\"units\":\"data\"},\"x\":{\"field\":\"x\"},\"y\":{\"field\":\"y\"}},\"id\":\"97ef78a4-0b82-4b14-8590-2ce8ee5f8a6c\",\"type\":\"Rect\"},{\"attributes\":{\"plot\":{\"id\":\"70e6a991-9595-435e-a1fe-c6adee3fea22\",\"subtype\":\"Chart\",\"type\":\"Plot\"}},\"id\":\"437e9f95-1e86-4548-9c1c-c247056428e7\",\"type\":\"HelpTool\"},{\"attributes\":{\"data_source\":{\"id\":\"969cbec8-de7e-421e-9cc7-3a8d01cecc28\",\"type\":\"ColumnDataSource\"},\"glyph\":{\"id\":\"ca04dc60-06dc-405d-8d8f-1d91a3cf0aa9\",\"type\":\"Rect\"},\"hover_glyph\":null,\"muted_glyph\":null},\"id\":\"e3d7ba92-636e-42ca-a938-3eedba4cc9c8\",\"type\":\"GlyphRenderer\"},{\"attributes\":{\"fill_alpha\":{\"field\":\"fill_alpha\"},\"fill_color\":{\"field\":\"color\"},\"height\":{\"field\":\"height\",\"units\":\"data\"},\"line_color\":{\"field\":\"line_color\"},\"width\":{\"field\":\"width\",\"units\":\"data\"},\"x\":{\"field\":\"x\"},\"y\":{\"field\":\"y\"}},\"id\":\"8f2743fa-96f3-4e99-b3bc-44237486a6f7\",\"type\":\"Rect\"},{\"attributes\":{\"axis_label\":\"Sum( Ph )\",\"formatter\":{\"id\":\"ca38bcfb-b8a2-4737-8943-34fc294523cb\",\"type\":\"BasicTickFormatter\"},\"plot\":{\"id\":\"70e6a991-9595-435e-a1fe-c6adee3fea22\",\"subtype\":\"Chart\",\"type\":\"Plot\"},\"ticker\":{\"id\":\"42b7e494-1a5f-4719-81c3-1a1af60f2bd3\",\"type\":\"BasicTicker\"}},\"id\":\"30a56181-19cb-4cb6-88c7-fe40cc73dc0d\",\"type\":\"LinearAxis\"},{\"attributes\":{\"callback\":null,\"column_names\":[\"x\",\"color\",\"line_alpha\",\"label\",\"fill_alpha\",\"width\",\"height\",\"line_color\",\"y\"],\"data\":{\"Treatment\":[\"B\"],\"WWTP\":[\"Landegem\"],\"chart_index\":[{\"Treatment\":\"B\",\"WWTP\":\"Landegem\"}],\"color\":[\"#5ab738\"],\"fill_alpha\":[0.8],\"height\":[5.2],\"label\":[{\"Treatment\":\"B\",\"WWTP\":\"Landegem\"}],\"line_alpha\":[1.0],\"line_color\":[\"white\"],\"width\":[0.2],\"x\":[\"Landegem:0.666666666667\"],\"y\":[2.6]}},\"id\":\"d2f2d79c-4521-466b-9ff9-4e0e3c35ecec\",\"type\":\"ColumnDataSource\"},{\"attributes\":{\"label\":{\"value\":\"A\"},\"renderers\":[{\"id\":\"c8b56b50-aedf-4f2a-aeb7-9610b08381dc\",\"type\":\"GlyphRenderer\"}]},\"id\":\"e7d82578-02fe-4209-9c12-e9f6c84fe5a6\",\"type\":\"LegendItem\"},{\"attributes\":{\"plot\":{\"id\":\"70e6a991-9595-435e-a1fe-c6adee3fea22\",\"subtype\":\"Chart\",\"type\":\"Plot\"}},\"id\":\"cf38553c-4d69-4e6d-9869-74810216b33c\",\"type\":\"PanTool\"},{\"attributes\":{\"active_drag\":\"auto\",\"active_scroll\":\"auto\",\"active_tap\":\"auto\",\"tools\":[{\"id\":\"cf38553c-4d69-4e6d-9869-74810216b33c\",\"type\":\"PanTool\"},{\"id\":\"c4f1048d-6461-4957-895d-251a582a4095\",\"type\":\"WheelZoomTool\"},{\"id\":\"96856f9e-00d1-42f8-b69a-9389b802f1b6\",\"type\":\"BoxZoomTool\"},{\"id\":\"415efb8f-2177-4165-95ae-4e56e64e9b14\",\"type\":\"SaveTool\"},{\"id\":\"e9b235b6-d7cf-4933-88c1-acb088c5ce1d\",\"type\":\"ResetTool\"},{\"id\":\"437e9f95-1e86-4548-9c1c-c247056428e7\",\"type\":\"HelpTool\"}]},\"id\":\"9ab7a6e7-9c2e-451c-92c4-b1036aa6a7fe\",\"type\":\"Toolbar\"},{\"attributes\":{\"items\":[{\"id\":\"e7d82578-02fe-4209-9c12-e9f6c84fe5a6\",\"type\":\"LegendItem\"},{\"id\":\"c47ee290-2a31-4b04-bc6e-2796516cb85a\",\"type\":\"LegendItem\"}],\"plot\":{\"id\":\"70e6a991-9595-435e-a1fe-c6adee3fea22\",\"subtype\":\"Chart\",\"type\":\"Plot\"}},\"id\":\"364f76d0-82c7-42b3-b35f-cec1f0052b48\",\"type\":\"Legend\"},{\"attributes\":{},\"id\":\"42b7e494-1a5f-4719-81c3-1a1af60f2bd3\",\"type\":\"BasicTicker\"},{\"attributes\":{},\"id\":\"59c72390-fab9-446c-9d3e-4491a3e1b339\",\"type\":\"CategoricalTicker\"},{\"attributes\":{\"fill_alpha\":{\"field\":\"fill_alpha\"},\"fill_color\":{\"field\":\"color\"},\"height\":{\"field\":\"height\",\"units\":\"data\"},\"line_color\":{\"field\":\"line_color\"},\"width\":{\"field\":\"width\",\"units\":\"data\"},\"x\":{\"field\":\"x\"},\"y\":{\"field\":\"y\"}},\"id\":\"ca04dc60-06dc-405d-8d8f-1d91a3cf0aa9\",\"type\":\"Rect\"},{\"attributes\":{\"callback\":null,\"column_names\":[\"x\",\"color\",\"line_alpha\",\"label\",\"fill_alpha\",\"width\",\"height\",\"line_color\",\"y\"],\"data\":{\"Treatment\":[\"B\"],\"WWTP\":[\"Eeklo\"],\"chart_index\":[{\"Treatment\":\"B\",\"WWTP\":\"Eeklo\"}],\"color\":[\"#5ab738\"],\"fill_alpha\":[0.8],\"height\":[7.2],\"label\":[{\"Treatment\":\"B\",\"WWTP\":\"Eeklo\"}],\"line_alpha\":[1.0],\"line_color\":[\"white\"],\"width\":[0.2],\"x\":[\"Eeklo:0.666666666667\"],\"y\":[3.6]}},\"id\":\"a6b0a83a-b988-481c-8e62-3c8d53fe55d7\",\"type\":\"ColumnDataSource\"},{\"attributes\":{\"data_source\":{\"id\":\"dc08628a-38be-4c28-b87d-e29eb924803b\",\"type\":\"ColumnDataSource\"},\"glyph\":{\"id\":\"1a4490ba-cedc-4f8d-adfc-e83b88e6454a\",\"type\":\"Rect\"},\"hover_glyph\":null,\"muted_glyph\":null},\"id\":\"fbf6b0f6-3bbd-4c82-a05e-3df159657bae\",\"type\":\"GlyphRenderer\"},{\"attributes\":{\"axis_label\":\"Wwtp\",\"formatter\":{\"id\":\"949d13bb-30f7-42f6-9844-4d79e11b8595\",\"type\":\"CategoricalTickFormatter\"},\"major_label_orientation\":0.7853981633974483,\"plot\":{\"id\":\"70e6a991-9595-435e-a1fe-c6adee3fea22\",\"subtype\":\"Chart\",\"type\":\"Plot\"},\"ticker\":{\"id\":\"59c72390-fab9-446c-9d3e-4491a3e1b339\",\"type\":\"CategoricalTicker\"}},\"id\":\"e0f2e07a-ca5c-48a9-b227-f2c969900c59\",\"type\":\"CategoricalAxis\"},{\"attributes\":{\"data_source\":{\"id\":\"09c70e69-5fb9-494a-92a2-a7c0c090fba8\",\"type\":\"ColumnDataSource\"},\"glyph\":{\"id\":\"956853e9-9a7f-4a8d-8ef7-8bd60556a6ac\",\"type\":\"Rect\"},\"hover_glyph\":null,\"muted_glyph\":null},\"id\":\"63aaa829-04f3-4a6c-971a-95b5747487b5\",\"type\":\"GlyphRenderer\"},{\"attributes\":{\"callback\":null,\"column_names\":[\"x\",\"color\",\"line_alpha\",\"label\",\"fill_alpha\",\"width\",\"height\",\"line_color\",\"y\"],\"data\":{\"Treatment\":[\"A\"],\"WWTP\":[\"Eeklo\"],\"chart_index\":[{\"Treatment\":\"A\",\"WWTP\":\"Eeklo\"}],\"color\":[\"#f22c40\"],\"fill_alpha\":[0.8],\"height\":[6.5],\"label\":[{\"Treatment\":\"A\",\"WWTP\":\"Eeklo\"}],\"line_alpha\":[1.0],\"line_color\":[\"white\"],\"width\":[0.2],\"x\":[\"Eeklo:0.333333333333\"],\"y\":[3.25]}},\"id\":\"7041d1d9-f840-44d5-a0de-75656311c910\",\"type\":\"ColumnDataSource\"},{\"attributes\":{\"callback\":null,\"column_names\":[\"x\",\"color\",\"line_alpha\",\"label\",\"fill_alpha\",\"width\",\"height\",\"line_color\",\"y\"],\"data\":{\"Treatment\":[\"A\"],\"WWTP\":[\"Dendermonde\"],\"chart_index\":[{\"Treatment\":\"A\",\"WWTP\":\"Dendermonde\"}],\"color\":[\"#f22c40\"],\"fill_alpha\":[0.8],\"height\":[8.3],\"label\":[{\"Treatment\":\"A\",\"WWTP\":\"Dendermonde\"}],\"line_alpha\":[1.0],\"line_color\":[\"white\"],\"width\":[0.2],\"x\":[\"Dendermonde:0.333333333333\"],\"y\":[4.15]}},\"id\":\"97c9eeee-a918-430c-baba-76cd8a947c5b\",\"type\":\"ColumnDataSource\"},{\"attributes\":{},\"id\":\"949d13bb-30f7-42f6-9844-4d79e11b8595\",\"type\":\"CategoricalTickFormatter\"},{\"attributes\":{\"plot\":null,\"text\":null},\"id\":\"385673fc-c198-4951-8ddd-30abf30d333e\",\"type\":\"Title\"},{\"attributes\":{\"fill_alpha\":{\"field\":\"fill_alpha\"},\"fill_color\":{\"field\":\"color\"},\"height\":{\"field\":\"height\",\"units\":\"data\"},\"line_color\":{\"field\":\"line_color\"},\"width\":{\"field\":\"width\",\"units\":\"data\"},\"x\":{\"field\":\"x\"},\"y\":{\"field\":\"y\"}},\"id\":\"be98137e-760c-45dc-bd58-ff3cd54a20ac\",\"type\":\"Rect\"},{\"attributes\":{\"plot\":{\"id\":\"70e6a991-9595-435e-a1fe-c6adee3fea22\",\"subtype\":\"Chart\",\"type\":\"Plot\"}},\"id\":\"c4f1048d-6461-4957-895d-251a582a4095\",\"type\":\"WheelZoomTool\"},{\"attributes\":{\"plot\":{\"id\":\"70e6a991-9595-435e-a1fe-c6adee3fea22\",\"subtype\":\"Chart\",\"type\":\"Plot\"}},\"id\":\"e9b235b6-d7cf-4933-88c1-acb088c5ce1d\",\"type\":\"ResetTool\"}],\"root_ids\":[\"70e6a991-9595-435e-a1fe-c6adee3fea22\"]},\"title\":\"Bokeh Application\",\"version\":\"0.12.5\"}};\n",
       "            var render_items = [{\"docid\":\"c830d5c3-68f0-442e-856e-c78ed8de995a\",\"elementid\":\"7c8ee304-f2df-4df7-8fb9-19dfef82b7ab\",\"modelid\":\"70e6a991-9595-435e-a1fe-c6adee3fea22\"}];\n",
       "            \n",
       "            Bokeh.embed.embed_items(docs_json, render_items);\n",
       "          };\n",
       "          if (document.readyState != \"loading\") fn();\n",
       "          else document.addEventListener(\"DOMContentLoaded\", fn);\n",
       "        })();\n",
       "      },\n",
       "      function(Bokeh) {\n",
       "      }\n",
       "    ];\n",
       "  \n",
       "    function run_inline_js() {\n",
       "      \n",
       "      if ((window.Bokeh !== undefined) || (force === true)) {\n",
       "        for (var i = 0; i < inline_js.length; i++) {\n",
       "          inline_js[i](window.Bokeh);\n",
       "        }if (force === true) {\n",
       "          display_loaded();\n",
       "        }} else if (Date.now() < window._bokeh_timeout) {\n",
       "        setTimeout(run_inline_js, 100);\n",
       "      } else if (!window._bokeh_failed_load) {\n",
       "        console.log(\"Bokeh: BokehJS failed to load within specified timeout.\");\n",
       "        window._bokeh_failed_load = true;\n",
       "      } else if (force !== true) {\n",
       "        var cell = $(document.getElementById(\"7c8ee304-f2df-4df7-8fb9-19dfef82b7ab\")).parents('.cell').data().cell;\n",
       "        cell.output_area.append_execute_result(NB_LOAD_WARNING)\n",
       "      }\n",
       "  \n",
       "    }\n",
       "  \n",
       "    if (window._bokeh_is_loading === 0) {\n",
       "      console.log(\"Bokeh: BokehJS loaded, going straight to plotting\");\n",
       "      run_inline_js();\n",
       "    } else {\n",
       "      load_libs(js_urls, function() {\n",
       "        console.log(\"Bokeh: BokehJS plotting callback run at\", now());\n",
       "        run_inline_js();\n",
       "      });\n",
       "    }\n",
       "  }(this));\n",
       "</script>"
      ]
     },
     "metadata": {},
     "output_type": "display_data"
    }
   ],
   "source": [
    "p = Bar(mydata, label='WWTP', values='pH', \n",
    "        group='Treatment', legend='top_right')\n",
    "show(p)"
   ]
  },
  {
   "cell_type": "code",
   "execution_count": 25,
   "metadata": {
    "run_control": {
     "frozen": false,
     "read_only": false
    }
   },
   "outputs": [
    {
     "data": {
      "text/html": [
       "\n",
       "\n",
       "    <div class=\"bk-root\">\n",
       "        <div class=\"bk-plotdiv\" id=\"1e0a697d-d9f5-4e2d-858e-47a8b50e2366\"></div>\n",
       "    </div>\n",
       "<script type=\"text/javascript\">\n",
       "  \n",
       "  (function(global) {\n",
       "    function now() {\n",
       "      return new Date();\n",
       "    }\n",
       "  \n",
       "    var force = false;\n",
       "  \n",
       "    if (typeof (window._bokeh_onload_callbacks) === \"undefined\" || force === true) {\n",
       "      window._bokeh_onload_callbacks = [];\n",
       "      window._bokeh_is_loading = undefined;\n",
       "    }\n",
       "  \n",
       "  \n",
       "    \n",
       "    if (typeof (window._bokeh_timeout) === \"undefined\" || force === true) {\n",
       "      window._bokeh_timeout = Date.now() + 0;\n",
       "      window._bokeh_failed_load = false;\n",
       "    }\n",
       "  \n",
       "    var NB_LOAD_WARNING = {'data': {'text/html':\n",
       "       \"<div style='background-color: #fdd'>\\n\"+\n",
       "       \"<p>\\n\"+\n",
       "       \"BokehJS does not appear to have successfully loaded. If loading BokehJS from CDN, this \\n\"+\n",
       "       \"may be due to a slow or bad network connection. Possible fixes:\\n\"+\n",
       "       \"</p>\\n\"+\n",
       "       \"<ul>\\n\"+\n",
       "       \"<li>re-rerun `output_notebook()` to attempt to load from CDN again, or</li>\\n\"+\n",
       "       \"<li>use INLINE resources instead, as so:</li>\\n\"+\n",
       "       \"</ul>\\n\"+\n",
       "       \"<code>\\n\"+\n",
       "       \"from bokeh.resources import INLINE\\n\"+\n",
       "       \"output_notebook(resources=INLINE)\\n\"+\n",
       "       \"</code>\\n\"+\n",
       "       \"</div>\"}};\n",
       "  \n",
       "    function display_loaded() {\n",
       "      if (window.Bokeh !== undefined) {\n",
       "        var el = document.getElementById(\"1e0a697d-d9f5-4e2d-858e-47a8b50e2366\");\n",
       "        el.textContent = \"BokehJS \" + Bokeh.version + \" successfully loaded.\";\n",
       "      } else if (Date.now() < window._bokeh_timeout) {\n",
       "        setTimeout(display_loaded, 100)\n",
       "      }\n",
       "    }\n",
       "  \n",
       "    function run_callbacks() {\n",
       "      window._bokeh_onload_callbacks.forEach(function(callback) { callback() });\n",
       "      delete window._bokeh_onload_callbacks\n",
       "      console.info(\"Bokeh: all callbacks have finished\");\n",
       "    }\n",
       "  \n",
       "    function load_libs(js_urls, callback) {\n",
       "      window._bokeh_onload_callbacks.push(callback);\n",
       "      if (window._bokeh_is_loading > 0) {\n",
       "        console.log(\"Bokeh: BokehJS is being loaded, scheduling callback at\", now());\n",
       "        return null;\n",
       "      }\n",
       "      if (js_urls == null || js_urls.length === 0) {\n",
       "        run_callbacks();\n",
       "        return null;\n",
       "      }\n",
       "      console.log(\"Bokeh: BokehJS not loaded, scheduling load and callback at\", now());\n",
       "      window._bokeh_is_loading = js_urls.length;\n",
       "      for (var i = 0; i < js_urls.length; i++) {\n",
       "        var url = js_urls[i];\n",
       "        var s = document.createElement('script');\n",
       "        s.src = url;\n",
       "        s.async = false;\n",
       "        s.onreadystatechange = s.onload = function() {\n",
       "          window._bokeh_is_loading--;\n",
       "          if (window._bokeh_is_loading === 0) {\n",
       "            console.log(\"Bokeh: all BokehJS libraries loaded\");\n",
       "            run_callbacks()\n",
       "          }\n",
       "        };\n",
       "        s.onerror = function() {\n",
       "          console.warn(\"failed to load library \" + url);\n",
       "        };\n",
       "        console.log(\"Bokeh: injecting script tag for BokehJS library: \", url);\n",
       "        document.getElementsByTagName(\"head\")[0].appendChild(s);\n",
       "      }\n",
       "    };var element = document.getElementById(\"1e0a697d-d9f5-4e2d-858e-47a8b50e2366\");\n",
       "    if (element == null) {\n",
       "      console.log(\"Bokeh: ERROR: autoload.js configured with elementid '1e0a697d-d9f5-4e2d-858e-47a8b50e2366' but no matching script tag was found. \")\n",
       "      return false;\n",
       "    }\n",
       "  \n",
       "    var js_urls = [];\n",
       "  \n",
       "    var inline_js = [\n",
       "      function(Bokeh) {\n",
       "        (function() {\n",
       "          var fn = function() {\n",
       "            var docs_json = {\"5cd7cbd7-5050-4620-95de-01f716a24f25\":{\"roots\":{\"references\":[{\"attributes\":{\"callback\":null,\"end\":8.975000000000001},\"id\":\"b05297b6-7212-4e80-afac-c58b18848044\",\"type\":\"Range1d\"},{\"attributes\":{\"data_source\":{\"id\":\"ee4eda95-cfe2-4934-9322-9906382b7367\",\"type\":\"ColumnDataSource\"},\"glyph\":{\"id\":\"2eee5e63-5c6d-4f16-a0ce-e625c5357969\",\"type\":\"Rect\"},\"hover_glyph\":null,\"muted_glyph\":null},\"id\":\"10ded152-b68c-461e-85ca-c1048c3c9a2a\",\"type\":\"GlyphRenderer\"},{\"attributes\":{\"data_source\":{\"id\":\"006cfd2d-3241-4517-82c6-3272df997a1c\",\"type\":\"ColumnDataSource\"},\"glyph\":{\"id\":\"ace592f1-c361-4d1b-ae2a-b86aadcad393\",\"type\":\"Rect\"},\"hover_glyph\":null,\"muted_glyph\":null},\"id\":\"407ca833-280b-4700-b504-026b3fd17e34\",\"type\":\"GlyphRenderer\"},{\"attributes\":{},\"id\":\"e1e3f13c-0046-435c-b070-809ee53a9a28\",\"type\":\"ToolEvents\"},{\"attributes\":{},\"id\":\"79a04af6-7f84-4dae-acca-5cff15f03d5b\",\"type\":\"BasicTicker\"},{\"attributes\":{\"callback\":null,\"column_names\":[\"y1s\",\"x0s\",\"x1s\",\"y0s\"],\"data\":{\"Treatment\":[\"A\",\"A\",\"A\",\"A\"],\"chart_index\":[{\"Treatment\":\"A\"},{\"Treatment\":\"A\"},{\"Treatment\":\"A\"},{\"Treatment\":\"A\"}],\"x0s\":[\"A:0.5\",\"A:0.65\",\"A:0.5\",\"A:0.65\"],\"x1s\":[\"A:0.5\",\"A:0.35\",\"A:0.5\",\"A:0.35\"],\"y0s\":[6.5,6.5,8.075,8.3],\"y1s\":[7.25,6.5,8.3,8.3]}},\"id\":\"02b30553-8677-4a55-810c-64c407b52239\",\"type\":\"ColumnDataSource\"},{\"attributes\":{\"line_width\":{\"value\":2},\"x0\":{\"field\":\"x0s\"},\"x1\":{\"field\":\"x1s\"},\"y0\":{\"field\":\"y0s\"},\"y1\":{\"field\":\"y1s\"}},\"id\":\"48547846-b146-45cf-ab49-9124dd33651d\",\"type\":\"Segment\"},{\"attributes\":{\"plot\":{\"id\":\"e30d1307-af27-4f58-9438-c3291a89cf3e\",\"subtype\":\"Chart\",\"type\":\"Plot\"}},\"id\":\"6873b433-4cfa-40e4-9460-a9a51cb89588\",\"type\":\"WheelZoomTool\"},{\"attributes\":{\"plot\":{\"id\":\"e30d1307-af27-4f58-9438-c3291a89cf3e\",\"subtype\":\"Chart\",\"type\":\"Plot\"}},\"id\":\"6d70e9fa-01ff-4115-b32d-e6c7fe5f90e1\",\"type\":\"SaveTool\"},{\"attributes\":{\"callback\":null,\"column_names\":[\"x\",\"color\",\"line_alpha\",\"label\",\"fill_alpha\",\"width\",\"height\",\"line_color\",\"y\"],\"data\":{\"Treatment\":[\"B\"],\"chart_index\":[{\"Treatment\":\"B\"}],\"color\":[\"DimGrey\"],\"fill_alpha\":[0.8],\"height\":[0.2999999999999998],\"label\":[{\"Treatment\":\"B\"}],\"line_alpha\":[1.0],\"line_color\":[\"black\"],\"width\":[0.8],\"x\":[\"B\"],\"y\":[6.1]}},\"id\":\"b596eb37-ade5-4f8f-8119-e957cb29ae64\",\"type\":\"ColumnDataSource\"},{\"attributes\":{\"line_width\":{\"value\":2},\"x0\":{\"field\":\"x0s\"},\"x1\":{\"field\":\"x1s\"},\"y0\":{\"field\":\"y0s\"},\"y1\":{\"field\":\"y1s\"}},\"id\":\"143b28c2-7fcd-46e2-895b-896563d774c3\",\"type\":\"Segment\"},{\"attributes\":{\"axis_label\":\"Treatment\",\"formatter\":{\"id\":\"c247f85b-78fc-463b-93b9-37cfff2eb739\",\"type\":\"CategoricalTickFormatter\"},\"major_label_orientation\":0.7853981633974483,\"plot\":{\"id\":\"e30d1307-af27-4f58-9438-c3291a89cf3e\",\"subtype\":\"Chart\",\"type\":\"Plot\"},\"ticker\":{\"id\":\"270a1fef-e442-4406-82b6-1c8f836d089a\",\"type\":\"CategoricalTicker\"}},\"id\":\"92fecfdf-c697-405d-8428-91393f36a4a2\",\"type\":\"CategoricalAxis\"},{\"attributes\":{},\"id\":\"270a1fef-e442-4406-82b6-1c8f836d089a\",\"type\":\"CategoricalTicker\"},{\"attributes\":{},\"id\":\"c247f85b-78fc-463b-93b9-37cfff2eb739\",\"type\":\"CategoricalTickFormatter\"},{\"attributes\":{\"fill_alpha\":{\"field\":\"fill_alpha\"},\"fill_color\":{\"field\":\"color\"},\"height\":{\"field\":\"height\",\"units\":\"data\"},\"line_color\":{\"field\":\"line_color\"},\"width\":{\"field\":\"width\",\"units\":\"data\"},\"x\":{\"field\":\"x\"},\"y\":{\"field\":\"y\"}},\"id\":\"ace592f1-c361-4d1b-ae2a-b86aadcad393\",\"type\":\"Rect\"},{\"attributes\":{\"fill_alpha\":{\"field\":\"fill_alpha\"},\"fill_color\":{\"field\":\"color\"},\"height\":{\"field\":\"height\",\"units\":\"data\"},\"line_color\":{\"field\":\"line_color\"},\"width\":{\"field\":\"width\",\"units\":\"data\"},\"x\":{\"field\":\"x\"},\"y\":{\"field\":\"y\"}},\"id\":\"a41463ef-a85a-40a5-ab42-4de6631f66c6\",\"type\":\"Rect\"},{\"attributes\":{\"callback\":null,\"column_names\":[\"x\",\"color\",\"line_alpha\",\"label\",\"fill_alpha\",\"width\",\"height\",\"line_color\",\"y\"],\"data\":{\"Treatment\":[\"A\"],\"chart_index\":[{\"Treatment\":\"A\"}],\"color\":[\"DimGrey\"],\"fill_alpha\":[0.8],\"height\":[0.3249999999999993],\"label\":[{\"Treatment\":\"A\"}],\"line_alpha\":[1.0],\"line_color\":[\"black\"],\"width\":[0.8],\"x\":[\"A\"],\"y\":[7.9125]}},\"id\":\"cc328e48-ad54-4bb3-b2a9-d3afbb54a17e\",\"type\":\"ColumnDataSource\"},{\"attributes\":{\"bottom_units\":\"screen\",\"fill_alpha\":{\"value\":0.5},\"fill_color\":{\"value\":\"lightgrey\"},\"left_units\":\"screen\",\"level\":\"overlay\",\"line_alpha\":{\"value\":1.0},\"line_color\":{\"value\":\"black\"},\"line_dash\":[4,4],\"line_width\":{\"value\":2},\"plot\":null,\"render_mode\":\"css\",\"right_units\":\"screen\",\"top_units\":\"screen\"},\"id\":\"ae54635f-0a6e-4064-a982-873275d25da7\",\"type\":\"BoxAnnotation\"},{\"attributes\":{\"data_source\":{\"id\":\"cc328e48-ad54-4bb3-b2a9-d3afbb54a17e\",\"type\":\"ColumnDataSource\"},\"glyph\":{\"id\":\"f78790f9-dacf-4688-802f-d452199689a5\",\"type\":\"Rect\"},\"hover_glyph\":null,\"muted_glyph\":null},\"id\":\"1b1b291e-0b0a-4805-9d20-68b0c4d77949\",\"type\":\"GlyphRenderer\"},{\"attributes\":{\"overlay\":{\"id\":\"ae54635f-0a6e-4064-a982-873275d25da7\",\"type\":\"BoxAnnotation\"},\"plot\":{\"id\":\"e30d1307-af27-4f58-9438-c3291a89cf3e\",\"subtype\":\"Chart\",\"type\":\"Plot\"}},\"id\":\"83d4e5ef-0bf9-4c71-acc7-67d3c63a26ba\",\"type\":\"BoxZoomTool\"},{\"attributes\":{\"plot\":null,\"text\":null},\"id\":\"10002f89-e601-47a5-a672-0a938457b2dc\",\"type\":\"Title\"},{\"attributes\":{\"data_source\":{\"id\":\"02b30553-8677-4a55-810c-64c407b52239\",\"type\":\"ColumnDataSource\"},\"glyph\":{\"id\":\"48547846-b146-45cf-ab49-9124dd33651d\",\"type\":\"Segment\"},\"hover_glyph\":null,\"muted_glyph\":null},\"id\":\"0656fb89-320b-4d85-8bc0-845f4c31bd7c\",\"type\":\"GlyphRenderer\"},{\"attributes\":{\"axis_label\":\"Ph\",\"formatter\":{\"id\":\"4615afe5-3317-4cb6-bb16-2482e7e5f59b\",\"type\":\"BasicTickFormatter\"},\"plot\":{\"id\":\"e30d1307-af27-4f58-9438-c3291a89cf3e\",\"subtype\":\"Chart\",\"type\":\"Plot\"},\"ticker\":{\"id\":\"79a04af6-7f84-4dae-acca-5cff15f03d5b\",\"type\":\"BasicTicker\"}},\"id\":\"772dfd78-2e61-4cf5-8d92-6ddae5d769b2\",\"type\":\"LinearAxis\"},{\"attributes\":{\"fill_alpha\":{\"field\":\"fill_alpha\"},\"fill_color\":{\"field\":\"color\"},\"height\":{\"field\":\"height\",\"units\":\"data\"},\"line_color\":{\"field\":\"line_color\"},\"width\":{\"field\":\"width\",\"units\":\"data\"},\"x\":{\"field\":\"x\"},\"y\":{\"field\":\"y\"}},\"id\":\"f78790f9-dacf-4688-802f-d452199689a5\",\"type\":\"Rect\"},{\"attributes\":{\"data_source\":{\"id\":\"006514d3-54fa-4e7d-8416-c7707c40152b\",\"type\":\"ColumnDataSource\"},\"glyph\":{\"id\":\"143b28c2-7fcd-46e2-895b-896563d774c3\",\"type\":\"Segment\"},\"hover_glyph\":null,\"muted_glyph\":null},\"id\":\"1670f233-dd4f-4eb0-8d08-5c4584e76026\",\"type\":\"GlyphRenderer\"},{\"attributes\":{\"plot\":{\"id\":\"e30d1307-af27-4f58-9438-c3291a89cf3e\",\"subtype\":\"Chart\",\"type\":\"Plot\"}},\"id\":\"56214690-9b62-48f1-a590-618691f84071\",\"type\":\"PanTool\"},{\"attributes\":{},\"id\":\"4615afe5-3317-4cb6-bb16-2482e7e5f59b\",\"type\":\"BasicTickFormatter\"},{\"attributes\":{\"callback\":null,\"column_names\":[\"x\",\"color\",\"line_alpha\",\"label\",\"fill_alpha\",\"width\",\"height\",\"line_color\",\"y\"],\"data\":{\"Treatment\":[\"A\"],\"chart_index\":[{\"Treatment\":\"A\"}],\"color\":[\"DimGrey\"],\"fill_alpha\":[0.8],\"height\":[0.5],\"label\":[{\"Treatment\":\"A\"}],\"line_alpha\":[1.0],\"line_color\":[\"black\"],\"width\":[0.8],\"x\":[\"A\"],\"y\":[7.5]}},\"id\":\"ee4eda95-cfe2-4934-9322-9906382b7367\",\"type\":\"ColumnDataSource\"},{\"attributes\":{\"callback\":null,\"factors\":[\"A\",\"B\"]},\"id\":\"fb1885e9-03fb-412f-9687-5678680661b3\",\"type\":\"FactorRange\"},{\"attributes\":{\"active_drag\":\"auto\",\"active_scroll\":\"auto\",\"active_tap\":\"auto\",\"tools\":[{\"id\":\"56214690-9b62-48f1-a590-618691f84071\",\"type\":\"PanTool\"},{\"id\":\"6873b433-4cfa-40e4-9460-a9a51cb89588\",\"type\":\"WheelZoomTool\"},{\"id\":\"83d4e5ef-0bf9-4c71-acc7-67d3c63a26ba\",\"type\":\"BoxZoomTool\"},{\"id\":\"6d70e9fa-01ff-4115-b32d-e6c7fe5f90e1\",\"type\":\"SaveTool\"},{\"id\":\"fc041274-c3b7-4344-80c5-4bcb34f1ef68\",\"type\":\"ResetTool\"},{\"id\":\"9d4b782a-6f1e-43fd-a13f-2284f4ce850e\",\"type\":\"HelpTool\"}]},\"id\":\"b08ccd44-4cec-4977-a4d1-529165b8bf50\",\"type\":\"Toolbar\"},{\"attributes\":{\"plot\":{\"id\":\"e30d1307-af27-4f58-9438-c3291a89cf3e\",\"subtype\":\"Chart\",\"type\":\"Plot\"}},\"id\":\"9d4b782a-6f1e-43fd-a13f-2284f4ce850e\",\"type\":\"HelpTool\"},{\"attributes\":{\"below\":[{\"id\":\"92fecfdf-c697-405d-8428-91393f36a4a2\",\"type\":\"CategoricalAxis\"}],\"css_classes\":null,\"left\":[{\"id\":\"772dfd78-2e61-4cf5-8d92-6ddae5d769b2\",\"type\":\"LinearAxis\"}],\"renderers\":[{\"id\":\"ae54635f-0a6e-4064-a982-873275d25da7\",\"type\":\"BoxAnnotation\"},{\"id\":\"10ded152-b68c-461e-85ca-c1048c3c9a2a\",\"type\":\"GlyphRenderer\"},{\"id\":\"1b1b291e-0b0a-4805-9d20-68b0c4d77949\",\"type\":\"GlyphRenderer\"},{\"id\":\"0656fb89-320b-4d85-8bc0-845f4c31bd7c\",\"type\":\"GlyphRenderer\"},{\"id\":\"25493e28-9bf4-4828-8cad-e948c87f533c\",\"type\":\"GlyphRenderer\"},{\"id\":\"407ca833-280b-4700-b504-026b3fd17e34\",\"type\":\"GlyphRenderer\"},{\"id\":\"1670f233-dd4f-4eb0-8d08-5c4584e76026\",\"type\":\"GlyphRenderer\"},{\"id\":\"343e9155-7712-4356-aed9-25a319bff2ef\",\"type\":\"Legend\"},{\"id\":\"92fecfdf-c697-405d-8428-91393f36a4a2\",\"type\":\"CategoricalAxis\"},{\"id\":\"772dfd78-2e61-4cf5-8d92-6ddae5d769b2\",\"type\":\"LinearAxis\"},{\"id\":\"bda1a757-a252-4b17-996f-588d8368b05a\",\"type\":\"Grid\"}],\"title\":{\"id\":\"10002f89-e601-47a5-a672-0a938457b2dc\",\"type\":\"Title\"},\"tool_events\":{\"id\":\"e1e3f13c-0046-435c-b070-809ee53a9a28\",\"type\":\"ToolEvents\"},\"toolbar\":{\"id\":\"b08ccd44-4cec-4977-a4d1-529165b8bf50\",\"type\":\"Toolbar\"},\"x_mapper_type\":\"auto\",\"x_range\":{\"id\":\"fb1885e9-03fb-412f-9687-5678680661b3\",\"type\":\"FactorRange\"},\"y_mapper_type\":\"auto\",\"y_range\":{\"id\":\"b05297b6-7212-4e80-afac-c58b18848044\",\"type\":\"Range1d\"}},\"id\":\"e30d1307-af27-4f58-9438-c3291a89cf3e\",\"subtype\":\"Chart\",\"type\":\"Plot\"},{\"attributes\":{\"label\":{\"value\":\"B\"},\"renderers\":[{\"id\":\"25493e28-9bf4-4828-8cad-e948c87f533c\",\"type\":\"GlyphRenderer\"},{\"id\":\"407ca833-280b-4700-b504-026b3fd17e34\",\"type\":\"GlyphRenderer\"},{\"id\":\"1670f233-dd4f-4eb0-8d08-5c4584e76026\",\"type\":\"GlyphRenderer\"}]},\"id\":\"4e4c4c7e-31b7-4bb6-bc8c-211c3fed8a4a\",\"type\":\"LegendItem\"},{\"attributes\":{\"label\":{\"value\":\"A\"},\"renderers\":[{\"id\":\"10ded152-b68c-461e-85ca-c1048c3c9a2a\",\"type\":\"GlyphRenderer\"},{\"id\":\"1b1b291e-0b0a-4805-9d20-68b0c4d77949\",\"type\":\"GlyphRenderer\"},{\"id\":\"0656fb89-320b-4d85-8bc0-845f4c31bd7c\",\"type\":\"GlyphRenderer\"}]},\"id\":\"acdf1828-1e46-4da6-87c8-ac526b5c2df9\",\"type\":\"LegendItem\"},{\"attributes\":{\"callback\":null,\"column_names\":[\"y1s\",\"x0s\",\"x1s\",\"y0s\"],\"data\":{\"Treatment\":[\"B\",\"B\",\"B\",\"B\"],\"chart_index\":[{\"Treatment\":\"B\"},{\"Treatment\":\"B\"},{\"Treatment\":\"B\"},{\"Treatment\":\"B\"}],\"x0s\":[\"B:0.5\",\"B:0.65\",\"B:0.5\",\"B:0.65\"],\"x1s\":[\"B:0.5\",\"B:0.35\",\"B:0.5\",\"B:0.35\"],\"y0s\":[5.2,5.2,6.5249999999999995,7.2],\"y1s\":[5.95,5.2,7.2,7.2]}},\"id\":\"006514d3-54fa-4e7d-8416-c7707c40152b\",\"type\":\"ColumnDataSource\"},{\"attributes\":{\"callback\":null,\"column_names\":[\"x\",\"color\",\"line_alpha\",\"label\",\"fill_alpha\",\"width\",\"height\",\"line_color\",\"y\"],\"data\":{\"Treatment\":[\"B\"],\"chart_index\":[{\"Treatment\":\"B\"}],\"color\":[\"DimGrey\"],\"fill_alpha\":[0.8],\"height\":[0.27499999999999947],\"label\":[{\"Treatment\":\"B\"}],\"line_alpha\":[1.0],\"line_color\":[\"black\"],\"width\":[0.8],\"x\":[\"B\"],\"y\":[6.387499999999999]}},\"id\":\"006cfd2d-3241-4517-82c6-3272df997a1c\",\"type\":\"ColumnDataSource\"},{\"attributes\":{\"data_source\":{\"id\":\"b596eb37-ade5-4f8f-8119-e957cb29ae64\",\"type\":\"ColumnDataSource\"},\"glyph\":{\"id\":\"a41463ef-a85a-40a5-ab42-4de6631f66c6\",\"type\":\"Rect\"},\"hover_glyph\":null,\"muted_glyph\":null},\"id\":\"25493e28-9bf4-4828-8cad-e948c87f533c\",\"type\":\"GlyphRenderer\"},{\"attributes\":{\"dimension\":1,\"plot\":{\"id\":\"e30d1307-af27-4f58-9438-c3291a89cf3e\",\"subtype\":\"Chart\",\"type\":\"Plot\"},\"ticker\":{\"id\":\"79a04af6-7f84-4dae-acca-5cff15f03d5b\",\"type\":\"BasicTicker\"}},\"id\":\"bda1a757-a252-4b17-996f-588d8368b05a\",\"type\":\"Grid\"},{\"attributes\":{\"plot\":{\"id\":\"e30d1307-af27-4f58-9438-c3291a89cf3e\",\"subtype\":\"Chart\",\"type\":\"Plot\"}},\"id\":\"fc041274-c3b7-4344-80c5-4bcb34f1ef68\",\"type\":\"ResetTool\"},{\"attributes\":{\"fill_alpha\":{\"field\":\"fill_alpha\"},\"fill_color\":{\"field\":\"color\"},\"height\":{\"field\":\"height\",\"units\":\"data\"},\"line_color\":{\"field\":\"line_color\"},\"width\":{\"field\":\"width\",\"units\":\"data\"},\"x\":{\"field\":\"x\"},\"y\":{\"field\":\"y\"}},\"id\":\"2eee5e63-5c6d-4f16-a0ce-e625c5357969\",\"type\":\"Rect\"},{\"attributes\":{\"items\":[{\"id\":\"acdf1828-1e46-4da6-87c8-ac526b5c2df9\",\"type\":\"LegendItem\"},{\"id\":\"4e4c4c7e-31b7-4bb6-bc8c-211c3fed8a4a\",\"type\":\"LegendItem\"}],\"location\":\"bottom_right\",\"plot\":{\"id\":\"e30d1307-af27-4f58-9438-c3291a89cf3e\",\"subtype\":\"Chart\",\"type\":\"Plot\"}},\"id\":\"343e9155-7712-4356-aed9-25a319bff2ef\",\"type\":\"Legend\"}],\"root_ids\":[\"e30d1307-af27-4f58-9438-c3291a89cf3e\"]},\"title\":\"Bokeh Application\",\"version\":\"0.12.5\"}};\n",
       "            var render_items = [{\"docid\":\"5cd7cbd7-5050-4620-95de-01f716a24f25\",\"elementid\":\"1e0a697d-d9f5-4e2d-858e-47a8b50e2366\",\"modelid\":\"e30d1307-af27-4f58-9438-c3291a89cf3e\"}];\n",
       "            \n",
       "            Bokeh.embed.embed_items(docs_json, render_items);\n",
       "          };\n",
       "          if (document.readyState != \"loading\") fn();\n",
       "          else document.addEventListener(\"DOMContentLoaded\", fn);\n",
       "        })();\n",
       "      },\n",
       "      function(Bokeh) {\n",
       "      }\n",
       "    ];\n",
       "  \n",
       "    function run_inline_js() {\n",
       "      \n",
       "      if ((window.Bokeh !== undefined) || (force === true)) {\n",
       "        for (var i = 0; i < inline_js.length; i++) {\n",
       "          inline_js[i](window.Bokeh);\n",
       "        }if (force === true) {\n",
       "          display_loaded();\n",
       "        }} else if (Date.now() < window._bokeh_timeout) {\n",
       "        setTimeout(run_inline_js, 100);\n",
       "      } else if (!window._bokeh_failed_load) {\n",
       "        console.log(\"Bokeh: BokehJS failed to load within specified timeout.\");\n",
       "        window._bokeh_failed_load = true;\n",
       "      } else if (force !== true) {\n",
       "        var cell = $(document.getElementById(\"1e0a697d-d9f5-4e2d-858e-47a8b50e2366\")).parents('.cell').data().cell;\n",
       "        cell.output_area.append_execute_result(NB_LOAD_WARNING)\n",
       "      }\n",
       "  \n",
       "    }\n",
       "  \n",
       "    if (window._bokeh_is_loading === 0) {\n",
       "      console.log(\"Bokeh: BokehJS loaded, going straight to plotting\");\n",
       "      run_inline_js();\n",
       "    } else {\n",
       "      load_libs(js_urls, function() {\n",
       "        console.log(\"Bokeh: BokehJS plotting callback run at\", now());\n",
       "        run_inline_js();\n",
       "      });\n",
       "    }\n",
       "  }(this));\n",
       "</script>"
      ]
     },
     "metadata": {},
     "output_type": "display_data"
    }
   ],
   "source": [
    "p = BoxPlot(mydata, values='pH', \n",
    "            label='Treatment', legend='bottom_right')\n",
    "show(p)"
   ]
  },
  {
   "cell_type": "markdown",
   "metadata": {},
   "source": [
    "<div class=\"alert alert-success\">\n",
    "    Plotting libraries (`seaborn`, `altair`, `ggplot`, `bokeh`...) are ready to digest your `tidy` data!\n",
    "</div>"
   ]
  },
  {
   "cell_type": "code",
   "execution_count": null,
   "metadata": {
    "collapsed": true,
    "run_control": {
     "frozen": false,
     "read_only": false
    }
   },
   "outputs": [],
   "source": []
  },
  {
   "cell_type": "code",
   "execution_count": null,
   "metadata": {
    "collapsed": true,
    "run_control": {
     "frozen": false,
     "read_only": false
    }
   },
   "outputs": [],
   "source": []
  }
 ],
 "metadata": {
  "kernelspec": {
   "display_name": "Python 3",
   "language": "python",
   "name": "python3"
  },
  "language_info": {
   "codemirror_mode": {
    "name": "ipython",
    "version": 3
   },
   "file_extension": ".py",
   "mimetype": "text/x-python",
   "name": "python",
   "nbconvert_exporter": "python",
   "pygments_lexer": "ipython3",
   "version": "3.5.3"
  },
  "nav_menu": {},
  "toc": {
   "navigate_menu": true,
   "number_sections": true,
   "sideBar": true,
   "threshold": 6,
   "toc_cell": false,
   "toc_section_display": "block",
   "toc_window_display": false
  }
 },
 "nbformat": 4,
 "nbformat_minor": 2
}
