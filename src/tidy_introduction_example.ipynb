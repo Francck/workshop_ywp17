{
 "cells": [
  {
   "cell_type": "code",
   "execution_count": 407,
   "metadata": {
    "collapsed": true,
    "run_control": {
     "frozen": false,
     "read_only": false
    }
   },
   "outputs": [],
   "source": [
    "import pandas as pd\n",
    "import seaborn as sns\n",
    "%matplotlib inline"
   ]
  },
  {
   "cell_type": "code",
   "execution_count": 408,
   "metadata": {
    "collapsed": true,
    "run_control": {
     "frozen": false,
     "read_only": false
    }
   },
   "outputs": [],
   "source": [
    "mydata = pd.read_csv(\"../data/tidy_intro_1.txt\", delimiter=\",\")"
   ]
  },
  {
   "cell_type": "code",
   "execution_count": 409,
   "metadata": {
    "run_control": {
     "frozen": false,
     "read_only": false
    }
   },
   "outputs": [
    {
     "data": {
      "text/html": [
       "<div>\n",
       "<style>\n",
       "    .dataframe thead tr:only-child th {\n",
       "        text-align: right;\n",
       "    }\n",
       "\n",
       "    .dataframe thead th {\n",
       "        text-align: left;\n",
       "    }\n",
       "\n",
       "    .dataframe tbody tr th {\n",
       "        vertical-align: top;\n",
       "    }\n",
       "</style>\n",
       "<table border=\"1\" class=\"dataframe\">\n",
       "  <thead>\n",
       "    <tr style=\"text-align: right;\">\n",
       "      <th></th>\n",
       "      <th>WWTP</th>\n",
       "      <th>Treatment</th>\n",
       "      <th>pH</th>\n",
       "    </tr>\n",
       "  </thead>\n",
       "  <tbody>\n",
       "    <tr>\n",
       "      <th>0</th>\n",
       "      <td>Destelbergen</td>\n",
       "      <td>A</td>\n",
       "      <td>8.0</td>\n",
       "    </tr>\n",
       "    <tr>\n",
       "      <th>1</th>\n",
       "      <td>Landegem</td>\n",
       "      <td>A</td>\n",
       "      <td>7.5</td>\n",
       "    </tr>\n",
       "    <tr>\n",
       "      <th>2</th>\n",
       "      <td>Dendermonde</td>\n",
       "      <td>A</td>\n",
       "      <td>8.3</td>\n",
       "    </tr>\n",
       "    <tr>\n",
       "      <th>3</th>\n",
       "      <td>Eeklo</td>\n",
       "      <td>A</td>\n",
       "      <td>6.5</td>\n",
       "    </tr>\n",
       "    <tr>\n",
       "      <th>4</th>\n",
       "      <td>Destelbergen</td>\n",
       "      <td>B</td>\n",
       "      <td>6.3</td>\n",
       "    </tr>\n",
       "    <tr>\n",
       "      <th>5</th>\n",
       "      <td>Landegem</td>\n",
       "      <td>B</td>\n",
       "      <td>5.2</td>\n",
       "    </tr>\n",
       "    <tr>\n",
       "      <th>6</th>\n",
       "      <td>Dendermonde</td>\n",
       "      <td>B</td>\n",
       "      <td>6.2</td>\n",
       "    </tr>\n",
       "    <tr>\n",
       "      <th>7</th>\n",
       "      <td>Eeklo</td>\n",
       "      <td>B</td>\n",
       "      <td>7.2</td>\n",
       "    </tr>\n",
       "  </tbody>\n",
       "</table>\n",
       "</div>"
      ],
      "text/plain": [
       "           WWTP Treatment   pH\n",
       "0  Destelbergen         A  8.0\n",
       "1      Landegem         A  7.5\n",
       "2   Dendermonde         A  8.3\n",
       "3         Eeklo         A  6.5\n",
       "4  Destelbergen         B  6.3\n",
       "5      Landegem         B  5.2\n",
       "6   Dendermonde         B  6.2\n",
       "7         Eeklo         B  7.2"
      ]
     },
     "execution_count": 409,
     "metadata": {},
     "output_type": "execute_result"
    }
   ],
   "source": [
    "mydata"
   ]
  },
  {
   "cell_type": "markdown",
   "metadata": {},
   "source": [
    "# I need the short-format..."
   ]
  },
  {
   "cell_type": "markdown",
   "metadata": {},
   "source": [
    "For visualisations and to get a quick comparison, the short form can be required:\n",
    "\n",
    "| WWTP | Treatment A | Treatment B |\n",
    "|:------|-------------|-------------|\n",
    "| Dendermonde | 8.3  | 6.2 |\n",
    "| Destelbergen | 8.  | 6.3 |\n",
    "| Eeklo | 6.5  | 7.2 |\n",
    "| Landegem | 7.5  | 5.2 |"
   ]
  },
  {
   "cell_type": "markdown",
   "metadata": {},
   "source": [
    "The `pivot` and `pivot_table` commands will provide you a convenient way to get there, starting from the tidy version:"
   ]
  },
  {
   "cell_type": "code",
   "execution_count": 410,
   "metadata": {
    "run_control": {
     "frozen": false,
     "read_only": false
    },
    "scrolled": true
   },
   "outputs": [
    {
     "data": {
      "text/html": [
       "<div>\n",
       "<style>\n",
       "    .dataframe thead tr:only-child th {\n",
       "        text-align: right;\n",
       "    }\n",
       "\n",
       "    .dataframe thead th {\n",
       "        text-align: left;\n",
       "    }\n",
       "\n",
       "    .dataframe tbody tr th {\n",
       "        vertical-align: top;\n",
       "    }\n",
       "</style>\n",
       "<table border=\"1\" class=\"dataframe\">\n",
       "  <thead>\n",
       "    <tr style=\"text-align: right;\">\n",
       "      <th>Treatment</th>\n",
       "      <th>A</th>\n",
       "      <th>B</th>\n",
       "    </tr>\n",
       "    <tr>\n",
       "      <th>WWTP</th>\n",
       "      <th></th>\n",
       "      <th></th>\n",
       "    </tr>\n",
       "  </thead>\n",
       "  <tbody>\n",
       "    <tr>\n",
       "      <th>Dendermonde</th>\n",
       "      <td>8.3</td>\n",
       "      <td>6.2</td>\n",
       "    </tr>\n",
       "    <tr>\n",
       "      <th>Destelbergen</th>\n",
       "      <td>8.0</td>\n",
       "      <td>6.3</td>\n",
       "    </tr>\n",
       "    <tr>\n",
       "      <th>Eeklo</th>\n",
       "      <td>6.5</td>\n",
       "      <td>7.2</td>\n",
       "    </tr>\n",
       "    <tr>\n",
       "      <th>Landegem</th>\n",
       "      <td>7.5</td>\n",
       "      <td>5.2</td>\n",
       "    </tr>\n",
       "  </tbody>\n",
       "</table>\n",
       "</div>"
      ],
      "text/plain": [
       "Treatment       A    B\n",
       "WWTP                  \n",
       "Dendermonde   8.3  6.2\n",
       "Destelbergen  8.0  6.3\n",
       "Eeklo         6.5  7.2\n",
       "Landegem      7.5  5.2"
      ]
     },
     "execution_count": 410,
     "metadata": {},
     "output_type": "execute_result"
    }
   ],
   "source": [
    "short_form = mydata.pivot(index=\"WWTP\", columns=\"Treatment\", values=\"pH\")\n",
    "short_form"
   ]
  },
  {
   "cell_type": "markdown",
   "metadata": {},
   "source": [
    "And, for example, create a `heatmap` of the data"
   ]
  },
  {
   "cell_type": "code",
   "execution_count": 411,
   "metadata": {
    "run_control": {
     "frozen": false,
     "read_only": false
    }
   },
   "outputs": [
    {
     "data": {
      "text/plain": [
       "<matplotlib.axes._subplots.AxesSubplot at 0x7f0658205be0>"
      ]
     },
     "execution_count": 411,
     "metadata": {},
     "output_type": "execute_result"
    },
    {
     "data": {
      "image/png": "[encoded data removed]",
      "text/plain": [
       "<matplotlib.figure.Figure at 0x7f06581fb8d0>"
      ]
     },
     "metadata": {},
     "output_type": "display_data"
    }
   ],
   "source": [
    "sns.heatmap(short_form)"
   ]
  },
  {
   "cell_type": "markdown",
   "metadata": {},
   "source": [
    "(for `R`-users, the commands are `gather`/`spread`)"
   ]
  },
  {
   "cell_type": "markdown",
   "metadata": {},
   "source": [
    "<div class=\"alert alert-success\">\n",
    "    The switch from a tidy format to a short format is just a `pivot` command away\n",
    "</div>"
   ]
  },
  {
   "cell_type": "markdown",
   "metadata": {},
   "source": [
    "# Summary statistics"
   ]
  },
  {
   "cell_type": "markdown",
   "metadata": {},
   "source": [
    "What we sometimes do with the short-form, is providing summary statistics:"
   ]
  },
  {
   "cell_type": "code",
   "execution_count": 412,
   "metadata": {
    "run_control": {
     "frozen": false,
     "read_only": false
    }
   },
   "outputs": [
    {
     "data": {
      "text/html": [
       "<div>\n",
       "<style>\n",
       "    .dataframe thead tr:only-child th {\n",
       "        text-align: right;\n",
       "    }\n",
       "\n",
       "    .dataframe thead th {\n",
       "        text-align: left;\n",
       "    }\n",
       "\n",
       "    .dataframe tbody tr th {\n",
       "        vertical-align: top;\n",
       "    }\n",
       "</style>\n",
       "<table border=\"1\" class=\"dataframe\">\n",
       "  <thead>\n",
       "    <tr style=\"text-align: right;\">\n",
       "      <th>Treatment</th>\n",
       "      <th>A</th>\n",
       "      <th>B</th>\n",
       "    </tr>\n",
       "    <tr>\n",
       "      <th>WWTP</th>\n",
       "      <th></th>\n",
       "      <th></th>\n",
       "    </tr>\n",
       "  </thead>\n",
       "  <tbody>\n",
       "    <tr>\n",
       "      <th>Dendermonde</th>\n",
       "      <td>8.3</td>\n",
       "      <td>6.2</td>\n",
       "    </tr>\n",
       "    <tr>\n",
       "      <th>Destelbergen</th>\n",
       "      <td>8.0</td>\n",
       "      <td>6.3</td>\n",
       "    </tr>\n",
       "    <tr>\n",
       "      <th>Eeklo</th>\n",
       "      <td>6.5</td>\n",
       "      <td>7.2</td>\n",
       "    </tr>\n",
       "    <tr>\n",
       "      <th>Landegem</th>\n",
       "      <td>7.5</td>\n",
       "      <td>5.2</td>\n",
       "    </tr>\n",
       "  </tbody>\n",
       "</table>\n",
       "</div>"
      ],
      "text/plain": [
       "Treatment       A    B\n",
       "WWTP                  \n",
       "Dendermonde   8.3  6.2\n",
       "Destelbergen  8.0  6.3\n",
       "Eeklo         6.5  7.2\n",
       "Landegem      7.5  5.2"
      ]
     },
     "execution_count": 412,
     "metadata": {},
     "output_type": "execute_result"
    }
   ],
   "source": [
    "short_form"
   ]
  },
  {
   "cell_type": "code",
   "execution_count": 413,
   "metadata": {
    "run_control": {
     "frozen": false,
     "read_only": false
    }
   },
   "outputs": [
    {
     "data": {
      "text/plain": [
       "Treatment\n",
       "A    7.575\n",
       "B    6.225\n",
       "dtype: float64"
      ]
     },
     "execution_count": 413,
     "metadata": {},
     "output_type": "execute_result"
    }
   ],
   "source": [
    "short_form.mean()"
   ]
  },
  {
   "cell_type": "code",
   "execution_count": 414,
   "metadata": {
    "run_control": {
     "frozen": false,
     "read_only": false
    }
   },
   "outputs": [
    {
     "data": {
      "text/html": [
       "<div>\n",
       "<style>\n",
       "    .dataframe thead tr:only-child th {\n",
       "        text-align: right;\n",
       "    }\n",
       "\n",
       "    .dataframe thead th {\n",
       "        text-align: left;\n",
       "    }\n",
       "\n",
       "    .dataframe tbody tr th {\n",
       "        vertical-align: top;\n",
       "    }\n",
       "</style>\n",
       "<table border=\"1\" class=\"dataframe\">\n",
       "  <thead>\n",
       "    <tr style=\"text-align: right;\">\n",
       "      <th></th>\n",
       "      <th>WWTP</th>\n",
       "      <th>Treatment</th>\n",
       "      <th>pH</th>\n",
       "    </tr>\n",
       "  </thead>\n",
       "  <tbody>\n",
       "    <tr>\n",
       "      <th>0</th>\n",
       "      <td>Destelbergen</td>\n",
       "      <td>A</td>\n",
       "      <td>8.0</td>\n",
       "    </tr>\n",
       "    <tr>\n",
       "      <th>1</th>\n",
       "      <td>Landegem</td>\n",
       "      <td>A</td>\n",
       "      <td>7.5</td>\n",
       "    </tr>\n",
       "    <tr>\n",
       "      <th>2</th>\n",
       "      <td>Dendermonde</td>\n",
       "      <td>A</td>\n",
       "      <td>8.3</td>\n",
       "    </tr>\n",
       "    <tr>\n",
       "      <th>3</th>\n",
       "      <td>Eeklo</td>\n",
       "      <td>A</td>\n",
       "      <td>6.5</td>\n",
       "    </tr>\n",
       "    <tr>\n",
       "      <th>4</th>\n",
       "      <td>Destelbergen</td>\n",
       "      <td>B</td>\n",
       "      <td>6.3</td>\n",
       "    </tr>\n",
       "    <tr>\n",
       "      <th>5</th>\n",
       "      <td>Landegem</td>\n",
       "      <td>B</td>\n",
       "      <td>5.2</td>\n",
       "    </tr>\n",
       "    <tr>\n",
       "      <th>6</th>\n",
       "      <td>Dendermonde</td>\n",
       "      <td>B</td>\n",
       "      <td>6.2</td>\n",
       "    </tr>\n",
       "    <tr>\n",
       "      <th>7</th>\n",
       "      <td>Eeklo</td>\n",
       "      <td>B</td>\n",
       "      <td>7.2</td>\n",
       "    </tr>\n",
       "  </tbody>\n",
       "</table>\n",
       "</div>"
      ],
      "text/plain": [
       "           WWTP Treatment   pH\n",
       "0  Destelbergen         A  8.0\n",
       "1      Landegem         A  7.5\n",
       "2   Dendermonde         A  8.3\n",
       "3         Eeklo         A  6.5\n",
       "4  Destelbergen         B  6.3\n",
       "5      Landegem         B  5.2\n",
       "6   Dendermonde         B  6.2\n",
       "7         Eeklo         B  7.2"
      ]
     },
     "execution_count": 414,
     "metadata": {},
     "output_type": "execute_result"
    }
   ],
   "source": [
    "mydata"
   ]
  },
  {
   "cell_type": "markdown",
   "metadata": {},
   "source": [
    "Starting from a tidy format, you will use a `groupby`, which provides all summary statistics based on groups:"
   ]
  },
  {
   "cell_type": "code",
   "execution_count": 415,
   "metadata": {
    "run_control": {
     "frozen": false,
     "read_only": false
    }
   },
   "outputs": [
    {
     "data": {
      "text/plain": [
       "pH    6.9\n",
       "dtype: float64"
      ]
     },
     "execution_count": 415,
     "metadata": {},
     "output_type": "execute_result"
    }
   ],
   "source": [
    "mydata.mean()"
   ]
  },
  {
   "cell_type": "code",
   "execution_count": 416,
   "metadata": {
    "run_control": {
     "frozen": false,
     "read_only": false
    }
   },
   "outputs": [
    {
     "data": {
      "text/html": [
       "<div>\n",
       "<style>\n",
       "    .dataframe thead tr:only-child th {\n",
       "        text-align: right;\n",
       "    }\n",
       "\n",
       "    .dataframe thead th {\n",
       "        text-align: left;\n",
       "    }\n",
       "\n",
       "    .dataframe tbody tr th {\n",
       "        vertical-align: top;\n",
       "    }\n",
       "</style>\n",
       "<table border=\"1\" class=\"dataframe\">\n",
       "  <thead>\n",
       "    <tr style=\"text-align: right;\">\n",
       "      <th></th>\n",
       "      <th>pH</th>\n",
       "    </tr>\n",
       "    <tr>\n",
       "      <th>Treatment</th>\n",
       "      <th></th>\n",
       "    </tr>\n",
       "  </thead>\n",
       "  <tbody>\n",
       "    <tr>\n",
       "      <th>A</th>\n",
       "      <td>7.575</td>\n",
       "    </tr>\n",
       "    <tr>\n",
       "      <th>B</th>\n",
       "      <td>6.225</td>\n",
       "    </tr>\n",
       "  </tbody>\n",
       "</table>\n",
       "</div>"
      ],
      "text/plain": [
       "              pH\n",
       "Treatment       \n",
       "A          7.575\n",
       "B          6.225"
      ]
     },
     "execution_count": 416,
     "metadata": {},
     "output_type": "execute_result"
    }
   ],
   "source": [
    "mydata.groupby('Treatment').mean() # WWTP"
   ]
  },
  {
   "cell_type": "code",
   "execution_count": 387,
   "metadata": {
    "run_control": {
     "frozen": false,
     "read_only": false
    }
   },
   "outputs": [
    {
     "data": {
      "text/html": [
       "<div>\n",
       "<style>\n",
       "    .dataframe thead tr:only-child th {\n",
       "        text-align: right;\n",
       "    }\n",
       "\n",
       "    .dataframe thead th {\n",
       "        text-align: left;\n",
       "    }\n",
       "\n",
       "    .dataframe tbody tr th {\n",
       "        vertical-align: top;\n",
       "    }\n",
       "</style>\n",
       "<table border=\"1\" class=\"dataframe\">\n",
       "  <thead>\n",
       "    <tr>\n",
       "      <th></th>\n",
       "      <th colspan=\"8\" halign=\"left\">pH</th>\n",
       "    </tr>\n",
       "    <tr>\n",
       "      <th></th>\n",
       "      <th>count</th>\n",
       "      <th>mean</th>\n",
       "      <th>std</th>\n",
       "      <th>min</th>\n",
       "      <th>25%</th>\n",
       "      <th>50%</th>\n",
       "      <th>75%</th>\n",
       "      <th>max</th>\n",
       "    </tr>\n",
       "    <tr>\n",
       "      <th>Treatment</th>\n",
       "      <th></th>\n",
       "      <th></th>\n",
       "      <th></th>\n",
       "      <th></th>\n",
       "      <th></th>\n",
       "      <th></th>\n",
       "      <th></th>\n",
       "      <th></th>\n",
       "    </tr>\n",
       "  </thead>\n",
       "  <tbody>\n",
       "    <tr>\n",
       "      <th>A</th>\n",
       "      <td>4.0</td>\n",
       "      <td>7.575</td>\n",
       "      <td>0.788987</td>\n",
       "      <td>6.5</td>\n",
       "      <td>7.25</td>\n",
       "      <td>7.75</td>\n",
       "      <td>8.075</td>\n",
       "      <td>8.3</td>\n",
       "    </tr>\n",
       "    <tr>\n",
       "      <th>B</th>\n",
       "      <td>4.0</td>\n",
       "      <td>6.225</td>\n",
       "      <td>0.818026</td>\n",
       "      <td>5.2</td>\n",
       "      <td>5.95</td>\n",
       "      <td>6.25</td>\n",
       "      <td>6.525</td>\n",
       "      <td>7.2</td>\n",
       "    </tr>\n",
       "  </tbody>\n",
       "</table>\n",
       "</div>"
      ],
      "text/plain": [
       "             pH                                              \n",
       "          count   mean       std  min   25%   50%    75%  max\n",
       "Treatment                                                    \n",
       "A           4.0  7.575  0.788987  6.5  7.25  7.75  8.075  8.3\n",
       "B           4.0  6.225  0.818026  5.2  5.95  6.25  6.525  7.2"
      ]
     },
     "execution_count": 387,
     "metadata": {},
     "output_type": "execute_result"
    }
   ],
   "source": [
    "mydata.groupby('Treatment').describe() # single readable command from the tidy dataset"
   ]
  },
  {
   "cell_type": "markdown",
   "metadata": {},
   "source": [
    "For `R`-users, the `groupby` function is available as well, using the `dplyr` package."
   ]
  },
  {
   "cell_type": "markdown",
   "metadata": {},
   "source": [
    "<div class=\"alert alert-success\">\n",
    "    `groupby` is doing the usual summary statistics, but for any kind of factorial column variable in the dataset\n",
    "</div>"
   ]
  },
  {
   "cell_type": "markdown",
   "metadata": {},
   "source": [
    "# Plots"
   ]
  },
  {
   "cell_type": "markdown",
   "metadata": {},
   "source": [
    "Many plotting environments in both R and Python (as well as more and more commercial environments such as Tableau,...) provide direct interaction with `tidy` data sets. "
   ]
  },
  {
   "cell_type": "markdown",
   "metadata": {},
   "source": [
    "## Altair"
   ]
  },
  {
   "cell_type": "code",
   "execution_count": 388,
   "metadata": {
    "collapsed": true,
    "run_control": {
     "frozen": false,
     "read_only": false
    }
   },
   "outputs": [],
   "source": [
    "from altair import Chart, Column, Color, Axis, Scale, X, Y, Bin"
   ]
  },
  {
   "cell_type": "markdown",
   "metadata": {},
   "source": [
    "[Altair](https://altair-viz.github.io/) is such an example from the Python-package ecosystem..."
   ]
  },
  {
   "cell_type": "markdown",
   "metadata": {},
   "source": [
    "We define what we want to see in the graph:\n",
    "\n",
    "For the different `WWTP` as individual columns, provide the `pH` as function of the `Treatment`..."
   ]
  },
  {
   "cell_type": "code",
   "execution_count": 390,
   "metadata": {
    "run_control": {
     "frozen": false,
     "read_only": false
    }
   },
   "outputs": [
    {
     "data": {
      "text/html": [
       "<div class=\"vega-embed\" id=\"b08e5a5a-d846-4c43-b482-1e32aaa5961f\"></div>\n",
       "\n",
       "<style>\n",
       ".vega-embed svg, .vega-embed canvas {\n",
       "  border: 1px dotted gray;\n",
       "}\n",
       "\n",
       ".vega-embed .vega-actions a {\n",
       "  margin-right: 6px;\n",
       "}\n",
       "</style>\n"
      ]
     },
     "metadata": {
      "jupyter-vega": "#b08e5a5a-d846-4c43-b482-1e32aaa5961f"
     },
     "output_type": "display_data"
    },
    {
     "data": {
      "application/javascript": [
       "var spec = {\"mark\": \"bar\", \"config\": {\"cell\": {\"height\": 350, \"width\": 500}}, \"encoding\": {\"y\": {\"type\": \"quantitative\", \"field\": \"pH\"}, \"column\": {\"type\": \"nominal\", \"field\": \"WWTP\"}, \"color\": {\"type\": \"nominal\", \"field\": \"Treatment\"}, \"x\": {\"type\": \"nominal\", \"field\": \"Treatment\"}}, \"data\": {\"values\": [{\"pH\": 8.0, \"WWTP\": \"Destelbergen\", \"Treatment\": \"A\"}, {\"pH\": 7.5, \"WWTP\": \"Landegem\", \"Treatment\": \"A\"}, {\"pH\": 8.3, \"WWTP\": \"Dendermonde\", \"Treatment\": \"A\"}, {\"pH\": 6.5, \"WWTP\": \"Eeklo\", \"Treatment\": \"A\"}, {\"pH\": 6.3, \"WWTP\": \"Destelbergen\", \"Treatment\": \"B\"}, {\"pH\": 5.2, \"WWTP\": \"Landegem\", \"Treatment\": \"B\"}, {\"pH\": 6.2, \"WWTP\": \"Dendermonde\", \"Treatment\": \"B\"}, {\"pH\": 7.2, \"WWTP\": \"Eeklo\", \"Treatment\": \"B\"}]}};\n",
       "var selector = \"#b08e5a5a-d846-4c43-b482-1e32aaa5961f\";\n",
       "var type = \"vega-lite\";\n",
       "\n",
       "var output_area = this;\n",
       "require(['nbextensions/jupyter-vega/index'], function(vega) {\n",
       "  vega.render(selector, spec, type, output_area);\n",
       "}, function (err) {\n",
       "  if (err.requireType !== 'scripterror') {\n",
       "    throw(err);\n",
       "  }\n",
       "});\n"
      ]
     },
     "metadata": {
      "jupyter-vega": "#b08e5a5a-d846-4c43-b482-1e32aaa5961f"
     },
     "output_type": "display_data"
    },
    {
     "data": {
      "image/png": "[encoded data removed]"
     },
     "metadata": {
      "jupyter-vega": "#b08e5a5a-d846-4c43-b482-1e32aaa5961f"
     },
     "output_type": "display_data"
    }
   ],
   "source": [
    "Chart(mydata).mark_bar().encode(\n",
    "    column='WWTP',\n",
    "    x='Treatment',\n",
    "    y='pH',\n",
    "    color='Treatment')"
   ]
  },
  {
   "cell_type": "markdown",
   "metadata": {},
   "source": [
    "But,...  *Never trust the default* ;-)"
   ]
  },
  {
   "cell_type": "code",
   "execution_count": 391,
   "metadata": {
    "run_control": {
     "frozen": false,
     "read_only": false
    }
   },
   "outputs": [
    {
     "data": {
      "text/html": [
       "<div class=\"vega-embed\" id=\"f9008745-a639-4136-a05a-c4472b0ac07a\"></div>\n",
       "\n",
       "<style>\n",
       ".vega-embed svg, .vega-embed canvas {\n",
       "  border: 1px dotted gray;\n",
       "}\n",
       "\n",
       ".vega-embed .vega-actions a {\n",
       "  margin-right: 6px;\n",
       "}\n",
       "</style>\n"
      ]
     },
     "metadata": {
      "jupyter-vega": "#f9008745-a639-4136-a05a-c4472b0ac07a"
     },
     "output_type": "display_data"
    },
    {
     "data": {
      "application/javascript": [
       "var spec = {\"mark\": \"bar\", \"config\": {\"cell\": {\"height\": 350, \"width\": 500}}, \"encoding\": {\"y\": {\"type\": \"quantitative\", \"axis\": {\"grid\": false}, \"field\": \"pH\"}, \"column\": {\"type\": \"nominal\", \"axis\": {\"axisWidth\": 0.2, \"offset\": -8.0, \"orient\": \"bottom\"}, \"scale\": {\"padding\": 14.0}, \"field\": \"WWTP\"}, \"color\": {\"type\": \"nominal\", \"field\": \"Treatment\"}, \"x\": {\"type\": \"nominal\", \"axis\": false, \"field\": \"Treatment\"}}, \"data\": {\"values\": [{\"pH\": 8.0, \"WWTP\": \"Destelbergen\", \"Treatment\": \"A\"}, {\"pH\": 7.5, \"WWTP\": \"Landegem\", \"Treatment\": \"A\"}, {\"pH\": 8.3, \"WWTP\": \"Dendermonde\", \"Treatment\": \"A\"}, {\"pH\": 6.5, \"WWTP\": \"Eeklo\", \"Treatment\": \"A\"}, {\"pH\": 6.3, \"WWTP\": \"Destelbergen\", \"Treatment\": \"B\"}, {\"pH\": 5.2, \"WWTP\": \"Landegem\", \"Treatment\": \"B\"}, {\"pH\": 6.2, \"WWTP\": \"Dendermonde\", \"Treatment\": \"B\"}, {\"pH\": 7.2, \"WWTP\": \"Eeklo\", \"Treatment\": \"B\"}]}};\n",
       "var selector = \"#f9008745-a639-4136-a05a-c4472b0ac07a\";\n",
       "var type = \"vega-lite\";\n",
       "\n",
       "var output_area = this;\n",
       "require(['nbextensions/jupyter-vega/index'], function(vega) {\n",
       "  vega.render(selector, spec, type, output_area);\n",
       "}, function (err) {\n",
       "  if (err.requireType !== 'scripterror') {\n",
       "    throw(err);\n",
       "  }\n",
       "});\n"
      ]
     },
     "metadata": {
      "jupyter-vega": "#f9008745-a639-4136-a05a-c4472b0ac07a"
     },
     "output_type": "display_data"
    },
    {
     "data": {
      "image/png": "[encoded data removed]"
     },
     "metadata": {
      "jupyter-vega": "#f9008745-a639-4136-a05a-c4472b0ac07a"
     },
     "output_type": "display_data"
    }
   ],
   "source": [
    "Chart(mydata).mark_bar().encode(\n",
    "    column=Column('WWTP', \n",
    "                  axis=Axis(axisWidth=0.2, offset=-8.0, orient='bottom'), \n",
    "                  scale=Scale(padding=14.0)),    \n",
    "    x= X('Treatment', axis=False),\n",
    "    y= Y('pH', axis=Axis(grid=False)),\n",
    "    color=Color('Treatment'))"
   ]
  },
  {
   "cell_type": "markdown",
   "metadata": {},
   "source": [
    "## ggplot (Grammar of graphics)"
   ]
  },
  {
   "cell_type": "markdown",
   "metadata": {},
   "source": [
    "The [`plotnine` package](https://plotnine.readthedocs.io/en/latest/) in Python provides a `ggplot`interface for Python:"
   ]
  },
  {
   "cell_type": "code",
   "execution_count": 392,
   "metadata": {
    "collapsed": true,
    "run_control": {
     "frozen": false,
     "read_only": false
    }
   },
   "outputs": [],
   "source": [
    "from plotnine import (ggplot, aes, geom_bar, stat_smooth, \n",
    "                      stat_boxplot, geom_point, facet_wrap)"
   ]
  },
  {
   "cell_type": "code",
   "execution_count": 393,
   "metadata": {
    "run_control": {
     "frozen": false,
     "read_only": false
    }
   },
   "outputs": [
    {
     "data": {
      "image/png": "[encoded data removed]",
      "text/plain": [
       "<matplotlib.figure.Figure at 0x7f064d5796a0>"
      ]
     },
     "metadata": {},
     "output_type": "display_data"
    },
    {
     "data": {
      "text/plain": [
       "<ggplot: (-9223363307789515474)>"
      ]
     },
     "execution_count": 393,
     "metadata": {},
     "output_type": "execute_result"
    }
   ],
   "source": [
    "ggplot(mydata, aes(x='WWTP', y='pH', fill='factor(Treatment)')) \\\n",
    "    + geom_bar(stat='identity', position='dodge')"
   ]
  },
  {
   "cell_type": "code",
   "execution_count": 394,
   "metadata": {
    "run_control": {
     "frozen": false,
     "read_only": false
    }
   },
   "outputs": [
    {
     "data": {
      "image/png": "[encoded data removed]",
      "text/plain": [
       "<matplotlib.figure.Figure at 0x7f064d585b38>"
      ]
     },
     "metadata": {},
     "output_type": "display_data"
    },
    {
     "data": {
      "text/plain": [
       "<ggplot: (8729065242088)>"
      ]
     },
     "execution_count": 394,
     "metadata": {},
     "output_type": "execute_result"
    }
   ],
   "source": [
    "ggplot(mydata, aes('Treatment', 'pH')) \\\n",
    "    + stat_boxplot() + geom_point(colour='lightblue')"
   ]
  },
  {
   "cell_type": "markdown",
   "metadata": {},
   "source": [
    "(*I'm fully aware of the limited size of my data set... This is just an example!*)"
   ]
  },
  {
   "cell_type": "code",
   "execution_count": 395,
   "metadata": {
    "run_control": {
     "frozen": false,
     "read_only": false
    }
   },
   "outputs": [
    {
     "data": {
      "image/png": "[encoded data removed]",
      "text/plain": [
       "<matplotlib.figure.Figure at 0x7f064d6d0cf8>"
      ]
     },
     "metadata": {},
     "output_type": "display_data"
    },
    {
     "data": {
      "text/plain": [
       "<ggplot: (8729065189517)>"
      ]
     },
     "execution_count": 395,
     "metadata": {},
     "output_type": "execute_result"
    }
   ],
   "source": [
    "ggplot(mydata, aes('Treatment', 'pH', fill='factor(WWTP)')) \\\n",
    "    + geom_bar(stat='identity', position='dodge')"
   ]
  },
  {
   "cell_type": "markdown",
   "metadata": {},
   "source": [
    "An example with an alternative data set, providing an experiment with the effect for different `input` Concentration:"
   ]
  },
  {
   "cell_type": "code",
   "execution_count": 396,
   "metadata": {
    "collapsed": true,
    "run_control": {
     "frozen": false,
     "read_only": false
    }
   },
   "outputs": [],
   "source": [
    "# %load ../data/tidy_intro_2.txt"
   ]
  },
  {
   "cell_type": "code",
   "execution_count": 397,
   "metadata": {
    "run_control": {
     "frozen": false,
     "read_only": false
    }
   },
   "outputs": [
    {
     "data": {
      "text/html": [
       "<div>\n",
       "<style>\n",
       "    .dataframe thead tr:only-child th {\n",
       "        text-align: right;\n",
       "    }\n",
       "\n",
       "    .dataframe thead th {\n",
       "        text-align: left;\n",
       "    }\n",
       "\n",
       "    .dataframe tbody tr th {\n",
       "        vertical-align: top;\n",
       "    }\n",
       "</style>\n",
       "<table border=\"1\" class=\"dataframe\">\n",
       "  <thead>\n",
       "    <tr style=\"text-align: right;\">\n",
       "      <th></th>\n",
       "      <th>input</th>\n",
       "      <th>Treatment</th>\n",
       "      <th>pH</th>\n",
       "    </tr>\n",
       "  </thead>\n",
       "  <tbody>\n",
       "    <tr>\n",
       "      <th>0</th>\n",
       "      <td>2.0</td>\n",
       "      <td>A</td>\n",
       "      <td>8.0</td>\n",
       "    </tr>\n",
       "    <tr>\n",
       "      <th>1</th>\n",
       "      <td>3.0</td>\n",
       "      <td>A</td>\n",
       "      <td>7.5</td>\n",
       "    </tr>\n",
       "    <tr>\n",
       "      <th>2</th>\n",
       "      <td>4.0</td>\n",
       "      <td>A</td>\n",
       "      <td>7.8</td>\n",
       "    </tr>\n",
       "    <tr>\n",
       "      <th>3</th>\n",
       "      <td>5.0</td>\n",
       "      <td>A</td>\n",
       "      <td>6.5</td>\n",
       "    </tr>\n",
       "    <tr>\n",
       "      <th>4</th>\n",
       "      <td>2.0</td>\n",
       "      <td>B</td>\n",
       "      <td>5.8</td>\n",
       "    </tr>\n",
       "    <tr>\n",
       "      <th>5</th>\n",
       "      <td>3.0</td>\n",
       "      <td>B</td>\n",
       "      <td>5.2</td>\n",
       "    </tr>\n",
       "    <tr>\n",
       "      <th>6</th>\n",
       "      <td>4.0</td>\n",
       "      <td>B</td>\n",
       "      <td>6.2</td>\n",
       "    </tr>\n",
       "    <tr>\n",
       "      <th>7</th>\n",
       "      <td>5.0</td>\n",
       "      <td>B</td>\n",
       "      <td>7.2</td>\n",
       "    </tr>\n",
       "  </tbody>\n",
       "</table>\n",
       "</div>"
      ],
      "text/plain": [
       "   input Treatment   pH\n",
       "0    2.0         A  8.0\n",
       "1    3.0         A  7.5\n",
       "2    4.0         A  7.8\n",
       "3    5.0         A  6.5\n",
       "4    2.0         B  5.8\n",
       "5    3.0         B  5.2\n",
       "6    4.0         B  6.2\n",
       "7    5.0         B  7.2"
      ]
     },
     "execution_count": 397,
     "metadata": {},
     "output_type": "execute_result"
    }
   ],
   "source": [
    "conc_experiment = pd.read_csv(\"../data/tidy_intro_2.txt\", delimiter=\",\")\n",
    "conc_experiment"
   ]
  },
  {
   "cell_type": "markdown",
   "metadata": {},
   "source": [
    "A linear regression applied on the tidy data set is a single function:"
   ]
  },
  {
   "cell_type": "code",
   "execution_count": 399,
   "metadata": {
    "run_control": {
     "frozen": false,
     "read_only": false
    }
   },
   "outputs": [
    {
     "data": {
      "image/png": "[encoded data removed]",
      "text/plain": [
       "<matplotlib.figure.Figure at 0x7f064da329b0>"
      ]
     },
     "metadata": {},
     "output_type": "display_data"
    },
    {
     "data": {
      "text/plain": [
       "<ggplot: (8729065629637)>"
      ]
     },
     "execution_count": 399,
     "metadata": {},
     "output_type": "execute_result"
    }
   ],
   "source": [
    "ggplot(conc_experiment, aes(x='input', y='pH', fill='factor(Treatment)')) \\\n",
    "    + geom_point() + stat_smooth(method='lm') + facet_wrap('~Treatment')"
   ]
  },
  {
   "cell_type": "markdown",
   "metadata": {},
   "source": [
    "## Bokeh plot library"
   ]
  },
  {
   "cell_type": "markdown",
   "metadata": {},
   "source": [
    "One of the nice items about Bokeh, is the creation of interactive plots..."
   ]
  },
  {
   "cell_type": "code",
   "execution_count": 315,
   "metadata": {
    "run_control": {
     "frozen": false,
     "read_only": false
    }
   },
   "outputs": [
    {
     "data": {
      "text/html": [
       "\n",
       "    <div class=\"bk-root\">\n",
       "        <a href=\"http://bokeh.pydata.org\" target=\"_blank\" class=\"bk-logo bk-logo-small bk-logo-notebook\"></a>\n",
       "        <span id=\"35b34c1a-b0a2-4269-9ffb-2d536b6e14dd\">Loading BokehJS ...</span>\n",
       "    </div>"
      ]
     },
     "metadata": {},
     "output_type": "display_data"
    },
    {
     "data": {
      "application/javascript": [
       "\n",
       "(function(global) {\n",
       "  function now() {\n",
       "    return new Date();\n",
       "  }\n",
       "\n",
       "  var force = true;\n",
       "\n",
       "  if (typeof (window._bokeh_onload_callbacks) === \"undefined\" || force === true) {\n",
       "    window._bokeh_onload_callbacks = [];\n",
       "    window._bokeh_is_loading = undefined;\n",
       "  }\n",
       "\n",
       "\n",
       "  \n",
       "  if (typeof (window._bokeh_timeout) === \"undefined\" || force === true) {\n",
       "    window._bokeh_timeout = Date.now() + 5000;\n",
       "    window._bokeh_failed_load = false;\n",
       "  }\n",
       "\n",
       "  var NB_LOAD_WARNING = {'data': {'text/html':\n",
       "     \"<div style='background-color: #fdd'>\\n\"+\n",
       "     \"<p>\\n\"+\n",
       "     \"BokehJS does not appear to have successfully loaded. If loading BokehJS from CDN, this \\n\"+\n",
       "     \"may be due to a slow or bad network connection. Possible fixes:\\n\"+\n",
       "     \"</p>\\n\"+\n",
       "     \"<ul>\\n\"+\n",
       "     \"<li>re-rerun `output_notebook()` to attempt to load from CDN again, or</li>\\n\"+\n",
       "     \"<li>use INLINE resources instead, as so:</li>\\n\"+\n",
       "     \"</ul>\\n\"+\n",
       "     \"<code>\\n\"+\n",
       "     \"from bokeh.resources import INLINE\\n\"+\n",
       "     \"output_notebook(resources=INLINE)\\n\"+\n",
       "     \"</code>\\n\"+\n",
       "     \"</div>\"}};\n",
       "\n",
       "  function display_loaded() {\n",
       "    if (window.Bokeh !== undefined) {\n",
       "      var el = document.getElementById(\"35b34c1a-b0a2-4269-9ffb-2d536b6e14dd\");\n",
       "      el.textContent = \"BokehJS \" + Bokeh.version + \" successfully loaded.\";\n",
       "    } else if (Date.now() < window._bokeh_timeout) {\n",
       "      setTimeout(display_loaded, 100)\n",
       "    }\n",
       "  }\n",
       "\n",
       "  function run_callbacks() {\n",
       "    window._bokeh_onload_callbacks.forEach(function(callback) { callback() });\n",
       "    delete window._bokeh_onload_callbacks\n",
       "    console.info(\"Bokeh: all callbacks have finished\");\n",
       "  }\n",
       "\n",
       "  function load_libs(js_urls, callback) {\n",
       "    window._bokeh_onload_callbacks.push(callback);\n",
       "    if (window._bokeh_is_loading > 0) {\n",
       "      console.log(\"Bokeh: BokehJS is being loaded, scheduling callback at\", now());\n",
       "      return null;\n",
       "    }\n",
       "    if (js_urls == null || js_urls.length === 0) {\n",
       "      run_callbacks();\n",
       "      return null;\n",
       "    }\n",
       "    console.log(\"Bokeh: BokehJS not loaded, scheduling load and callback at\", now());\n",
       "    window._bokeh_is_loading = js_urls.length;\n",
       "    for (var i = 0; i < js_urls.length; i++) {\n",
       "      var url = js_urls[i];\n",
       "      var s = document.createElement('script');\n",
       "      s.src = url;\n",
       "      s.async = false;\n",
       "      s.onreadystatechange = s.onload = function() {\n",
       "        window._bokeh_is_loading--;\n",
       "        if (window._bokeh_is_loading === 0) {\n",
       "          console.log(\"Bokeh: all BokehJS libraries loaded\");\n",
       "          run_callbacks()\n",
       "        }\n",
       "      };\n",
       "      s.onerror = function() {\n",
       "        console.warn(\"failed to load library \" + url);\n",
       "      };\n",
       "      console.log(\"Bokeh: injecting script tag for BokehJS library: \", url);\n",
       "      document.getElementsByTagName(\"head\")[0].appendChild(s);\n",
       "    }\n",
       "  };var element = document.getElementById(\"35b34c1a-b0a2-4269-9ffb-2d536b6e14dd\");\n",
       "  if (element == null) {\n",
       "    console.log(\"Bokeh: ERROR: autoload.js configured with elementid '35b34c1a-b0a2-4269-9ffb-2d536b6e14dd' but no matching script tag was found. \")\n",
       "    return false;\n",
       "  }\n",
       "\n",
       "  var js_urls = [\"https://cdn.pydata.org/bokeh/release/bokeh-0.12.5.min.js\", \"https://cdn.pydata.org/bokeh/release/bokeh-widgets-0.12.5.min.js\"];\n",
       "\n",
       "  var inline_js = [\n",
       "    function(Bokeh) {\n",
       "      Bokeh.set_log_level(\"info\");\n",
       "    },\n",
       "    \n",
       "    function(Bokeh) {\n",
       "      \n",
       "    },\n",
       "    \n",
       "    function(Bokeh) {\n",
       "      \n",
       "      document.getElementById(\"35b34c1a-b0a2-4269-9ffb-2d536b6e14dd\").textContent = \"BokehJS is loading...\";\n",
       "    },\n",
       "    function(Bokeh) {\n",
       "      console.log(\"Bokeh: injecting CSS: https://cdn.pydata.org/bokeh/release/bokeh-0.12.5.min.css\");\n",
       "      Bokeh.embed.inject_css(\"https://cdn.pydata.org/bokeh/release/bokeh-0.12.5.min.css\");\n",
       "      console.log(\"Bokeh: injecting CSS: https://cdn.pydata.org/bokeh/release/bokeh-widgets-0.12.5.min.css\");\n",
       "      Bokeh.embed.inject_css(\"https://cdn.pydata.org/bokeh/release/bokeh-widgets-0.12.5.min.css\");\n",
       "    }\n",
       "  ];\n",
       "\n",
       "  function run_inline_js() {\n",
       "    \n",
       "    if ((window.Bokeh !== undefined) || (force === true)) {\n",
       "      for (var i = 0; i < inline_js.length; i++) {\n",
       "        inline_js[i](window.Bokeh);\n",
       "      }if (force === true) {\n",
       "        display_loaded();\n",
       "      }} else if (Date.now() < window._bokeh_timeout) {\n",
       "      setTimeout(run_inline_js, 100);\n",
       "    } else if (!window._bokeh_failed_load) {\n",
       "      console.log(\"Bokeh: BokehJS failed to load within specified timeout.\");\n",
       "      window._bokeh_failed_load = true;\n",
       "    } else if (force !== true) {\n",
       "      var cell = $(document.getElementById(\"35b34c1a-b0a2-4269-9ffb-2d536b6e14dd\")).parents('.cell').data().cell;\n",
       "      cell.output_area.append_execute_result(NB_LOAD_WARNING)\n",
       "    }\n",
       "\n",
       "  }\n",
       "\n",
       "  if (window._bokeh_is_loading === 0) {\n",
       "    console.log(\"Bokeh: BokehJS loaded, going straight to plotting\");\n",
       "    run_inline_js();\n",
       "  } else {\n",
       "    load_libs(js_urls, function() {\n",
       "      console.log(\"Bokeh: BokehJS plotting callback run at\", now());\n",
       "      run_inline_js();\n",
       "    });\n",
       "  }\n",
       "}(this));"
      ]
     },
     "metadata": {},
     "output_type": "display_data"
    }
   ],
   "source": [
    "from bokeh.charts import Bar, show, BoxPlot\n",
    "from bokeh.io import output_notebook\n",
    "output_notebook()"
   ]
  },
  {
   "cell_type": "code",
   "execution_count": 316,
   "metadata": {
    "run_control": {
     "frozen": false,
     "read_only": false
    }
   },
   "outputs": [
    {
     "data": {
      "text/html": [
       "\n",
       "\n",
       "    <div class=\"bk-root\">\n",
       "        <div class=\"bk-plotdiv\" id=\"e65c7825-c05d-4196-a240-4189239b821c\"></div>\n",
       "    </div>\n",
       "<script type=\"text/javascript\">\n",
       "  \n",
       "  (function(global) {\n",
       "    function now() {\n",
       "      return new Date();\n",
       "    }\n",
       "  \n",
       "    var force = false;\n",
       "  \n",
       "    if (typeof (window._bokeh_onload_callbacks) === \"undefined\" || force === true) {\n",
       "      window._bokeh_onload_callbacks = [];\n",
       "      window._bokeh_is_loading = undefined;\n",
       "    }\n",
       "  \n",
       "  \n",
       "    \n",
       "    if (typeof (window._bokeh_timeout) === \"undefined\" || force === true) {\n",
       "      window._bokeh_timeout = Date.now() + 0;\n",
       "      window._bokeh_failed_load = false;\n",
       "    }\n",
       "  \n",
       "    var NB_LOAD_WARNING = {'data': {'text/html':\n",
       "       \"<div style='background-color: #fdd'>\\n\"+\n",
       "       \"<p>\\n\"+\n",
       "       \"BokehJS does not appear to have successfully loaded. If loading BokehJS from CDN, this \\n\"+\n",
       "       \"may be due to a slow or bad network connection. Possible fixes:\\n\"+\n",
       "       \"</p>\\n\"+\n",
       "       \"<ul>\\n\"+\n",
       "       \"<li>re-rerun `output_notebook()` to attempt to load from CDN again, or</li>\\n\"+\n",
       "       \"<li>use INLINE resources instead, as so:</li>\\n\"+\n",
       "       \"</ul>\\n\"+\n",
       "       \"<code>\\n\"+\n",
       "       \"from bokeh.resources import INLINE\\n\"+\n",
       "       \"output_notebook(resources=INLINE)\\n\"+\n",
       "       \"</code>\\n\"+\n",
       "       \"</div>\"}};\n",
       "  \n",
       "    function display_loaded() {\n",
       "      if (window.Bokeh !== undefined) {\n",
       "        var el = document.getElementById(\"e65c7825-c05d-4196-a240-4189239b821c\");\n",
       "        el.textContent = \"BokehJS \" + Bokeh.version + \" successfully loaded.\";\n",
       "      } else if (Date.now() < window._bokeh_timeout) {\n",
       "        setTimeout(display_loaded, 100)\n",
       "      }\n",
       "    }\n",
       "  \n",
       "    function run_callbacks() {\n",
       "      window._bokeh_onload_callbacks.forEach(function(callback) { callback() });\n",
       "      delete window._bokeh_onload_callbacks\n",
       "      console.info(\"Bokeh: all callbacks have finished\");\n",
       "    }\n",
       "  \n",
       "    function load_libs(js_urls, callback) {\n",
       "      window._bokeh_onload_callbacks.push(callback);\n",
       "      if (window._bokeh_is_loading > 0) {\n",
       "        console.log(\"Bokeh: BokehJS is being loaded, scheduling callback at\", now());\n",
       "        return null;\n",
       "      }\n",
       "      if (js_urls == null || js_urls.length === 0) {\n",
       "        run_callbacks();\n",
       "        return null;\n",
       "      }\n",
       "      console.log(\"Bokeh: BokehJS not loaded, scheduling load and callback at\", now());\n",
       "      window._bokeh_is_loading = js_urls.length;\n",
       "      for (var i = 0; i < js_urls.length; i++) {\n",
       "        var url = js_urls[i];\n",
       "        var s = document.createElement('script');\n",
       "        s.src = url;\n",
       "        s.async = false;\n",
       "        s.onreadystatechange = s.onload = function() {\n",
       "          window._bokeh_is_loading--;\n",
       "          if (window._bokeh_is_loading === 0) {\n",
       "            console.log(\"Bokeh: all BokehJS libraries loaded\");\n",
       "            run_callbacks()\n",
       "          }\n",
       "        };\n",
       "        s.onerror = function() {\n",
       "          console.warn(\"failed to load library \" + url);\n",
       "        };\n",
       "        console.log(\"Bokeh: injecting script tag for BokehJS library: \", url);\n",
       "        document.getElementsByTagName(\"head\")[0].appendChild(s);\n",
       "      }\n",
       "    };var element = document.getElementById(\"e65c7825-c05d-4196-a240-4189239b821c\");\n",
       "    if (element == null) {\n",
       "      console.log(\"Bokeh: ERROR: autoload.js configured with elementid 'e65c7825-c05d-4196-a240-4189239b821c' but no matching script tag was found. \")\n",
       "      return false;\n",
       "    }\n",
       "  \n",
       "    var js_urls = [];\n",
       "  \n",
       "    var inline_js = [\n",
       "      function(Bokeh) {\n",
       "        (function() {\n",
       "          var fn = function() {\n",
       "            var docs_json = {\"9fb35507-8c07-4856-b3a6-642ac11eccfe\":{\"roots\":{\"references\":[{\"attributes\":{\"plot\":{\"id\":\"c8c6693d-cb7d-4a9c-bbbf-b633bd2248d9\",\"subtype\":\"Chart\",\"type\":\"Plot\"}},\"id\":\"eecb30bc-471d-42bd-87c5-d85c73e26ef0\",\"type\":\"SaveTool\"},{\"attributes\":{\"data_source\":{\"id\":\"f7883076-2e82-4b7f-a66b-f164a39ce7a1\",\"type\":\"ColumnDataSource\"},\"glyph\":{\"id\":\"baf9de38-d8a5-4b48-a710-55953ef6b252\",\"type\":\"Rect\"},\"hover_glyph\":null,\"muted_glyph\":null},\"id\":\"63e5831f-0ceb-4a1f-b76d-24d854346b13\",\"type\":\"GlyphRenderer\"},{\"attributes\":{\"items\":[{\"id\":\"ae715920-b8bd-4de4-b2b6-cb819095a3be\",\"type\":\"LegendItem\"},{\"id\":\"0ecedf57-a500-46dc-bd2d-13d73b7ecc52\",\"type\":\"LegendItem\"}],\"plot\":{\"id\":\"c8c6693d-cb7d-4a9c-bbbf-b633bd2248d9\",\"subtype\":\"Chart\",\"type\":\"Plot\"}},\"id\":\"f39e866e-64fc-4309-ad03-92e4ecc94700\",\"type\":\"Legend\"},{\"attributes\":{\"bottom_units\":\"screen\",\"fill_alpha\":{\"value\":0.5},\"fill_color\":{\"value\":\"lightgrey\"},\"left_units\":\"screen\",\"level\":\"overlay\",\"line_alpha\":{\"value\":1.0},\"line_color\":{\"value\":\"black\"},\"line_dash\":[4,4],\"line_width\":{\"value\":2},\"plot\":null,\"render_mode\":\"css\",\"right_units\":\"screen\",\"top_units\":\"screen\"},\"id\":\"67499cb3-cdf2-47d3-9cd4-d05ad8d96204\",\"type\":\"BoxAnnotation\"},{\"attributes\":{\"fill_alpha\":{\"field\":\"fill_alpha\"},\"fill_color\":{\"field\":\"color\"},\"height\":{\"field\":\"height\",\"units\":\"data\"},\"line_color\":{\"field\":\"line_color\"},\"width\":{\"field\":\"width\",\"units\":\"data\"},\"x\":{\"field\":\"x\"},\"y\":{\"field\":\"y\"}},\"id\":\"aab77ea8-a8e3-448e-a531-c65298731daf\",\"type\":\"Rect\"},{\"attributes\":{\"data_source\":{\"id\":\"4ded7c45-0f65-479d-ac9c-1d284c4d9ae2\",\"type\":\"ColumnDataSource\"},\"glyph\":{\"id\":\"36a011c8-41bf-44da-9b7d-399d4d0d34a1\",\"type\":\"Rect\"},\"hover_glyph\":null,\"muted_glyph\":null},\"id\":\"13ab8c37-9062-4643-82df-27a7e3df456b\",\"type\":\"GlyphRenderer\"},{\"attributes\":{\"plot\":{\"id\":\"c8c6693d-cb7d-4a9c-bbbf-b633bd2248d9\",\"subtype\":\"Chart\",\"type\":\"Plot\"}},\"id\":\"55ccbebe-cc72-4db3-a84c-1cf930c5ea50\",\"type\":\"HelpTool\"},{\"attributes\":{\"fill_alpha\":{\"field\":\"fill_alpha\"},\"fill_color\":{\"field\":\"color\"},\"height\":{\"field\":\"height\",\"units\":\"data\"},\"line_color\":{\"field\":\"line_color\"},\"width\":{\"field\":\"width\",\"units\":\"data\"},\"x\":{\"field\":\"x\"},\"y\":{\"field\":\"y\"}},\"id\":\"26d72ea6-b107-440c-af3a-9438b50e1095\",\"type\":\"Rect\"},{\"attributes\":{\"overlay\":{\"id\":\"67499cb3-cdf2-47d3-9cd4-d05ad8d96204\",\"type\":\"BoxAnnotation\"},\"plot\":{\"id\":\"c8c6693d-cb7d-4a9c-bbbf-b633bd2248d9\",\"subtype\":\"Chart\",\"type\":\"Plot\"}},\"id\":\"9844384c-373d-4210-a1ab-54b6cbe3e02f\",\"type\":\"BoxZoomTool\"},{\"attributes\":{\"active_drag\":\"auto\",\"active_scroll\":\"auto\",\"active_tap\":\"auto\",\"tools\":[{\"id\":\"a0ec3de8-b902-49c9-8efa-37aa5c2a87e6\",\"type\":\"PanTool\"},{\"id\":\"f101433c-5a88-4bb9-ac6d-587d012dd889\",\"type\":\"WheelZoomTool\"},{\"id\":\"9844384c-373d-4210-a1ab-54b6cbe3e02f\",\"type\":\"BoxZoomTool\"},{\"id\":\"eecb30bc-471d-42bd-87c5-d85c73e26ef0\",\"type\":\"SaveTool\"},{\"id\":\"10b92d55-0f7a-49ea-b343-8bd441987e87\",\"type\":\"ResetTool\"},{\"id\":\"55ccbebe-cc72-4db3-a84c-1cf930c5ea50\",\"type\":\"HelpTool\"}]},\"id\":\"79e9ccd6-4917-4c03-96fd-c5308c86289a\",\"type\":\"Toolbar\"},{\"attributes\":{\"callback\":null,\"column_names\":[\"height\",\"fill_alpha\",\"y\",\"line_color\",\"label\",\"width\",\"line_alpha\",\"color\",\"x\"],\"data\":{\"Treatment\":[\"B\"],\"WWTP\":[\"Landegem\"],\"chart_index\":[{\"Treatment\":\"B\",\"WWTP\":\"Landegem\"}],\"color\":[\"#5ab738\"],\"fill_alpha\":[0.8],\"height\":[5.2],\"label\":[{\"Treatment\":\"B\",\"WWTP\":\"Landegem\"}],\"line_alpha\":[1.0],\"line_color\":[\"white\"],\"width\":[0.2],\"x\":[\"Landegem:0.666666666667\"],\"y\":[2.6]}},\"id\":\"da6e891e-45e5-423b-abaf-7a6ed96073f1\",\"type\":\"ColumnDataSource\"},{\"attributes\":{\"fill_alpha\":{\"field\":\"fill_alpha\"},\"fill_color\":{\"field\":\"color\"},\"height\":{\"field\":\"height\",\"units\":\"data\"},\"line_color\":{\"field\":\"line_color\"},\"width\":{\"field\":\"width\",\"units\":\"data\"},\"x\":{\"field\":\"x\"},\"y\":{\"field\":\"y\"}},\"id\":\"4e902d54-5442-4f61-a32e-ef09aecbcaea\",\"type\":\"Rect\"},{\"attributes\":{\"data_source\":{\"id\":\"50083349-ed5c-4608-a78c-1baa487c5e2e\",\"type\":\"ColumnDataSource\"},\"glyph\":{\"id\":\"26d72ea6-b107-440c-af3a-9438b50e1095\",\"type\":\"Rect\"},\"hover_glyph\":null,\"muted_glyph\":null},\"id\":\"297234f0-eb48-436f-9749-c8346e57ba30\",\"type\":\"GlyphRenderer\"},{\"attributes\":{\"fill_alpha\":{\"field\":\"fill_alpha\"},\"fill_color\":{\"field\":\"color\"},\"height\":{\"field\":\"height\",\"units\":\"data\"},\"line_color\":{\"field\":\"line_color\"},\"width\":{\"field\":\"width\",\"units\":\"data\"},\"x\":{\"field\":\"x\"},\"y\":{\"field\":\"y\"}},\"id\":\"35286f69-dad6-41a7-8aa0-66c39adccea3\",\"type\":\"Rect\"},{\"attributes\":{},\"id\":\"f70603c0-b6e6-422f-ae6e-61c92354d19b\",\"type\":\"CategoricalTickFormatter\"},{\"attributes\":{\"data_source\":{\"id\":\"8ed9d7ae-b900-4358-b69f-f8455da12fe3\",\"type\":\"ColumnDataSource\"},\"glyph\":{\"id\":\"35286f69-dad6-41a7-8aa0-66c39adccea3\",\"type\":\"Rect\"},\"hover_glyph\":null,\"muted_glyph\":null},\"id\":\"ae1389d0-ee28-4044-9a25-efea85cb3318\",\"type\":\"GlyphRenderer\"},{\"attributes\":{\"callback\":null,\"column_names\":[\"height\",\"fill_alpha\",\"y\",\"line_color\",\"label\",\"width\",\"line_alpha\",\"color\",\"x\"],\"data\":{\"Treatment\":[\"A\"],\"WWTP\":[\"Eeklo\"],\"chart_index\":[{\"Treatment\":\"A\",\"WWTP\":\"Eeklo\"}],\"color\":[\"#f22c40\"],\"fill_alpha\":[0.8],\"height\":[6.5],\"label\":[{\"Treatment\":\"A\",\"WWTP\":\"Eeklo\"}],\"line_alpha\":[1.0],\"line_color\":[\"white\"],\"width\":[0.2],\"x\":[\"Eeklo:0.333333333333\"],\"y\":[3.25]}},\"id\":\"ba0da20a-19df-4ac0-8aa2-6302b30c5c81\",\"type\":\"ColumnDataSource\"},{\"attributes\":{\"callback\":null,\"column_names\":[\"height\",\"fill_alpha\",\"y\",\"line_color\",\"label\",\"width\",\"line_alpha\",\"color\",\"x\"],\"data\":{\"Treatment\":[\"B\"],\"WWTP\":[\"Dendermonde\"],\"chart_index\":[{\"Treatment\":\"B\",\"WWTP\":\"Dendermonde\"}],\"color\":[\"#5ab738\"],\"fill_alpha\":[0.8],\"height\":[6.2],\"label\":[{\"Treatment\":\"B\",\"WWTP\":\"Dendermonde\"}],\"line_alpha\":[1.0],\"line_color\":[\"white\"],\"width\":[0.2],\"x\":[\"Dendermonde:0.666666666667\"],\"y\":[3.1]}},\"id\":\"4ded7c45-0f65-479d-ac9c-1d284c4d9ae2\",\"type\":\"ColumnDataSource\"},{\"attributes\":{\"axis_label\":\"Wwtp\",\"formatter\":{\"id\":\"f70603c0-b6e6-422f-ae6e-61c92354d19b\",\"type\":\"CategoricalTickFormatter\"},\"major_label_orientation\":0.7853981633974483,\"plot\":{\"id\":\"c8c6693d-cb7d-4a9c-bbbf-b633bd2248d9\",\"subtype\":\"Chart\",\"type\":\"Plot\"},\"ticker\":{\"id\":\"934d7cfb-0d87-4221-a70a-a93faac504aa\",\"type\":\"CategoricalTicker\"}},\"id\":\"bf002f0e-b2bc-4aea-889a-a06ccc1e5f94\",\"type\":\"CategoricalAxis\"},{\"attributes\":{},\"id\":\"b609828b-03e6-4960-a2df-c7426082d1dd\",\"type\":\"BasicTicker\"},{\"attributes\":{\"label\":{\"value\":\"A\"},\"renderers\":[{\"id\":\"297234f0-eb48-436f-9749-c8346e57ba30\",\"type\":\"GlyphRenderer\"}]},\"id\":\"ae715920-b8bd-4de4-b2b6-cb819095a3be\",\"type\":\"LegendItem\"},{\"attributes\":{\"fill_alpha\":{\"field\":\"fill_alpha\"},\"fill_color\":{\"field\":\"color\"},\"height\":{\"field\":\"height\",\"units\":\"data\"},\"line_color\":{\"field\":\"line_color\"},\"width\":{\"field\":\"width\",\"units\":\"data\"},\"x\":{\"field\":\"x\"},\"y\":{\"field\":\"y\"}},\"id\":\"36a011c8-41bf-44da-9b7d-399d4d0d34a1\",\"type\":\"Rect\"},{\"attributes\":{\"dimension\":1,\"plot\":{\"id\":\"c8c6693d-cb7d-4a9c-bbbf-b633bd2248d9\",\"subtype\":\"Chart\",\"type\":\"Plot\"},\"ticker\":{\"id\":\"b609828b-03e6-4960-a2df-c7426082d1dd\",\"type\":\"BasicTicker\"}},\"id\":\"e2217a78-8b60-4c67-a00b-e0c8ab52432c\",\"type\":\"Grid\"},{\"attributes\":{\"axis_label\":\"Sum( Ph )\",\"formatter\":{\"id\":\"c69f9527-be8e-4490-9b88-d41f3e72f8b6\",\"type\":\"BasicTickFormatter\"},\"plot\":{\"id\":\"c8c6693d-cb7d-4a9c-bbbf-b633bd2248d9\",\"subtype\":\"Chart\",\"type\":\"Plot\"},\"ticker\":{\"id\":\"b609828b-03e6-4960-a2df-c7426082d1dd\",\"type\":\"BasicTicker\"}},\"id\":\"be68242e-9ee6-4768-9dfc-062929aa343d\",\"type\":\"LinearAxis\"},{\"attributes\":{},\"id\":\"c69f9527-be8e-4490-9b88-d41f3e72f8b6\",\"type\":\"BasicTickFormatter\"},{\"attributes\":{\"plot\":null,\"text\":null},\"id\":\"a235cfb1-08fd-4dd5-87d0-991115463a69\",\"type\":\"Title\"},{\"attributes\":{\"callback\":null,\"factors\":[\"Dendermonde\",\"Destelbergen\",\"Eeklo\",\"Landegem\"]},\"id\":\"be5b41e1-610d-49ed-a502-4055e92c830a\",\"type\":\"FactorRange\"},{\"attributes\":{\"callback\":null,\"column_names\":[\"height\",\"fill_alpha\",\"y\",\"line_color\",\"label\",\"width\",\"line_alpha\",\"color\",\"x\"],\"data\":{\"Treatment\":[\"A\"],\"WWTP\":[\"Dendermonde\"],\"chart_index\":[{\"Treatment\":\"A\",\"WWTP\":\"Dendermonde\"}],\"color\":[\"#f22c40\"],\"fill_alpha\":[0.8],\"height\":[8.3],\"label\":[{\"Treatment\":\"A\",\"WWTP\":\"Dendermonde\"}],\"line_alpha\":[1.0],\"line_color\":[\"white\"],\"width\":[0.2],\"x\":[\"Dendermonde:0.333333333333\"],\"y\":[4.15]}},\"id\":\"f7883076-2e82-4b7f-a66b-f164a39ce7a1\",\"type\":\"ColumnDataSource\"},{\"attributes\":{\"callback\":null,\"column_names\":[\"height\",\"fill_alpha\",\"y\",\"line_color\",\"label\",\"width\",\"line_alpha\",\"color\",\"x\"],\"data\":{\"Treatment\":[\"B\"],\"WWTP\":[\"Eeklo\"],\"chart_index\":[{\"Treatment\":\"B\",\"WWTP\":\"Eeklo\"}],\"color\":[\"#5ab738\"],\"fill_alpha\":[0.8],\"height\":[7.2],\"label\":[{\"Treatment\":\"B\",\"WWTP\":\"Eeklo\"}],\"line_alpha\":[1.0],\"line_color\":[\"white\"],\"width\":[0.2],\"x\":[\"Eeklo:0.666666666667\"],\"y\":[3.6]}},\"id\":\"4e5da7b7-9605-4d1d-b931-a12c1b1d72f2\",\"type\":\"ColumnDataSource\"},{\"attributes\":{\"fill_alpha\":{\"field\":\"fill_alpha\"},\"fill_color\":{\"field\":\"color\"},\"height\":{\"field\":\"height\",\"units\":\"data\"},\"line_color\":{\"field\":\"line_color\"},\"width\":{\"field\":\"width\",\"units\":\"data\"},\"x\":{\"field\":\"x\"},\"y\":{\"field\":\"y\"}},\"id\":\"329df202-4501-450b-988e-79443538ca3a\",\"type\":\"Rect\"},{\"attributes\":{\"callback\":null,\"end\":8.715},\"id\":\"5bf3fa1b-7f1f-4000-8c63-db89f703deb6\",\"type\":\"Range1d\"},{\"attributes\":{\"callback\":null,\"column_names\":[\"height\",\"fill_alpha\",\"y\",\"line_color\",\"label\",\"width\",\"line_alpha\",\"color\",\"x\"],\"data\":{\"Treatment\":[\"B\"],\"WWTP\":[\"Destelbergen\"],\"chart_index\":[{\"Treatment\":\"B\",\"WWTP\":\"Destelbergen\"}],\"color\":[\"#5ab738\"],\"fill_alpha\":[0.8],\"height\":[6.3],\"label\":[{\"Treatment\":\"B\",\"WWTP\":\"Destelbergen\"}],\"line_alpha\":[1.0],\"line_color\":[\"white\"],\"width\":[0.2],\"x\":[\"Destelbergen:0.666666666667\"],\"y\":[3.15]}},\"id\":\"8ed9d7ae-b900-4358-b69f-f8455da12fe3\",\"type\":\"ColumnDataSource\"},{\"attributes\":{\"data_source\":{\"id\":\"da6e891e-45e5-423b-abaf-7a6ed96073f1\",\"type\":\"ColumnDataSource\"},\"glyph\":{\"id\":\"e03e1ba9-349e-475b-b8bf-2e40efbb321a\",\"type\":\"Rect\"},\"hover_glyph\":null,\"muted_glyph\":null},\"id\":\"a6ea2d4e-83f1-4418-a7c0-ecc1f50d9461\",\"type\":\"GlyphRenderer\"},{\"attributes\":{\"data_source\":{\"id\":\"56fb8f26-08df-4fbb-9dea-939e27ff58a0\",\"type\":\"ColumnDataSource\"},\"glyph\":{\"id\":\"aab77ea8-a8e3-448e-a531-c65298731daf\",\"type\":\"Rect\"},\"hover_glyph\":null,\"muted_glyph\":null},\"id\":\"197865b3-8cdf-41b4-82af-e137d269fb4c\",\"type\":\"GlyphRenderer\"},{\"attributes\":{\"label\":{\"value\":\"B\"},\"renderers\":[{\"id\":\"ae1389d0-ee28-4044-9a25-efea85cb3318\",\"type\":\"GlyphRenderer\"}]},\"id\":\"0ecedf57-a500-46dc-bd2d-13d73b7ecc52\",\"type\":\"LegendItem\"},{\"attributes\":{\"plot\":{\"id\":\"c8c6693d-cb7d-4a9c-bbbf-b633bd2248d9\",\"subtype\":\"Chart\",\"type\":\"Plot\"}},\"id\":\"f101433c-5a88-4bb9-ac6d-587d012dd889\",\"type\":\"WheelZoomTool\"},{\"attributes\":{\"plot\":{\"id\":\"c8c6693d-cb7d-4a9c-bbbf-b633bd2248d9\",\"subtype\":\"Chart\",\"type\":\"Plot\"}},\"id\":\"a0ec3de8-b902-49c9-8efa-37aa5c2a87e6\",\"type\":\"PanTool\"},{\"attributes\":{\"data_source\":{\"id\":\"4e5da7b7-9605-4d1d-b931-a12c1b1d72f2\",\"type\":\"ColumnDataSource\"},\"glyph\":{\"id\":\"4e902d54-5442-4f61-a32e-ef09aecbcaea\",\"type\":\"Rect\"},\"hover_glyph\":null,\"muted_glyph\":null},\"id\":\"9b294f9f-c693-4d58-8a9e-76ca37cb0d95\",\"type\":\"GlyphRenderer\"},{\"attributes\":{\"below\":[{\"id\":\"bf002f0e-b2bc-4aea-889a-a06ccc1e5f94\",\"type\":\"CategoricalAxis\"}],\"css_classes\":null,\"left\":[{\"id\":\"be68242e-9ee6-4768-9dfc-062929aa343d\",\"type\":\"LinearAxis\"}],\"renderers\":[{\"id\":\"67499cb3-cdf2-47d3-9cd4-d05ad8d96204\",\"type\":\"BoxAnnotation\"},{\"id\":\"297234f0-eb48-436f-9749-c8346e57ba30\",\"type\":\"GlyphRenderer\"},{\"id\":\"197865b3-8cdf-41b4-82af-e137d269fb4c\",\"type\":\"GlyphRenderer\"},{\"id\":\"63e5831f-0ceb-4a1f-b76d-24d854346b13\",\"type\":\"GlyphRenderer\"},{\"id\":\"fe29d720-3a86-46dc-8903-5e5c8ea43ded\",\"type\":\"GlyphRenderer\"},{\"id\":\"ae1389d0-ee28-4044-9a25-efea85cb3318\",\"type\":\"GlyphRenderer\"},{\"id\":\"a6ea2d4e-83f1-4418-a7c0-ecc1f50d9461\",\"type\":\"GlyphRenderer\"},{\"id\":\"13ab8c37-9062-4643-82df-27a7e3df456b\",\"type\":\"GlyphRenderer\"},{\"id\":\"9b294f9f-c693-4d58-8a9e-76ca37cb0d95\",\"type\":\"GlyphRenderer\"},{\"id\":\"f39e866e-64fc-4309-ad03-92e4ecc94700\",\"type\":\"Legend\"},{\"id\":\"bf002f0e-b2bc-4aea-889a-a06ccc1e5f94\",\"type\":\"CategoricalAxis\"},{\"id\":\"be68242e-9ee6-4768-9dfc-062929aa343d\",\"type\":\"LinearAxis\"},{\"id\":\"e2217a78-8b60-4c67-a00b-e0c8ab52432c\",\"type\":\"Grid\"}],\"title\":{\"id\":\"a235cfb1-08fd-4dd5-87d0-991115463a69\",\"type\":\"Title\"},\"tool_events\":{\"id\":\"37c3c76f-fac5-4228-b38f-61873c1c3576\",\"type\":\"ToolEvents\"},\"toolbar\":{\"id\":\"79e9ccd6-4917-4c03-96fd-c5308c86289a\",\"type\":\"Toolbar\"},\"x_mapper_type\":\"auto\",\"x_range\":{\"id\":\"be5b41e1-610d-49ed-a502-4055e92c830a\",\"type\":\"FactorRange\"},\"y_mapper_type\":\"auto\",\"y_range\":{\"id\":\"5bf3fa1b-7f1f-4000-8c63-db89f703deb6\",\"type\":\"Range1d\"}},\"id\":\"c8c6693d-cb7d-4a9c-bbbf-b633bd2248d9\",\"subtype\":\"Chart\",\"type\":\"Plot\"},{\"attributes\":{},\"id\":\"37c3c76f-fac5-4228-b38f-61873c1c3576\",\"type\":\"ToolEvents\"},{\"attributes\":{\"data_source\":{\"id\":\"ba0da20a-19df-4ac0-8aa2-6302b30c5c81\",\"type\":\"ColumnDataSource\"},\"glyph\":{\"id\":\"329df202-4501-450b-988e-79443538ca3a\",\"type\":\"Rect\"},\"hover_glyph\":null,\"muted_glyph\":null},\"id\":\"fe29d720-3a86-46dc-8903-5e5c8ea43ded\",\"type\":\"GlyphRenderer\"},{\"attributes\":{},\"id\":\"934d7cfb-0d87-4221-a70a-a93faac504aa\",\"type\":\"CategoricalTicker\"},{\"attributes\":{\"fill_alpha\":{\"field\":\"fill_alpha\"},\"fill_color\":{\"field\":\"color\"},\"height\":{\"field\":\"height\",\"units\":\"data\"},\"line_color\":{\"field\":\"line_color\"},\"width\":{\"field\":\"width\",\"units\":\"data\"},\"x\":{\"field\":\"x\"},\"y\":{\"field\":\"y\"}},\"id\":\"baf9de38-d8a5-4b48-a710-55953ef6b252\",\"type\":\"Rect\"},{\"attributes\":{\"callback\":null,\"column_names\":[\"height\",\"fill_alpha\",\"y\",\"line_color\",\"label\",\"width\",\"line_alpha\",\"color\",\"x\"],\"data\":{\"Treatment\":[\"A\"],\"WWTP\":[\"Landegem\"],\"chart_index\":[{\"Treatment\":\"A\",\"WWTP\":\"Landegem\"}],\"color\":[\"#f22c40\"],\"fill_alpha\":[0.8],\"height\":[7.5],\"label\":[{\"Treatment\":\"A\",\"WWTP\":\"Landegem\"}],\"line_alpha\":[1.0],\"line_color\":[\"white\"],\"width\":[0.2],\"x\":[\"Landegem:0.333333333333\"],\"y\":[3.75]}},\"id\":\"56fb8f26-08df-4fbb-9dea-939e27ff58a0\",\"type\":\"ColumnDataSource\"},{\"attributes\":{\"callback\":null,\"column_names\":[\"height\",\"fill_alpha\",\"y\",\"line_color\",\"label\",\"width\",\"line_alpha\",\"color\",\"x\"],\"data\":{\"Treatment\":[\"A\"],\"WWTP\":[\"Destelbergen\"],\"chart_index\":[{\"Treatment\":\"A\",\"WWTP\":\"Destelbergen\"}],\"color\":[\"#f22c40\"],\"fill_alpha\":[0.8],\"height\":[8.0],\"label\":[{\"Treatment\":\"A\",\"WWTP\":\"Destelbergen\"}],\"line_alpha\":[1.0],\"line_color\":[\"white\"],\"width\":[0.2],\"x\":[\"Destelbergen:0.333333333333\"],\"y\":[4.0]}},\"id\":\"50083349-ed5c-4608-a78c-1baa487c5e2e\",\"type\":\"ColumnDataSource\"},{\"attributes\":{\"plot\":{\"id\":\"c8c6693d-cb7d-4a9c-bbbf-b633bd2248d9\",\"subtype\":\"Chart\",\"type\":\"Plot\"}},\"id\":\"10b92d55-0f7a-49ea-b343-8bd441987e87\",\"type\":\"ResetTool\"},{\"attributes\":{\"fill_alpha\":{\"field\":\"fill_alpha\"},\"fill_color\":{\"field\":\"color\"},\"height\":{\"field\":\"height\",\"units\":\"data\"},\"line_color\":{\"field\":\"line_color\"},\"width\":{\"field\":\"width\",\"units\":\"data\"},\"x\":{\"field\":\"x\"},\"y\":{\"field\":\"y\"}},\"id\":\"e03e1ba9-349e-475b-b8bf-2e40efbb321a\",\"type\":\"Rect\"}],\"root_ids\":[\"c8c6693d-cb7d-4a9c-bbbf-b633bd2248d9\"]},\"title\":\"Bokeh Application\",\"version\":\"0.12.5\"}};\n",
       "            var render_items = [{\"docid\":\"9fb35507-8c07-4856-b3a6-642ac11eccfe\",\"elementid\":\"e65c7825-c05d-4196-a240-4189239b821c\",\"modelid\":\"c8c6693d-cb7d-4a9c-bbbf-b633bd2248d9\"}];\n",
       "            \n",
       "            Bokeh.embed.embed_items(docs_json, render_items);\n",
       "          };\n",
       "          if (document.readyState != \"loading\") fn();\n",
       "          else document.addEventListener(\"DOMContentLoaded\", fn);\n",
       "        })();\n",
       "      },\n",
       "      function(Bokeh) {\n",
       "      }\n",
       "    ];\n",
       "  \n",
       "    function run_inline_js() {\n",
       "      \n",
       "      if ((window.Bokeh !== undefined) || (force === true)) {\n",
       "        for (var i = 0; i < inline_js.length; i++) {\n",
       "          inline_js[i](window.Bokeh);\n",
       "        }if (force === true) {\n",
       "          display_loaded();\n",
       "        }} else if (Date.now() < window._bokeh_timeout) {\n",
       "        setTimeout(run_inline_js, 100);\n",
       "      } else if (!window._bokeh_failed_load) {\n",
       "        console.log(\"Bokeh: BokehJS failed to load within specified timeout.\");\n",
       "        window._bokeh_failed_load = true;\n",
       "      } else if (force !== true) {\n",
       "        var cell = $(document.getElementById(\"e65c7825-c05d-4196-a240-4189239b821c\")).parents('.cell').data().cell;\n",
       "        cell.output_area.append_execute_result(NB_LOAD_WARNING)\n",
       "      }\n",
       "  \n",
       "    }\n",
       "  \n",
       "    if (window._bokeh_is_loading === 0) {\n",
       "      console.log(\"Bokeh: BokehJS loaded, going straight to plotting\");\n",
       "      run_inline_js();\n",
       "    } else {\n",
       "      load_libs(js_urls, function() {\n",
       "        console.log(\"Bokeh: BokehJS plotting callback run at\", now());\n",
       "        run_inline_js();\n",
       "      });\n",
       "    }\n",
       "  }(this));\n",
       "</script>"
      ]
     },
     "metadata": {},
     "output_type": "display_data"
    }
   ],
   "source": [
    "p = Bar(mydata, label='WWTP', values='pH', \n",
    "        group='Treatment', legend='top_right')\n",
    "show(p)"
   ]
  },
  {
   "cell_type": "code",
   "execution_count": 317,
   "metadata": {
    "run_control": {
     "frozen": false,
     "read_only": false
    }
   },
   "outputs": [
    {
     "data": {
      "text/html": [
       "\n",
       "\n",
       "    <div class=\"bk-root\">\n",
       "        <div class=\"bk-plotdiv\" id=\"f9cd68e0-7764-4a40-b191-9ba8542904ac\"></div>\n",
       "    </div>\n",
       "<script type=\"text/javascript\">\n",
       "  \n",
       "  (function(global) {\n",
       "    function now() {\n",
       "      return new Date();\n",
       "    }\n",
       "  \n",
       "    var force = false;\n",
       "  \n",
       "    if (typeof (window._bokeh_onload_callbacks) === \"undefined\" || force === true) {\n",
       "      window._bokeh_onload_callbacks = [];\n",
       "      window._bokeh_is_loading = undefined;\n",
       "    }\n",
       "  \n",
       "  \n",
       "    \n",
       "    if (typeof (window._bokeh_timeout) === \"undefined\" || force === true) {\n",
       "      window._bokeh_timeout = Date.now() + 0;\n",
       "      window._bokeh_failed_load = false;\n",
       "    }\n",
       "  \n",
       "    var NB_LOAD_WARNING = {'data': {'text/html':\n",
       "       \"<div style='background-color: #fdd'>\\n\"+\n",
       "       \"<p>\\n\"+\n",
       "       \"BokehJS does not appear to have successfully loaded. If loading BokehJS from CDN, this \\n\"+\n",
       "       \"may be due to a slow or bad network connection. Possible fixes:\\n\"+\n",
       "       \"</p>\\n\"+\n",
       "       \"<ul>\\n\"+\n",
       "       \"<li>re-rerun `output_notebook()` to attempt to load from CDN again, or</li>\\n\"+\n",
       "       \"<li>use INLINE resources instead, as so:</li>\\n\"+\n",
       "       \"</ul>\\n\"+\n",
       "       \"<code>\\n\"+\n",
       "       \"from bokeh.resources import INLINE\\n\"+\n",
       "       \"output_notebook(resources=INLINE)\\n\"+\n",
       "       \"</code>\\n\"+\n",
       "       \"</div>\"}};\n",
       "  \n",
       "    function display_loaded() {\n",
       "      if (window.Bokeh !== undefined) {\n",
       "        var el = document.getElementById(\"f9cd68e0-7764-4a40-b191-9ba8542904ac\");\n",
       "        el.textContent = \"BokehJS \" + Bokeh.version + \" successfully loaded.\";\n",
       "      } else if (Date.now() < window._bokeh_timeout) {\n",
       "        setTimeout(display_loaded, 100)\n",
       "      }\n",
       "    }\n",
       "  \n",
       "    function run_callbacks() {\n",
       "      window._bokeh_onload_callbacks.forEach(function(callback) { callback() });\n",
       "      delete window._bokeh_onload_callbacks\n",
       "      console.info(\"Bokeh: all callbacks have finished\");\n",
       "    }\n",
       "  \n",
       "    function load_libs(js_urls, callback) {\n",
       "      window._bokeh_onload_callbacks.push(callback);\n",
       "      if (window._bokeh_is_loading > 0) {\n",
       "        console.log(\"Bokeh: BokehJS is being loaded, scheduling callback at\", now());\n",
       "        return null;\n",
       "      }\n",
       "      if (js_urls == null || js_urls.length === 0) {\n",
       "        run_callbacks();\n",
       "        return null;\n",
       "      }\n",
       "      console.log(\"Bokeh: BokehJS not loaded, scheduling load and callback at\", now());\n",
       "      window._bokeh_is_loading = js_urls.length;\n",
       "      for (var i = 0; i < js_urls.length; i++) {\n",
       "        var url = js_urls[i];\n",
       "        var s = document.createElement('script');\n",
       "        s.src = url;\n",
       "        s.async = false;\n",
       "        s.onreadystatechange = s.onload = function() {\n",
       "          window._bokeh_is_loading--;\n",
       "          if (window._bokeh_is_loading === 0) {\n",
       "            console.log(\"Bokeh: all BokehJS libraries loaded\");\n",
       "            run_callbacks()\n",
       "          }\n",
       "        };\n",
       "        s.onerror = function() {\n",
       "          console.warn(\"failed to load library \" + url);\n",
       "        };\n",
       "        console.log(\"Bokeh: injecting script tag for BokehJS library: \", url);\n",
       "        document.getElementsByTagName(\"head\")[0].appendChild(s);\n",
       "      }\n",
       "    };var element = document.getElementById(\"f9cd68e0-7764-4a40-b191-9ba8542904ac\");\n",
       "    if (element == null) {\n",
       "      console.log(\"Bokeh: ERROR: autoload.js configured with elementid 'f9cd68e0-7764-4a40-b191-9ba8542904ac' but no matching script tag was found. \")\n",
       "      return false;\n",
       "    }\n",
       "  \n",
       "    var js_urls = [];\n",
       "  \n",
       "    var inline_js = [\n",
       "      function(Bokeh) {\n",
       "        (function() {\n",
       "          var fn = function() {\n",
       "            var docs_json = {\"d5f5af0a-dfb3-473b-999c-2205ab1f6ce1\":{\"roots\":{\"references\":[{\"attributes\":{\"items\":[{\"id\":\"1a366b6d-0167-4ab7-8dbf-51bb8bc51224\",\"type\":\"LegendItem\"},{\"id\":\"f7206f2e-37c9-4282-b1d2-12a14c666999\",\"type\":\"LegendItem\"}],\"location\":\"bottom_right\",\"plot\":{\"id\":\"018cbc5a-4756-478d-957b-8b33bbef3076\",\"subtype\":\"Chart\",\"type\":\"Plot\"}},\"id\":\"1b6eaf2c-5512-48af-bb66-f7ae6baa7017\",\"type\":\"Legend\"},{\"attributes\":{},\"id\":\"0156390a-df24-4c26-98cd-93b312947955\",\"type\":\"CategoricalTicker\"},{\"attributes\":{\"data_source\":{\"id\":\"bd110982-e92e-4be5-bfab-568e205c420f\",\"type\":\"ColumnDataSource\"},\"glyph\":{\"id\":\"5c2dc207-0adf-4d4f-93cf-95346bf807da\",\"type\":\"Rect\"},\"hover_glyph\":null,\"muted_glyph\":null},\"id\":\"4d7d2270-e0fb-4d11-8df6-00a339cdc9a1\",\"type\":\"GlyphRenderer\"},{\"attributes\":{\"axis_label\":\"Ph\",\"formatter\":{\"id\":\"f22d58e4-c156-4f32-ab6e-9ebb262b5fba\",\"type\":\"BasicTickFormatter\"},\"plot\":{\"id\":\"018cbc5a-4756-478d-957b-8b33bbef3076\",\"subtype\":\"Chart\",\"type\":\"Plot\"},\"ticker\":{\"id\":\"bb63b1ae-8ed8-4e9e-9d4b-b716a1db9e9d\",\"type\":\"BasicTicker\"}},\"id\":\"5dec878b-c052-48ad-90e7-993a7470b362\",\"type\":\"LinearAxis\"},{\"attributes\":{\"callback\":null,\"column_names\":[\"x0s\",\"y0s\",\"y1s\",\"x1s\"],\"data\":{\"Treatment\":[\"B\",\"B\",\"B\",\"B\"],\"chart_index\":[{\"Treatment\":\"B\"},{\"Treatment\":\"B\"},{\"Treatment\":\"B\"},{\"Treatment\":\"B\"}],\"x0s\":[\"B:0.5\",\"B:0.65\",\"B:0.5\",\"B:0.65\"],\"x1s\":[\"B:0.5\",\"B:0.35\",\"B:0.5\",\"B:0.35\"],\"y0s\":[5.2,5.2,6.5249999999999995,7.2],\"y1s\":[5.95,5.2,7.2,7.2]}},\"id\":\"a4e8d636-0459-40eb-be8a-6a4952cf2375\",\"type\":\"ColumnDataSource\"},{\"attributes\":{\"callback\":null,\"column_names\":[\"height\",\"fill_alpha\",\"y\",\"line_color\",\"label\",\"width\",\"line_alpha\",\"color\",\"x\"],\"data\":{\"Treatment\":[\"B\"],\"chart_index\":[{\"Treatment\":\"B\"}],\"color\":[\"DimGrey\"],\"fill_alpha\":[0.8],\"height\":[0.2999999999999998],\"label\":[{\"Treatment\":\"B\"}],\"line_alpha\":[1.0],\"line_color\":[\"black\"],\"width\":[0.8],\"x\":[\"B\"],\"y\":[6.1]}},\"id\":\"bd110982-e92e-4be5-bfab-568e205c420f\",\"type\":\"ColumnDataSource\"},{\"attributes\":{\"label\":{\"value\":\"B\"},\"renderers\":[{\"id\":\"4d7d2270-e0fb-4d11-8df6-00a339cdc9a1\",\"type\":\"GlyphRenderer\"},{\"id\":\"9fc8292f-f516-4404-9c8d-ab2419006ae8\",\"type\":\"GlyphRenderer\"},{\"id\":\"e7d0fdda-33be-45da-b7fc-aa1d87fa4191\",\"type\":\"GlyphRenderer\"}]},\"id\":\"f7206f2e-37c9-4282-b1d2-12a14c666999\",\"type\":\"LegendItem\"},{\"attributes\":{\"dimension\":1,\"plot\":{\"id\":\"018cbc5a-4756-478d-957b-8b33bbef3076\",\"subtype\":\"Chart\",\"type\":\"Plot\"},\"ticker\":{\"id\":\"bb63b1ae-8ed8-4e9e-9d4b-b716a1db9e9d\",\"type\":\"BasicTicker\"}},\"id\":\"0f871794-4a80-48d5-89df-ae798bee853d\",\"type\":\"Grid\"},{\"attributes\":{\"fill_alpha\":{\"field\":\"fill_alpha\"},\"fill_color\":{\"field\":\"color\"},\"height\":{\"field\":\"height\",\"units\":\"data\"},\"line_color\":{\"field\":\"line_color\"},\"width\":{\"field\":\"width\",\"units\":\"data\"},\"x\":{\"field\":\"x\"},\"y\":{\"field\":\"y\"}},\"id\":\"8d23a8b6-3dd7-4c39-9dac-df574a9dd8f1\",\"type\":\"Rect\"},{\"attributes\":{\"data_source\":{\"id\":\"e0499fe6-f168-4800-8ae3-cf03c7e55c33\",\"type\":\"ColumnDataSource\"},\"glyph\":{\"id\":\"987ec0da-65d6-4ba3-b936-59ff35818346\",\"type\":\"Rect\"},\"hover_glyph\":null,\"muted_glyph\":null},\"id\":\"a52de42a-b7e1-4826-878f-0f273028d79b\",\"type\":\"GlyphRenderer\"},{\"attributes\":{\"fill_alpha\":{\"field\":\"fill_alpha\"},\"fill_color\":{\"field\":\"color\"},\"height\":{\"field\":\"height\",\"units\":\"data\"},\"line_color\":{\"field\":\"line_color\"},\"width\":{\"field\":\"width\",\"units\":\"data\"},\"x\":{\"field\":\"x\"},\"y\":{\"field\":\"y\"}},\"id\":\"987ec0da-65d6-4ba3-b936-59ff35818346\",\"type\":\"Rect\"},{\"attributes\":{\"overlay\":{\"id\":\"1a086363-2613-47c9-8395-08684c1a1346\",\"type\":\"BoxAnnotation\"},\"plot\":{\"id\":\"018cbc5a-4756-478d-957b-8b33bbef3076\",\"subtype\":\"Chart\",\"type\":\"Plot\"}},\"id\":\"c67e98c6-0664-4a11-9d3e-267d7541b064\",\"type\":\"BoxZoomTool\"},{\"attributes\":{\"bottom_units\":\"screen\",\"fill_alpha\":{\"value\":0.5},\"fill_color\":{\"value\":\"lightgrey\"},\"left_units\":\"screen\",\"level\":\"overlay\",\"line_alpha\":{\"value\":1.0},\"line_color\":{\"value\":\"black\"},\"line_dash\":[4,4],\"line_width\":{\"value\":2},\"plot\":null,\"render_mode\":\"css\",\"right_units\":\"screen\",\"top_units\":\"screen\"},\"id\":\"1a086363-2613-47c9-8395-08684c1a1346\",\"type\":\"BoxAnnotation\"},{\"attributes\":{\"fill_alpha\":{\"field\":\"fill_alpha\"},\"fill_color\":{\"field\":\"color\"},\"height\":{\"field\":\"height\",\"units\":\"data\"},\"line_color\":{\"field\":\"line_color\"},\"width\":{\"field\":\"width\",\"units\":\"data\"},\"x\":{\"field\":\"x\"},\"y\":{\"field\":\"y\"}},\"id\":\"45adee98-2c5f-4ba2-9747-b43c147290da\",\"type\":\"Rect\"},{\"attributes\":{},\"id\":\"d3e91bd0-66d1-4a17-ac65-ce65a6c719d6\",\"type\":\"CategoricalTickFormatter\"},{\"attributes\":{\"below\":[{\"id\":\"2fcf492d-4a33-41e4-9a72-e46a6afa49cb\",\"type\":\"CategoricalAxis\"}],\"css_classes\":null,\"left\":[{\"id\":\"5dec878b-c052-48ad-90e7-993a7470b362\",\"type\":\"LinearAxis\"}],\"renderers\":[{\"id\":\"1a086363-2613-47c9-8395-08684c1a1346\",\"type\":\"BoxAnnotation\"},{\"id\":\"a52de42a-b7e1-4826-878f-0f273028d79b\",\"type\":\"GlyphRenderer\"},{\"id\":\"33e6a340-c6c4-456a-b328-6811d32442f0\",\"type\":\"GlyphRenderer\"},{\"id\":\"503bcb24-5bd8-4d07-a9c5-a0ccf7094d65\",\"type\":\"GlyphRenderer\"},{\"id\":\"4d7d2270-e0fb-4d11-8df6-00a339cdc9a1\",\"type\":\"GlyphRenderer\"},{\"id\":\"9fc8292f-f516-4404-9c8d-ab2419006ae8\",\"type\":\"GlyphRenderer\"},{\"id\":\"e7d0fdda-33be-45da-b7fc-aa1d87fa4191\",\"type\":\"GlyphRenderer\"},{\"id\":\"1b6eaf2c-5512-48af-bb66-f7ae6baa7017\",\"type\":\"Legend\"},{\"id\":\"2fcf492d-4a33-41e4-9a72-e46a6afa49cb\",\"type\":\"CategoricalAxis\"},{\"id\":\"5dec878b-c052-48ad-90e7-993a7470b362\",\"type\":\"LinearAxis\"},{\"id\":\"0f871794-4a80-48d5-89df-ae798bee853d\",\"type\":\"Grid\"}],\"title\":{\"id\":\"55cf490b-2f4a-41af-96ac-0caaa6e58f81\",\"type\":\"Title\"},\"tool_events\":{\"id\":\"a5ef96ba-4643-48fe-80fc-c9e718a54d53\",\"type\":\"ToolEvents\"},\"toolbar\":{\"id\":\"70ede76e-f201-4ea0-89df-08bdb5b86411\",\"type\":\"Toolbar\"},\"x_mapper_type\":\"auto\",\"x_range\":{\"id\":\"047f9479-e1a4-4557-8b04-3a9577da3a98\",\"type\":\"FactorRange\"},\"y_mapper_type\":\"auto\",\"y_range\":{\"id\":\"382017fa-ae92-4e01-aa2f-599a657c16bc\",\"type\":\"Range1d\"}},\"id\":\"018cbc5a-4756-478d-957b-8b33bbef3076\",\"subtype\":\"Chart\",\"type\":\"Plot\"},{\"attributes\":{\"data_source\":{\"id\":\"90ce90c5-3bed-4dc9-85db-1742680edf74\",\"type\":\"ColumnDataSource\"},\"glyph\":{\"id\":\"45adee98-2c5f-4ba2-9747-b43c147290da\",\"type\":\"Rect\"},\"hover_glyph\":null,\"muted_glyph\":null},\"id\":\"9fc8292f-f516-4404-9c8d-ab2419006ae8\",\"type\":\"GlyphRenderer\"},{\"attributes\":{\"plot\":null,\"text\":null},\"id\":\"55cf490b-2f4a-41af-96ac-0caaa6e58f81\",\"type\":\"Title\"},{\"attributes\":{\"plot\":{\"id\":\"018cbc5a-4756-478d-957b-8b33bbef3076\",\"subtype\":\"Chart\",\"type\":\"Plot\"}},\"id\":\"c0a2ea91-9ed1-4e04-a6d5-5fed3e9cca50\",\"type\":\"SaveTool\"},{\"attributes\":{\"callback\":null,\"column_names\":[\"x0s\",\"y0s\",\"y1s\",\"x1s\"],\"data\":{\"Treatment\":[\"A\",\"A\",\"A\",\"A\"],\"chart_index\":[{\"Treatment\":\"A\"},{\"Treatment\":\"A\"},{\"Treatment\":\"A\"},{\"Treatment\":\"A\"}],\"x0s\":[\"A:0.5\",\"A:0.65\",\"A:0.5\",\"A:0.65\"],\"x1s\":[\"A:0.5\",\"A:0.35\",\"A:0.5\",\"A:0.35\"],\"y0s\":[6.5,6.5,8.075,8.3],\"y1s\":[7.25,6.5,8.3,8.3]}},\"id\":\"a819e79c-a214-4645-83a6-9fc88448d8b3\",\"type\":\"ColumnDataSource\"},{\"attributes\":{\"axis_label\":\"Treatment\",\"formatter\":{\"id\":\"d3e91bd0-66d1-4a17-ac65-ce65a6c719d6\",\"type\":\"CategoricalTickFormatter\"},\"major_label_orientation\":0.7853981633974483,\"plot\":{\"id\":\"018cbc5a-4756-478d-957b-8b33bbef3076\",\"subtype\":\"Chart\",\"type\":\"Plot\"},\"ticker\":{\"id\":\"0156390a-df24-4c26-98cd-93b312947955\",\"type\":\"CategoricalTicker\"}},\"id\":\"2fcf492d-4a33-41e4-9a72-e46a6afa49cb\",\"type\":\"CategoricalAxis\"},{\"attributes\":{\"plot\":{\"id\":\"018cbc5a-4756-478d-957b-8b33bbef3076\",\"subtype\":\"Chart\",\"type\":\"Plot\"}},\"id\":\"c558dbd3-0bdf-4936-a588-fbf56450f4af\",\"type\":\"WheelZoomTool\"},{\"attributes\":{\"line_width\":{\"value\":2},\"x0\":{\"field\":\"x0s\"},\"x1\":{\"field\":\"x1s\"},\"y0\":{\"field\":\"y0s\"},\"y1\":{\"field\":\"y1s\"}},\"id\":\"cfd4e26c-7a05-44a9-a413-33d446c8117a\",\"type\":\"Segment\"},{\"attributes\":{\"data_source\":{\"id\":\"a819e79c-a214-4645-83a6-9fc88448d8b3\",\"type\":\"ColumnDataSource\"},\"glyph\":{\"id\":\"03830535-d529-4620-bc66-7a88017337ab\",\"type\":\"Segment\"},\"hover_glyph\":null,\"muted_glyph\":null},\"id\":\"503bcb24-5bd8-4d07-a9c5-a0ccf7094d65\",\"type\":\"GlyphRenderer\"},{\"attributes\":{\"fill_alpha\":{\"field\":\"fill_alpha\"},\"fill_color\":{\"field\":\"color\"},\"height\":{\"field\":\"height\",\"units\":\"data\"},\"line_color\":{\"field\":\"line_color\"},\"width\":{\"field\":\"width\",\"units\":\"data\"},\"x\":{\"field\":\"x\"},\"y\":{\"field\":\"y\"}},\"id\":\"5c2dc207-0adf-4d4f-93cf-95346bf807da\",\"type\":\"Rect\"},{\"attributes\":{\"label\":{\"value\":\"A\"},\"renderers\":[{\"id\":\"a52de42a-b7e1-4826-878f-0f273028d79b\",\"type\":\"GlyphRenderer\"},{\"id\":\"33e6a340-c6c4-456a-b328-6811d32442f0\",\"type\":\"GlyphRenderer\"},{\"id\":\"503bcb24-5bd8-4d07-a9c5-a0ccf7094d65\",\"type\":\"GlyphRenderer\"}]},\"id\":\"1a366b6d-0167-4ab7-8dbf-51bb8bc51224\",\"type\":\"LegendItem\"},{\"attributes\":{},\"id\":\"f22d58e4-c156-4f32-ab6e-9ebb262b5fba\",\"type\":\"BasicTickFormatter\"},{\"attributes\":{\"plot\":{\"id\":\"018cbc5a-4756-478d-957b-8b33bbef3076\",\"subtype\":\"Chart\",\"type\":\"Plot\"}},\"id\":\"85d229dd-eba3-4b59-96ea-0add50b7efb0\",\"type\":\"ResetTool\"},{\"attributes\":{\"active_drag\":\"auto\",\"active_scroll\":\"auto\",\"active_tap\":\"auto\",\"tools\":[{\"id\":\"d9c463e0-c492-4348-a112-6c7bed52e705\",\"type\":\"PanTool\"},{\"id\":\"c558dbd3-0bdf-4936-a588-fbf56450f4af\",\"type\":\"WheelZoomTool\"},{\"id\":\"c67e98c6-0664-4a11-9d3e-267d7541b064\",\"type\":\"BoxZoomTool\"},{\"id\":\"c0a2ea91-9ed1-4e04-a6d5-5fed3e9cca50\",\"type\":\"SaveTool\"},{\"id\":\"85d229dd-eba3-4b59-96ea-0add50b7efb0\",\"type\":\"ResetTool\"},{\"id\":\"44c9514b-4f50-44b4-ac0c-7a7e6a91b6b6\",\"type\":\"HelpTool\"}]},\"id\":\"70ede76e-f201-4ea0-89df-08bdb5b86411\",\"type\":\"Toolbar\"},{\"attributes\":{\"callback\":null,\"column_names\":[\"height\",\"fill_alpha\",\"y\",\"line_color\",\"label\",\"width\",\"line_alpha\",\"color\",\"x\"],\"data\":{\"Treatment\":[\"A\"],\"chart_index\":[{\"Treatment\":\"A\"}],\"color\":[\"DimGrey\"],\"fill_alpha\":[0.8],\"height\":[0.3249999999999993],\"label\":[{\"Treatment\":\"A\"}],\"line_alpha\":[1.0],\"line_color\":[\"black\"],\"width\":[0.8],\"x\":[\"A\"],\"y\":[7.9125]}},\"id\":\"e989f94c-2067-405f-be7f-9ded5991cddc\",\"type\":\"ColumnDataSource\"},{\"attributes\":{\"data_source\":{\"id\":\"e989f94c-2067-405f-be7f-9ded5991cddc\",\"type\":\"ColumnDataSource\"},\"glyph\":{\"id\":\"8d23a8b6-3dd7-4c39-9dac-df574a9dd8f1\",\"type\":\"Rect\"},\"hover_glyph\":null,\"muted_glyph\":null},\"id\":\"33e6a340-c6c4-456a-b328-6811d32442f0\",\"type\":\"GlyphRenderer\"},{\"attributes\":{},\"id\":\"a5ef96ba-4643-48fe-80fc-c9e718a54d53\",\"type\":\"ToolEvents\"},{\"attributes\":{\"plot\":{\"id\":\"018cbc5a-4756-478d-957b-8b33bbef3076\",\"subtype\":\"Chart\",\"type\":\"Plot\"}},\"id\":\"d9c463e0-c492-4348-a112-6c7bed52e705\",\"type\":\"PanTool\"},{\"attributes\":{\"callback\":null,\"column_names\":[\"height\",\"fill_alpha\",\"y\",\"line_color\",\"label\",\"width\",\"line_alpha\",\"color\",\"x\"],\"data\":{\"Treatment\":[\"B\"],\"chart_index\":[{\"Treatment\":\"B\"}],\"color\":[\"DimGrey\"],\"fill_alpha\":[0.8],\"height\":[0.27499999999999947],\"label\":[{\"Treatment\":\"B\"}],\"line_alpha\":[1.0],\"line_color\":[\"black\"],\"width\":[0.8],\"x\":[\"B\"],\"y\":[6.387499999999999]}},\"id\":\"90ce90c5-3bed-4dc9-85db-1742680edf74\",\"type\":\"ColumnDataSource\"},{\"attributes\":{\"callback\":null,\"factors\":[\"A\",\"B\"]},\"id\":\"047f9479-e1a4-4557-8b04-3a9577da3a98\",\"type\":\"FactorRange\"},{\"attributes\":{\"plot\":{\"id\":\"018cbc5a-4756-478d-957b-8b33bbef3076\",\"subtype\":\"Chart\",\"type\":\"Plot\"}},\"id\":\"44c9514b-4f50-44b4-ac0c-7a7e6a91b6b6\",\"type\":\"HelpTool\"},{\"attributes\":{\"line_width\":{\"value\":2},\"x0\":{\"field\":\"x0s\"},\"x1\":{\"field\":\"x1s\"},\"y0\":{\"field\":\"y0s\"},\"y1\":{\"field\":\"y1s\"}},\"id\":\"03830535-d529-4620-bc66-7a88017337ab\",\"type\":\"Segment\"},{\"attributes\":{},\"id\":\"bb63b1ae-8ed8-4e9e-9d4b-b716a1db9e9d\",\"type\":\"BasicTicker\"},{\"attributes\":{\"callback\":null,\"column_names\":[\"height\",\"fill_alpha\",\"y\",\"line_color\",\"label\",\"width\",\"line_alpha\",\"color\",\"x\"],\"data\":{\"Treatment\":[\"A\"],\"chart_index\":[{\"Treatment\":\"A\"}],\"color\":[\"DimGrey\"],\"fill_alpha\":[0.8],\"height\":[0.5],\"label\":[{\"Treatment\":\"A\"}],\"line_alpha\":[1.0],\"line_color\":[\"black\"],\"width\":[0.8],\"x\":[\"A\"],\"y\":[7.5]}},\"id\":\"e0499fe6-f168-4800-8ae3-cf03c7e55c33\",\"type\":\"ColumnDataSource\"},{\"attributes\":{\"data_source\":{\"id\":\"a4e8d636-0459-40eb-be8a-6a4952cf2375\",\"type\":\"ColumnDataSource\"},\"glyph\":{\"id\":\"cfd4e26c-7a05-44a9-a413-33d446c8117a\",\"type\":\"Segment\"},\"hover_glyph\":null,\"muted_glyph\":null},\"id\":\"e7d0fdda-33be-45da-b7fc-aa1d87fa4191\",\"type\":\"GlyphRenderer\"},{\"attributes\":{\"callback\":null,\"end\":8.975000000000001},\"id\":\"382017fa-ae92-4e01-aa2f-599a657c16bc\",\"type\":\"Range1d\"}],\"root_ids\":[\"018cbc5a-4756-478d-957b-8b33bbef3076\"]},\"title\":\"Bokeh Application\",\"version\":\"0.12.5\"}};\n",
       "            var render_items = [{\"docid\":\"d5f5af0a-dfb3-473b-999c-2205ab1f6ce1\",\"elementid\":\"f9cd68e0-7764-4a40-b191-9ba8542904ac\",\"modelid\":\"018cbc5a-4756-478d-957b-8b33bbef3076\"}];\n",
       "            \n",
       "            Bokeh.embed.embed_items(docs_json, render_items);\n",
       "          };\n",
       "          if (document.readyState != \"loading\") fn();\n",
       "          else document.addEventListener(\"DOMContentLoaded\", fn);\n",
       "        })();\n",
       "      },\n",
       "      function(Bokeh) {\n",
       "      }\n",
       "    ];\n",
       "  \n",
       "    function run_inline_js() {\n",
       "      \n",
       "      if ((window.Bokeh !== undefined) || (force === true)) {\n",
       "        for (var i = 0; i < inline_js.length; i++) {\n",
       "          inline_js[i](window.Bokeh);\n",
       "        }if (force === true) {\n",
       "          display_loaded();\n",
       "        }} else if (Date.now() < window._bokeh_timeout) {\n",
       "        setTimeout(run_inline_js, 100);\n",
       "      } else if (!window._bokeh_failed_load) {\n",
       "        console.log(\"Bokeh: BokehJS failed to load within specified timeout.\");\n",
       "        window._bokeh_failed_load = true;\n",
       "      } else if (force !== true) {\n",
       "        var cell = $(document.getElementById(\"f9cd68e0-7764-4a40-b191-9ba8542904ac\")).parents('.cell').data().cell;\n",
       "        cell.output_area.append_execute_result(NB_LOAD_WARNING)\n",
       "      }\n",
       "  \n",
       "    }\n",
       "  \n",
       "    if (window._bokeh_is_loading === 0) {\n",
       "      console.log(\"Bokeh: BokehJS loaded, going straight to plotting\");\n",
       "      run_inline_js();\n",
       "    } else {\n",
       "      load_libs(js_urls, function() {\n",
       "        console.log(\"Bokeh: BokehJS plotting callback run at\", now());\n",
       "        run_inline_js();\n",
       "      });\n",
       "    }\n",
       "  }(this));\n",
       "</script>"
      ]
     },
     "metadata": {},
     "output_type": "display_data"
    }
   ],
   "source": [
    "p = BoxPlot(mydata, values='pH', \n",
    "            label='Treatment', legend='bottom_right')\n",
    "show(p)"
   ]
  },
  {
   "cell_type": "markdown",
   "metadata": {},
   "source": [
    "<div class=\"alert alert-success\">\n",
    "    Plotting libraries (`seaborn`, `altair`, `ggplot`, `bokeh`...) are ready to digest your `tidy` data!\n",
    "</div>"
   ]
  },
  {
   "cell_type": "code",
   "execution_count": null,
   "metadata": {
    "collapsed": true,
    "run_control": {
     "frozen": false,
     "read_only": false
    }
   },
   "outputs": [],
   "source": []
  },
  {
   "cell_type": "code",
   "execution_count": null,
   "metadata": {
    "collapsed": true,
    "run_control": {
     "frozen": false,
     "read_only": false
    }
   },
   "outputs": [],
   "source": []
  }
 ],
 "metadata": {
  "kernelspec": {
   "display_name": "Python 3",
   "language": "python",
   "name": "python3"
  },
  "language_info": {
   "codemirror_mode": {
    "name": "ipython",
    "version": 3
   },
   "file_extension": ".py",
   "mimetype": "text/x-python",
   "name": "python",
   "nbconvert_exporter": "python",
   "pygments_lexer": "ipython3",
   "version": "3.5.3"
  },
  "nav_menu": {},
  "toc": {
   "navigate_menu": true,
   "number_sections": true,
   "sideBar": true,
   "threshold": 6,
   "toc_cell": false,
   "toc_section_display": "block",
   "toc_window_display": false
  }
 },
 "nbformat": 4,
 "nbformat_minor": 2
}
