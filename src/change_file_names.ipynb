{
 "cells": [
  {
   "cell_type": "markdown",
   "metadata": {},
   "source": [
    "# Change the names of files in a directory"
   ]
  },
  {
   "cell_type": "markdown",
   "metadata": {},
   "source": [
    "I want to add the **date** and a custom **project** identifier to a given subset of files in given folder:"
   ]
  },
  {
   "cell_type": "markdown",
   "metadata": {},
   "source": [
    "## Tryout"
   ]
  },
  {
   "cell_type": "markdown",
   "metadata": {},
   "source": [
    "### Loop over the individual files"
   ]
  },
  {
   "cell_type": "code",
   "execution_count": 55,
   "metadata": {
    "collapsed": true,
    "run_control": {
     "frozen": false,
     "read_only": false
    }
   },
   "outputs": [],
   "source": [
    "import glob"
   ]
  },
  {
   "cell_type": "markdown",
   "metadata": {},
   "source": [
    "documentation: https://docs.python.org/3.5/library/glob.html"
   ]
  },
  {
   "cell_type": "code",
   "execution_count": 56,
   "metadata": {},
   "outputs": [
    {
     "name": "stdout",
     "output_type": "stream",
     "text": [
      "current file is: ../data/bubble_images/0424180m_01842.jpg\n",
      "current file is: ../data/bubble_images/0407117m_878.jpg\n",
      "current file is: ../data/bubble_images/readme\n",
      "current file is: ../data/bubble_images/0424180m_0744.jpg\n",
      "current file is: ../data/bubble_images/0417152m_198.jpg\n",
      "current file is: ../data/bubble_images/0407117m_122.jpg\n",
      "current file is: ../data/bubble_images/0407117m_346.jpg\n",
      "current file is: ../data/bubble_images/0424180m_1024.jpg\n",
      "current file is: ../data/bubble_images/0417152m_793.jpg\n",
      "current file is: ../data/bubble_images/0417152m_547.jpg\n",
      "current file is: ../data/bubble_images/0407117m_571.jpg\n",
      "current file is: ../data/bubble_images/0407117m_057.jpg\n"
     ]
    }
   ],
   "source": [
    "path = '../data/bubble_images/*'  # ALL files\n",
    "for filename in glob.glob(path):\n",
    "    print(\"current file is: \" + filename)"
   ]
  },
  {
   "cell_type": "code",
   "execution_count": 57,
   "metadata": {},
   "outputs": [
    {
     "name": "stdout",
     "output_type": "stream",
     "text": [
      "current file is: ../data/survey_data_spreadsheet.xls\n",
      "current file is: ../data/survey_data_spreadsheet_messy.xls\n"
     ]
    }
   ],
   "source": [
    "path = '../data/*.xls'  # Specific extension\n",
    "for filename in glob.glob(path):\n",
    "    print(\"current file is: \" + filename)"
   ]
  },
  {
   "cell_type": "code",
   "execution_count": 58,
   "metadata": {},
   "outputs": [
    {
     "name": "stdout",
     "output_type": "stream",
     "text": [
      "current file is: ../data/tidy_intro_2.txt\n",
      "current file is: ../data/tidy_intro_1.txt\n"
     ]
    }
   ],
   "source": [
    "path = '../data/*intro*'  # section of the name\n",
    "for filename in glob.glob(path):\n",
    "    print(\"current file is: \" + filename)"
   ]
  },
  {
   "cell_type": "markdown",
   "metadata": {},
   "source": [
    "### Change the file name"
   ]
  },
  {
   "cell_type": "code",
   "execution_count": 59,
   "metadata": {
    "collapsed": true
   },
   "outputs": [],
   "source": [
    "import os"
   ]
  },
  {
   "cell_type": "code",
   "execution_count": 60,
   "metadata": {
    "collapsed": true
   },
   "outputs": [],
   "source": [
    "?os.rename"
   ]
  },
  {
   "cell_type": "markdown",
   "metadata": {},
   "source": [
    "Test the implementation:"
   ]
  },
  {
   "cell_type": "code",
   "execution_count": 64,
   "metadata": {},
   "outputs": [],
   "source": [
    "os.rename(\"../data/bubble_images/0424180m_0184.jpg\", \"../data/bubble_images/0424180m_01842.jpg\")"
   ]
  },
  {
   "cell_type": "code",
   "execution_count": 65,
   "metadata": {},
   "outputs": [
    {
     "name": "stdout",
     "output_type": "stream",
     "text": [
      "current file is: ../data/bubble_images/0424180m_01842.jpg\n"
     ]
    }
   ],
   "source": [
    "path = '../data/bubble_images/*0424180m_01842.jpg'  # ALL files\n",
    "for filename in glob.glob(path):\n",
    "    print(\"current file is: \" + filename)"
   ]
  },
  {
   "cell_type": "markdown",
   "metadata": {},
   "source": [
    "Reset to original:"
   ]
  },
  {
   "cell_type": "code",
   "execution_count": 66,
   "metadata": {},
   "outputs": [],
   "source": [
    "os.rename(\"../data/bubble_images/0424180m_01842.jpg\", \"../data/bubble_images/0424180m_0184.jpg\")"
   ]
  },
  {
   "cell_type": "markdown",
   "metadata": {},
   "source": [
    "### make current date to string"
   ]
  },
  {
   "cell_type": "code",
   "execution_count": 67,
   "metadata": {
    "collapsed": true
   },
   "outputs": [],
   "source": [
    "import datetime"
   ]
  },
  {
   "cell_type": "markdown",
   "metadata": {},
   "source": [
    "https://www.cyberciti.biz/faq/howto-get-current-date-time-in-python/"
   ]
  },
  {
   "cell_type": "code",
   "execution_count": 75,
   "metadata": {},
   "outputs": [
    {
     "data": {
      "text/plain": [
       "'20170706'"
      ]
     },
     "execution_count": 75,
     "metadata": {},
     "output_type": "execute_result"
    }
   ],
   "source": [
    "datetime.date.today().strftime(\"%Y%m%d\")"
   ]
  },
  {
   "cell_type": "markdown",
   "metadata": {},
   "source": [
    "### Making the difference between folder and filename itself:"
   ]
  },
  {
   "cell_type": "code",
   "execution_count": 83,
   "metadata": {},
   "outputs": [
    {
     "data": {
      "text/plain": [
       "('../data/bubble_images', '20170706_dow_0424180m_0184.jpg')"
      ]
     },
     "execution_count": 83,
     "metadata": {},
     "output_type": "execute_result"
    }
   ],
   "source": [
    "os.path.split(filename)"
   ]
  },
  {
   "cell_type": "markdown",
   "metadata": {},
   "source": [
    "## Implementation specific for the case"
   ]
  },
  {
   "cell_type": "code",
   "execution_count": 89,
   "metadata": {},
   "outputs": [
    {
     "name": "stdout",
     "output_type": "stream",
     "text": [
      "20170706_dow_0424180m_0184.jpg\n",
      "20170706_dow_0407117m_878.jpg\n",
      "20170706_dow_0424180m_0744.jpg\n",
      "20170706_dow_0417152m_198.jpg\n",
      "20170706_dow_0407117m_122.jpg\n",
      "20170706_dow_0407117m_346.jpg\n",
      "20170706_dow_0424180m_1024.jpg\n",
      "20170706_dow_0417152m_793.jpg\n",
      "20170706_dow_0417152m_547.jpg\n",
      "20170706_dow_0407117m_571.jpg\n",
      "20170706_dow_0407117m_057.jpg\n"
     ]
    }
   ],
   "source": [
    "project_identifier = \"dow\"\n",
    "today = datetime.date.today().strftime(\"%Y%m%d\")\n",
    "\n",
    "path = '../data/bubble_images/*.jpg'  # ALL jpg-files in bubble\n",
    "for filename in glob.glob(path):\n",
    "    relpath, file = os.path.split(filename)\n",
    "    print(today + \"_\" + project_identifier + \"_\" + file)\n",
    "    #os.rename(filename, os.path.join(relpath))"
   ]
  },
  {
   "cell_type": "markdown",
   "metadata": {},
   "source": [
    "Full execution:"
   ]
  },
  {
   "cell_type": "code",
   "execution_count": 90,
   "metadata": {
    "collapsed": true
   },
   "outputs": [],
   "source": [
    "project_identifier = \"dow\"\n",
    "today = datetime.date.today().strftime(\"%Y%m%d\")\n",
    "\n",
    "path = '../data/bubble_images/*.jpg'  # ALL jpg-files in bubble\n",
    "for filename in glob.glob(path):\n",
    "    relpath, file = os.path.split(filename)\n",
    "    new_filename = today + \"_\" + project_identifier + \"_\" + file\n",
    "    os.rename(filename, os.path.join(relpath, new_filename))"
   ]
  },
  {
   "cell_type": "markdown",
   "metadata": {},
   "source": [
    "## Making a function of the functionality"
   ]
  },
  {
   "cell_type": "code",
   "execution_count": 91,
   "metadata": {
    "collapsed": true
   },
   "outputs": [],
   "source": [
    "def add_date_project_filename(path, project_identifier):\n",
    "    \"\"\"\n",
    "    \"\"\"\n",
    "    today = datetime.date.today().strftime(\"%Y%m%d\")\n",
    "\n",
    "    for filename in glob.glob(path):\n",
    "        relpath, file = os.path.split(filename)\n",
    "        new_filename = today + \"_\" + project_identifier + \"_\" + file\n",
    "        os.rename(filename, os.path.join(relpath, new_filename))"
   ]
  },
  {
   "cell_type": "markdown",
   "metadata": {},
   "source": [
    "We can now reuse the function..."
   ]
  },
  {
   "cell_type": "code",
   "execution_count": 92,
   "metadata": {
    "collapsed": true
   },
   "outputs": [],
   "source": [
    "project_id = \"dow\"\n",
    "custom_path = '../data/bubble_images/*.jpg'  # ALL jpg-files in bubble\n",
    "add_date_project_filename(path, project_identifier)"
   ]
  },
  {
   "cell_type": "markdown",
   "metadata": {},
   "source": [
    "However, we'll probably not know what we were doing next time we need the renaming function..."
   ]
  },
  {
   "cell_type": "markdown",
   "metadata": {},
   "source": [
    "## Adding documentation..."
   ]
  },
  {
   "cell_type": "code",
   "execution_count": 100,
   "metadata": {
    "collapsed": true
   },
   "outputs": [],
   "source": [
    "def add_date_project_filename(path, project_identifier):\n",
    "    \"\"\"add date and project info to filenames\n",
    "    \n",
    "    The function will add the date and the custom information \n",
    "    in front of the filenames, overwriting the original \n",
    "    file names. e.g. a_name.jpg -> 20170705_projectname_a_name.jpg\n",
    "    \n",
    "    Parameters\n",
    "    ----------\n",
    "    path : str\n",
    "        input path information, taking into account regex-information \n",
    "        as used by glob library    \n",
    "    project_identifier : str\n",
    "        custom identifier provided by the user\n",
    "    \"\"\"\n",
    "    today = datetime.date.today().strftime(\"%Y%m%d\")\n",
    "\n",
    "    for filename in glob.glob(path):\n",
    "        relpath, file = os.path.split(filename)\n",
    "        new_filename = today + \"_\" + project_identifier + \"_\" + file\n",
    "        print(\"Renaming \", filename, \" to \", os.path.join(relpath, new_filename))\n",
    "        os.rename(filename, os.path.join(relpath, new_filename))"
   ]
  },
  {
   "cell_type": "code",
   "execution_count": 99,
   "metadata": {},
   "outputs": [
    {
     "name": "stdout",
     "output_type": "stream",
     "text": [
      "Renaming  ../data/bubble_images/0424180m_0184.jpg  to  ../data/bubble_images/20170706_dow_0424180m_0184.jpg\n",
      "Renaming  ../data/bubble_images/0407117m_878.jpg  to  ../data/bubble_images/20170706_dow_0407117m_878.jpg\n",
      "Renaming  ../data/bubble_images/0424180m_0744.jpg  to  ../data/bubble_images/20170706_dow_0424180m_0744.jpg\n",
      "Renaming  ../data/bubble_images/0417152m_198.jpg  to  ../data/bubble_images/20170706_dow_0417152m_198.jpg\n",
      "Renaming  ../data/bubble_images/0407117m_122.jpg  to  ../data/bubble_images/20170706_dow_0407117m_122.jpg\n",
      "Renaming  ../data/bubble_images/0407117m_346.jpg  to  ../data/bubble_images/20170706_dow_0407117m_346.jpg\n",
      "Renaming  ../data/bubble_images/0424180m_1024.jpg  to  ../data/bubble_images/20170706_dow_0424180m_1024.jpg\n",
      "Renaming  ../data/bubble_images/0417152m_793.jpg  to  ../data/bubble_images/20170706_dow_0417152m_793.jpg\n",
      "Renaming  ../data/bubble_images/0417152m_547.jpg  to  ../data/bubble_images/20170706_dow_0417152m_547.jpg\n",
      "Renaming  ../data/bubble_images/0407117m_571.jpg  to  ../data/bubble_images/20170706_dow_0407117m_571.jpg\n",
      "Renaming  ../data/bubble_images/0407117m_057.jpg  to  ../data/bubble_images/20170706_dow_0407117m_057.jpg\n"
     ]
    }
   ],
   "source": [
    "add_date_project_filename('../data/bubble_images/*.jpg', 'dow')"
   ]
  },
  {
   "cell_type": "code",
   "execution_count": 104,
   "metadata": {},
   "outputs": [
    {
     "name": "stdout",
     "output_type": "stream",
     "text": [
      "Writing add_date_project_to_files.py\n"
     ]
    }
   ],
   "source": [
    "%%file add_date_project_to_files.py\n",
    "def add_date_project_filename(path, project_identifier):\n",
    "    \"\"\"add date and project info to filenames\n",
    "    \n",
    "    The function will add the date and the custom information \n",
    "    in front of the filenames, overwriting the original \n",
    "    file names. e.g. a_name.jpg -> 20170705_projectname_a_name.jpg\n",
    "    \n",
    "    Parameters\n",
    "    ----------\n",
    "    path : str\n",
    "        input path information, taking into account regex-information \n",
    "        as used by glob library    \n",
    "    project_identifier : str\n",
    "        custom identifier provided by the user\n",
    "    \"\"\"\n",
    "    today = datetime.date.today().strftime(\"%Y%m%d\")\n",
    "\n",
    "    for filename in glob.glob(path):\n",
    "        relpath, file = os.path.split(filename)\n",
    "        new_filename = today + \"_\" + project_identifier + \"_\" + file\n",
    "        print(\"Renaming \", filename, \" to \", os.path.join(relpath, new_filename))\n",
    "        os.rename(filename, os.path.join(relpath, new_filename))"
   ]
  },
  {
   "cell_type": "markdown",
   "metadata": {},
   "source": [
    "### When we need the functionality..."
   ]
  },
  {
   "cell_type": "code",
   "execution_count": 105,
   "metadata": {
    "collapsed": true
   },
   "outputs": [],
   "source": [
    "from add_date_project_to_files import add_date_project_filename"
   ]
  },
  {
   "cell_type": "code",
   "execution_count": null,
   "metadata": {
    "collapsed": true
   },
   "outputs": [],
   "source": []
  }
 ],
 "metadata": {
  "kernelspec": {
   "display_name": "Python 3",
   "language": "python",
   "name": "python3"
  },
  "language_info": {
   "codemirror_mode": {
    "name": "ipython",
    "version": 3
   },
   "file_extension": ".py",
   "mimetype": "text/x-python",
   "name": "python",
   "nbconvert_exporter": "python",
   "pygments_lexer": "ipython3",
   "version": "3.5.3"
  },
  "nav_menu": {},
  "toc": {
   "navigate_menu": true,
   "number_sections": true,
   "sideBar": true,
   "threshold": 6,
   "toc_cell": false,
   "toc_section_display": "block",
   "toc_window_display": true
  }
 },
 "nbformat": 4,
 "nbformat_minor": 2
}
